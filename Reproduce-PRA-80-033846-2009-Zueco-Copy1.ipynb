{
 "cells": [
  {
   "cell_type": "markdown",
   "metadata": {},
   "source": [
    "# Reproduce: Qubit-oscillator dynamics in the dispersive regime"
   ]
  },
  {
   "cell_type": "markdown",
   "metadata": {},
   "source": [
    "### Analytic theory beyond the rotating-wave approximation"
   ]
  },
  {
   "cell_type": "markdown",
   "metadata": {},
   "source": [
    "D. Zueco, G. M. Reuther, S. Kohler, and P. Hänggi, <a href=\"http://journals.aps.org/pra/abstract/10.1103/PhysRevA.80.033846\">Phys. Rev. A <b>80</b>, 033846 (2009).</a>\n"
   ]
  },
  {
   "cell_type": "markdown",
   "metadata": {},
   "source": [
    "Reproduced by <b>Eunjong Kim</b> (<a href=\"mailto:ekim7206@gmail.com\">ekim7206@gmail.com</a>)"
   ]
  },
  {
   "cell_type": "markdown",
   "metadata": {},
   "source": [
    "## Setup Modules"
   ]
  },
  {
   "cell_type": "code",
   "execution_count": 8,
   "metadata": {},
   "outputs": [],
   "source": [
    "from sympy import *\n",
    "init_printing()"
   ]
  },
  {
   "cell_type": "code",
   "execution_count": 9,
   "metadata": {},
   "outputs": [],
   "source": [
    "from sympy.core.compatibility import u"
   ]
  },
  {
   "cell_type": "code",
   "execution_count": 10,
   "metadata": {},
   "outputs": [],
   "source": [
    "from sympsi import *\n",
    "from sympsi.boson import BosonOp\n",
    "from sympsi.pauli import (SigmaX, SigmaY, SigmaZ,\n",
    "                          SigmaPlus, SigmaMinus)"
   ]
  },
  {
   "cell_type": "markdown",
   "metadata": {},
   "source": [
    "## The Jaynes-Cummings Model"
   ]
  },
  {
   "cell_type": "markdown",
   "metadata": {},
   "source": [
    "The Jaynes-Cummings model describes the light-matter interaction as a single harmonic oscillator and a two-level system. Within dipole approximation, the model is expressed by the Hamiltonian"
   ]
  },
  {
   "cell_type": "markdown",
   "metadata": {},
   "source": [
    "\\begin{align}\n",
    "H = \\frac{\\hbar\\epsilon}{2}\\sigma_z + \\hbar\\omega a^\\dagger a + \\hbar g \\sigma_x (a + a^\\dagger)\n",
    "\\end{align}"
   ]
  },
  {
   "cell_type": "markdown",
   "metadata": {},
   "source": [
    "where $\\hbar\\epsilon$ is the level splitting of the two-level system, henchforth <i>qubit</i>, $\\omega$ is the frequency of the EM field mode, and $g$ is the dipole interaction strength."
   ]
  },
  {
   "cell_type": "markdown",
   "metadata": {},
   "source": [
    "Here, $\\sigma_\\alpha$, $\\alpha=x, y, z$, are Pauli spin matrices\n",
    "\\begin{align}\n",
    "\\sigma_{x} = \\begin{pmatrix} 0 & 1 \\\\ 1 & 0 \\end{pmatrix},\\quad\n",
    "\\sigma_{y} = \\begin{pmatrix} 0 & -i \\\\ i & 0 \\end{pmatrix}, \\quad\n",
    "\\sigma_{z} = \\begin{pmatrix} 1 & 0 \\\\ 0 & -1 \\end{pmatrix},\n",
    "\\end{align}"
   ]
  },
  {
   "cell_type": "markdown",
   "metadata": {},
   "source": [
    "and $a^\\dagger$, $a$ are bosonic creation and annihilation operators of the EM field mode."
   ]
  },
  {
   "cell_type": "markdown",
   "metadata": {},
   "source": [
    "To represent the Jaynes-Cummings model in SymPy, we use the operator classes <tt>BosonOp</tt> and <tt>SigmaX</tt>, <tt>SigmaY</tt>, and <tt>SigmaZ</tt>, and use these to construct the Hamiltonian (we work in units where $\\hbar = 1$)."
   ]
  },
  {
   "cell_type": "code",
   "execution_count": 4,
   "metadata": {},
   "outputs": [],
   "source": [
    "w, e, g, D, t, Hsym = symbols(\"omega, epsilon, g, Delta, t, H\")\n",
    "sx, sy, sz = SigmaX(), SigmaY(), SigmaZ()\n",
    "a = BosonOp(\"a\")"
   ]
  },
  {
   "cell_type": "code",
   "execution_count": 5,
   "metadata": {},
   "outputs": [
    {
     "data": {
      "image/png": "[encoded data removed]",
      "text/latex": [
       "$$H = \\frac{\\epsilon {\\sigma_z}}{2} + g {\\sigma_x} \\left({{a}^\\dagger} + {a}\\right) + \\omega {{a}^\\dagger} {a}$$"
      ],
      "text/plain": [
       "    ε⋅False           ⎛ †    ⎞      †  \n",
       "H = ─────── + g⋅False⋅⎝a  + a⎠ + ω⋅a ⋅a\n",
       "       2                               "
      ]
     },
     "execution_count": 5,
     "metadata": {},
     "output_type": "execute_result"
    }
   ],
   "source": [
    "H0 = w * Dagger(a) * a + e / 2 * sz\n",
    "Hint = g * sx * (a + Dagger(a))\n",
    "H = H0 + Hint\n",
    "Eq(Hsym, H)"
   ]
  },
  {
   "cell_type": "markdown",
   "metadata": {},
   "source": [
    "This Hamiltonian cannot be diagonalized exactly, and is often simplified by a rotating-wave approximation(RWA)."
   ]
  },
  {
   "cell_type": "markdown",
   "metadata": {},
   "source": [
    "We express the qubit-cavity interaction terms of the ladder operators $\\sigma_{\\pm} = \\frac{1}{2}(\\sigma_x \\pm i\\sigma_y)$. In the language of SymPy, these operators are written as:"
   ]
  },
  {
   "cell_type": "code",
   "execution_count": 6,
   "metadata": {},
   "outputs": [],
   "source": [
    "sp, sm = SigmaPlus(), SigmaMinus()"
   ]
  },
  {
   "cell_type": "markdown",
   "metadata": {},
   "source": [
    "We move to a frame co-rotating with the qubit and oscillator frequency."
   ]
  },
  {
   "cell_type": "code",
   "execution_count": 7,
   "metadata": {},
   "outputs": [
    {
     "data": {
      "image/png": "[encoded data removed]",
      "text/latex": [
       "$$U_{1} = e^{i \\omega t {{a}^\\dagger} {a}}$$"
      ],
      "text/plain": [
       "             †  \n",
       "      ⅈ⋅ω⋅t⋅a ⋅a\n",
       "U₁ = ℯ          "
      ]
     },
     "execution_count": 7,
     "metadata": {},
     "output_type": "execute_result"
    }
   ],
   "source": [
    "U1 = exp(I * w * t * Dagger(a) * a); Eq(symbols(\"U_1\"), U1)"
   ]
  },
  {
   "cell_type": "code",
   "execution_count": 7,
   "metadata": {},
   "outputs": [
    {
     "data": {
      "image/png": "[encoded data removed]",
      "text/latex": [
       "$$U_{2} = e^{\\frac{i \\epsilon}{2} t {\\sigma_z}}$$"
      ],
      "text/plain": [
       "      ⅈ⋅ε⋅t⋅False\n",
       "      ───────────\n",
       "           2     \n",
       "U₂ = ℯ           "
      ]
     },
     "execution_count": 7,
     "metadata": {},
     "output_type": "execute_result"
    }
   ],
   "source": [
    "U2 = exp(I * e * t * sz / 2); Eq(symbols(\"U_2\"), U2)"
   ]
  },
  {
   "cell_type": "code",
   "execution_count": 8,
   "metadata": {},
   "outputs": [
    {
     "data": {
      "image/png": "[encoded data removed]",
      "text/latex": [
       "$$\\frac{\\epsilon {\\sigma_z}}{2} + g e^{i \\omega t} {\\sigma_x} {{a}^\\dagger} + g e^{- i \\omega t} {\\sigma_x} {a}$$"
      ],
      "text/plain": [
       "ε⋅False      ⅈ⋅ω⋅t        †      -ⅈ⋅ω⋅t        \n",
       "─────── + g⋅ℯ     ⋅False⋅a  + g⋅ℯ      ⋅False⋅a\n",
       "   2                                           "
      ]
     },
     "execution_count": 8,
     "metadata": {},
     "output_type": "execute_result"
    }
   ],
   "source": [
    "H1 = hamiltonian_transformation(U1, H.expand()); H1"
   ]
  },
  {
   "cell_type": "code",
   "execution_count": 9,
   "metadata": {},
   "outputs": [
    {
     "data": {
      "image/png": "[encoded data removed]",
      "text/latex": [
       "$$g e^{i \\omega t} \\left(- \\sin{\\left (\\epsilon t \\right )} {\\sigma_y} + \\cos{\\left (\\epsilon t \\right )} {\\sigma_x}\\right) {{a}^\\dagger} + g e^{- i \\omega t} \\left(- \\sin{\\left (\\epsilon t \\right )} {\\sigma_y} + \\cos{\\left (\\epsilon t \\right )} {\\sigma_x}\\right) {a}$$"
      ],
      "text/plain": [
       "   ⅈ⋅ω⋅t                                     †      -ⅈ⋅ω⋅t                    \n",
       "g⋅ℯ     ⋅(-sin(ε⋅t)⋅False + cos(ε⋅t)⋅False)⋅a  + g⋅ℯ      ⋅(-sin(ε⋅t)⋅False + \n",
       "\n",
       "                 \n",
       "cos(ε⋅t)⋅False)⋅a"
      ]
     },
     "execution_count": 9,
     "metadata": {},
     "output_type": "execute_result"
    }
   ],
   "source": [
    "H2 = hamiltonian_transformation(U2, H1.expand()); H2"
   ]
  },
  {
   "cell_type": "code",
   "execution_count": 10,
   "metadata": {},
   "outputs": [
    {
     "data": {
      "image/png": "[encoded data removed]",
      "text/latex": [
       "$$g e^{- i \\epsilon t - i \\omega t} {\\sigma_-} {a} + g e^{- i \\epsilon t + i \\omega t} {\\sigma_-} {{a}^\\dagger} + g e^{i \\epsilon t - i \\omega t} {\\sigma_+} {a} + g e^{i \\epsilon t + i \\omega t} {\\sigma_+} {{a}^\\dagger}$$"
      ],
      "text/plain": [
       "   -ⅈ⋅ε⋅t - ⅈ⋅ω⋅t              -ⅈ⋅ε⋅t + ⅈ⋅ω⋅t        †      ⅈ⋅ε⋅t - ⅈ⋅ω⋅t     \n",
       "g⋅ℯ              ⋅False⋅a + g⋅ℯ              ⋅False⋅a  + g⋅ℯ             ⋅Fals\n",
       "\n",
       "         ⅈ⋅ε⋅t + ⅈ⋅ω⋅t        †\n",
       "e⋅a + g⋅ℯ             ⋅False⋅a "
      ]
     },
     "execution_count": 10,
     "metadata": {},
     "output_type": "execute_result"
    }
   ],
   "source": [
    "H3 = pauli_represent_minus_plus(H2).rewrite((sin,cos), exp).expand()\n",
    "H3 = powsimp(H3); H3"
   ]
  },
  {
   "cell_type": "code",
   "execution_count": 11,
   "metadata": {},
   "outputs": [],
   "source": [
    "# Trick to simplify exponents\n",
    "def simplify_exp(e):\n",
    "    if isinstance(e, exp):\n",
    "        return exp(simplify(e.exp.expand()))\n",
    "    \n",
    "    if isinstance(e, (Add, Mul)):\n",
    "        return type(e)(*(simplify_exp(arg) for arg in e.args))\n",
    "    \n",
    "    return e"
   ]
  },
  {
   "cell_type": "markdown",
   "metadata": {},
   "source": [
    "We introduce the detuning $\\Delta = \\epsilon - \\omega$ and substitute into the expression"
   ]
  },
  {
   "cell_type": "code",
   "execution_count": 12,
   "metadata": {},
   "outputs": [
    {
     "data": {
      "image/png": "[encoded data removed]",
      "text/latex": [
       "$$g e^{i \\Delta t} {\\sigma_+} {a} + g e^{i t \\left(\\epsilon + \\omega\\right)} {\\sigma_+} {{a}^\\dagger} + g e^{- i t \\left(\\epsilon + \\omega\\right)} {\\sigma_-} {a} + g e^{- i \\Delta t} {\\sigma_-} {{a}^\\dagger}$$"
      ],
      "text/plain": [
       "   ⅈ⋅Δ⋅t              ⅈ⋅t⋅(ε + ω)        †      -ⅈ⋅t⋅(ε + ω)              -ⅈ⋅Δ\n",
       "g⋅ℯ     ⋅False⋅a + g⋅ℯ           ⋅False⋅a  + g⋅ℯ            ⋅False⋅a + g⋅ℯ    \n",
       "\n",
       "⋅t        †\n",
       "  ⋅False⋅a "
      ]
     },
     "execution_count": 12,
     "metadata": {},
     "output_type": "execute_result"
    }
   ],
   "source": [
    "H4 = simplify_exp(H3).subs(e - w, D); H4"
   ]
  },
  {
   "cell_type": "markdown",
   "metadata": {},
   "source": [
    "In the interaction picture, with respect to the uncoupled hamiltonian $H_0 = \\hbar\\epsilon\\sigma_z/2 + \\hbar\\omega a^\\dagger a$, the coupling operators $\\sigma_+ a, \\sigma_-a^\\dagger$ and $\\sigma_- a, \\sigma_+ a^\\dagger$ oscillate with the phase factors $\\exp[\\pm i(\\omega-\\epsilon)t]$ and $\\exp[\\pm i(\\omega+\\epsilon)t]$, respectively."
   ]
  },
  {
   "cell_type": "markdown",
   "metadata": {},
   "source": [
    "Operating at or near resonance, the cavity-qubit detuning is small, $|\\epsilon-\\omega|\\ll\\epsilon+\\omega$, so that the former operators oscillate slowly, whereas the latter exhibit fast <i>counter-rotating</i> oscillations. If in addition, the coupling is sufficiently weak $g\\ll \\min\\{\\epsilon,\\omega\\}$, one can separate time scales and replace the counter-rotating terms by their vanishing time average."
   ]
  },
  {
   "cell_type": "markdown",
   "metadata": {},
   "source": [
    "We drop the fast oscillating terms containing the factors $e^{\\pm i(\\omega+\\epsilon)t}$"
   ]
  },
  {
   "cell_type": "code",
   "execution_count": 13,
   "metadata": {},
   "outputs": [
    {
     "data": {
      "image/png": "[encoded data removed]",
      "text/latex": [
       "$$g e^{i \\Delta t} {\\sigma_+} {a} + g e^{- i \\Delta t} {\\sigma_-} {{a}^\\dagger}$$"
      ],
      "text/plain": [
       "   ⅈ⋅Δ⋅t              -ⅈ⋅Δ⋅t        †\n",
       "g⋅ℯ     ⋅False⋅a + g⋅ℯ      ⋅False⋅a "
      ]
     },
     "execution_count": 13,
     "metadata": {},
     "output_type": "execute_result"
    }
   ],
   "source": [
    "H5 = drop_terms_containing(H4, [exp( I * (w + e) * t),\n",
    "                                exp(-I * (w + e) * t)])\n",
    "H5 = drop_c_number_terms(H5.expand())\n",
    "\n",
    "H5"
   ]
  },
  {
   "cell_type": "markdown",
   "metadata": {},
   "source": [
    "This is the Jaynes-Cummings model in the interaction picture. If we transform back to the Schrödinger picture, we have:"
   ]
  },
  {
   "cell_type": "code",
   "execution_count": 14,
   "metadata": {},
   "outputs": [
    {
     "data": {
      "image/png": "[encoded data removed]",
      "text/latex": [
       "$$g e^{i \\Delta t} e^{i \\omega t} {\\sigma_+} {a} + g e^{- i \\Delta t} e^{- i \\omega t} {\\sigma_-} {{a}^\\dagger} + \\omega {{a}^\\dagger} {a}$$"
      ],
      "text/plain": [
       "   ⅈ⋅Δ⋅t  ⅈ⋅ω⋅t              -ⅈ⋅Δ⋅t  -ⅈ⋅ω⋅t        †      †  \n",
       "g⋅ℯ     ⋅ℯ     ⋅False⋅a + g⋅ℯ      ⋅ℯ      ⋅False⋅a  + ω⋅a ⋅a"
      ]
     },
     "execution_count": 14,
     "metadata": {},
     "output_type": "execute_result"
    }
   ],
   "source": [
    "U3 = exp(-I * w * t * Dagger(a) * a)\n",
    "H6 = hamiltonian_transformation(U3, H5); H6"
   ]
  },
  {
   "cell_type": "code",
   "execution_count": 15,
   "metadata": {},
   "outputs": [
    {
     "data": {
      "image/png": "[encoded data removed]",
      "text/latex": [
       "$$\\frac{\\epsilon {\\sigma_z}}{2} + g e^{i \\Delta t} e^{- i \\epsilon t} e^{i \\omega t} {\\sigma_+} {a} + g e^{- i \\Delta t} e^{i \\epsilon t} e^{- i \\omega t} {\\sigma_-} {{a}^\\dagger} + \\omega {{a}^\\dagger} {a}$$"
      ],
      "text/plain": [
       "ε⋅False      ⅈ⋅Δ⋅t  -ⅈ⋅ε⋅t  ⅈ⋅ω⋅t              -ⅈ⋅Δ⋅t  ⅈ⋅ε⋅t  -ⅈ⋅ω⋅t        † \n",
       "─────── + g⋅ℯ     ⋅ℯ      ⋅ℯ     ⋅False⋅a + g⋅ℯ      ⋅ℯ     ⋅ℯ      ⋅False⋅a  \n",
       "   2                                                                          \n",
       "\n",
       "     †  \n",
       "+ ω⋅a ⋅a\n",
       "        "
      ]
     },
     "execution_count": 15,
     "metadata": {},
     "output_type": "execute_result"
    }
   ],
   "source": [
    "U4 = exp(-I * e * t * sz / 2)\n",
    "H7 = hamiltonian_transformation(U4, H6.expand()); H7"
   ]
  },
  {
   "cell_type": "code",
   "execution_count": 16,
   "metadata": {},
   "outputs": [
    {
     "data": {
      "image/png": "[encoded data removed]",
      "text/latex": [
       "$$H_{RWA} = \\frac{\\epsilon {\\sigma_z}}{2} + g {\\sigma_x} \\left({{a}^\\dagger} + {a}\\right) + \\omega {{a}^\\dagger} {a}$$"
      ],
      "text/plain": [
       "        ε⋅False           ⎛ †    ⎞      †  \n",
       "H_RWA = ─────── + g⋅False⋅⎝a  + a⎠ + ω⋅a ⋅a\n",
       "           2                               "
      ]
     },
     "execution_count": 16,
     "metadata": {},
     "output_type": "execute_result"
    }
   ],
   "source": [
    "H8 = simplify_exp(H7).subs(D, e - w)\n",
    "\n",
    "H8 = simplify_exp(powsimp(H8)).expand()\n",
    "\n",
    "H8 = drop_c_number_terms(H8)\n",
    "\n",
    "Hrwa = collect(H8, g)\n",
    "\n",
    "Eq(symbols(\"H_RWA\"), H)"
   ]
  },
  {
   "cell_type": "markdown",
   "metadata": {},
   "source": [
    "This is the Jaynes-Cummings Hamiltonian."
   ]
  },
  {
   "cell_type": "markdown",
   "metadata": {},
   "source": [
    "## Dispersive Theory within RWA"
   ]
  },
  {
   "cell_type": "markdown",
   "metadata": {},
   "source": [
    "The dispersive regime is characterized by a large detuning $\\Delta = \\epsilon - \\omega$ as compared to the qubit-oscillator coupling $g$. Thus, the factor"
   ]
  },
  {
   "cell_type": "markdown",
   "metadata": {},
   "source": [
    "\\begin{align} \\lambda\\equiv\\frac{g}{\\Delta} \\end{align}"
   ]
  },
  {
   "cell_type": "markdown",
   "metadata": {},
   "source": [
    "is a small parameter, while the RWA Hamiltonian is valid for $|\\epsilon - \\omega|\\ll \\epsilon+\\omega$."
   ]
  },
  {
   "cell_type": "markdown",
   "metadata": {},
   "source": [
    "It is easier if we separate the coupling term from the RWA Hamiltonian."
   ]
  },
  {
   "cell_type": "markdown",
   "metadata": {},
   "source": [
    "Defining the operators $X_{\\pm} = \\sigma_{-}a^\\dagger \\pm \\sigma_{+}a$,"
   ]
  },
  {
   "cell_type": "code",
   "execution_count": 17,
   "metadata": {},
   "outputs": [
    {
     "data": {
      "image/png": "[encoded data removed]",
      "text/latex": [
       "$$X_{+} = {\\sigma_-} {{a}^\\dagger} + {\\sigma_+} {a}$$"
      ],
      "text/plain": [
       "            †          \n",
       "X₊ = False⋅a  + False⋅a"
      ]
     },
     "execution_count": 17,
     "metadata": {},
     "output_type": "execute_result"
    }
   ],
   "source": [
    "Xp = sm * Dagger(a) + sp * a; Eq(symbols(\"X_+\"),Xp)"
   ]
  },
  {
   "cell_type": "code",
   "execution_count": 18,
   "metadata": {},
   "outputs": [
    {
     "data": {
      "image/png": "[encoded data removed]",
      "text/latex": [
       "$$X_{-} = {\\sigma_-} {{a}^\\dagger} - {\\sigma_+} {a}$$"
      ],
      "text/plain": [
       "            †          \n",
       "X₋ = False⋅a  - False⋅a"
      ]
     },
     "execution_count": 18,
     "metadata": {},
     "output_type": "execute_result"
    }
   ],
   "source": [
    "Xm = sm * Dagger(a) - sp * a; Eq(symbols(\"X_-\"),Xm)"
   ]
  },
  {
   "cell_type": "markdown",
   "metadata": {},
   "source": [
    "The RWA Hamiltonian is expressed as\n",
    "\\begin{align} H_{RWA} = H_0 + \\hbar g X_+ \\end{align}\n",
    "where $H_0$ is the non-interacting Hamiltonian\n",
    "\\begin{align} H_0 \\equiv \\frac{\\hbar\\epsilon}{2} \\sigma_z +\\hbar\\omega a^\\dagger a\n",
    "\\end{align}"
   ]
  },
  {
   "cell_type": "code",
   "execution_count": 19,
   "metadata": {},
   "outputs": [
    {
     "data": {
      "image/png": "[encoded data removed]",
      "text/latex": [
       "$$H_{0} = \\frac{\\epsilon {\\sigma_z}}{2} + \\omega {{a}^\\dagger} {a}$$"
      ],
      "text/plain": [
       "     ε⋅False      †  \n",
       "H₀ = ─────── + ω⋅a ⋅a\n",
       "        2            "
      ]
     },
     "execution_count": 19,
     "metadata": {},
     "output_type": "execute_result"
    }
   ],
   "source": [
    "H0 = e/2 * sz + w * Dagger(a) * a; Eq(symbols(\"H_0\"),H0)"
   ]
  },
  {
   "cell_type": "code",
   "execution_count": 20,
   "metadata": {},
   "outputs": [
    {
     "data": {
      "image/png": "[encoded data removed]",
      "text/latex": [
       "$$H_{RWA} = \\frac{\\epsilon {\\sigma_z}}{2} + g \\left({\\sigma_-} {{a}^\\dagger} + {\\sigma_+} {a}\\right) + \\omega {{a}^\\dagger} {a}$$"
      ],
      "text/plain": [
       "        ε⋅False     ⎛       †          ⎞      †  \n",
       "H_RWA = ─────── + g⋅⎝False⋅a  + False⋅a⎠ + ω⋅a ⋅a\n",
       "           2                                     "
      ]
     },
     "execution_count": 20,
     "metadata": {},
     "output_type": "execute_result"
    }
   ],
   "source": [
    "Hrwa = H0 + g * Xp; Eq(symbols(\"H_RWA\"), Hrwa)"
   ]
  },
  {
   "cell_type": "markdown",
   "metadata": {},
   "source": [
    "We apply the unitary transformation\\begin{align}\n",
    "D_{RWA} \\equiv e^{- \\lambda X_-} = e^{-\\lambda(\\sigma_- a^\\dagger -\\sigma_{+} a)}\n",
    "\\end{align}"
   ]
  },
  {
   "cell_type": "markdown",
   "metadata": {},
   "source": [
    "to obtain the dispersive Hamiltonian $H_{RWA, \\textrm{disp}} = D_{RWA} H_{RWA} D_{RWA}^\\dagger$ to the second order in $\\lambda$:\n",
    "\\begin{align}\n",
    "H_{RWA, \\textrm{disp}} = H_{RWA} + \\lambda [H_{RWA}, X_-] + \\frac{1}{2}\\lambda^2 [[H_{RWA},X_-],X_-]\n",
    "\\end{align}"
   ]
  },
  {
   "cell_type": "markdown",
   "metadata": {},
   "source": [
    "In the language of SymPy,"
   ]
  },
  {
   "cell_type": "code",
   "execution_count": 21,
   "metadata": {},
   "outputs": [
    {
     "data": {
      "image/png": "[encoded data removed]",
      "text/latex": [
       "$$D_{RWA} = e^{- \\lambda \\left({\\sigma_-} {{a}^\\dagger} - {\\sigma_+} {a}\\right)}$$"
      ],
      "text/plain": [
       "            ⎛       †          ⎞\n",
       "         -λ⋅⎝False⋅a  - False⋅a⎠\n",
       "D_RWA = ℯ                       "
      ]
     },
     "execution_count": 21,
     "metadata": {},
     "output_type": "execute_result"
    }
   ],
   "source": [
    "l = symbols(\"lambda\", real = True)\n",
    "Drwa = exp(-l * Xm); Eq(symbols(\"D_RWA\"), Drwa)"
   ]
  },
  {
   "cell_type": "markdown",
   "metadata": {},
   "source": [
    "The transformed Hamiltonian is:"
   ]
  },
  {
   "cell_type": "code",
   "execution_count": 22,
   "metadata": {},
   "outputs": [
    {
     "data": {
      "image/png": "[encoded data removed]",
      "text/latex": [
       "$$- \\frac{\\epsilon \\lambda^{2}}{2} - \\epsilon \\lambda^{2} {{a}^\\dagger} {a} {\\sigma_z} - \\frac{\\epsilon \\lambda^{2}}{2} {\\sigma_z} - \\epsilon \\lambda {{a}^\\dagger} {\\sigma_-} - \\epsilon \\lambda {a} {\\sigma_+} + \\frac{\\epsilon {\\sigma_z}}{2} + g \\lambda^{4} {{a}^\\dagger} \\left({a}\\right)^{2} {\\sigma_+} - \\frac{3 g}{4} \\lambda^{4} {{a}^\\dagger} {\\sigma_-} - g \\lambda^{4} \\left({{a}^\\dagger}\\right)^{2} {a} {\\sigma_-} + \\frac{5 g}{4} \\lambda^{4} {a} {\\sigma_+} - 2 g \\lambda^{2} {{a}^\\dagger} \\left({a}\\right)^{2} {\\sigma_+} - 2 g \\lambda^{2} {{a}^\\dagger} {\\sigma_-} - 2 g \\lambda^{2} \\left({{a}^\\dagger}\\right)^{2} {a} {\\sigma_-} - 2 g \\lambda^{2} {a} {\\sigma_+} + g \\lambda + 2 g \\lambda {{a}^\\dagger} {a} {\\sigma_z} + g \\lambda {\\sigma_z} + g {{a}^\\dagger} {\\sigma_-} + g {a} {\\sigma_+} + \\frac{\\lambda^{4} \\omega}{4} {{a}^\\dagger} {a} - \\frac{\\lambda^{3} \\omega}{2} {{a}^\\dagger} {\\sigma_-} - \\frac{\\lambda^{3} \\omega}{2} {a} {\\sigma_+} + \\frac{\\lambda^{2} \\omega}{2} + \\lambda^{2} \\omega {{a}^\\dagger} {a} {\\sigma_z} + \\frac{\\lambda^{2} \\omega}{2} {\\sigma_z} + \\lambda \\omega {{a}^\\dagger} {\\sigma_-} + \\lambda \\omega {a} {\\sigma_+} + \\omega {{a}^\\dagger} {a}$$"
      ],
      "text/plain": [
       "     2                        2                                               \n",
       "  ε⋅λ       2  †           ε⋅λ ⋅False        †                       ε⋅False  \n",
       "- ──── - ε⋅λ ⋅a ⋅a⋅False - ────────── - ε⋅λ⋅a ⋅False - ε⋅λ⋅a⋅False + ─────── +\n",
       "   2                           2                                        2     \n",
       "\n",
       "                         4  †                  2                4             \n",
       "    4  †  2         3⋅g⋅λ ⋅a ⋅False      4 ⎛ †⎞            5⋅g⋅λ ⋅a⋅False     \n",
       " g⋅λ ⋅a ⋅a ⋅False - ─────────────── - g⋅λ ⋅⎝a ⎠ ⋅a⋅False + ────────────── - 2⋅\n",
       "                           4                                     4            \n",
       "\n",
       "                                                2                             \n",
       "   2  †  2              2  †              2 ⎛ †⎞                 2            \n",
       "g⋅λ ⋅a ⋅a ⋅False - 2⋅g⋅λ ⋅a ⋅False - 2⋅g⋅λ ⋅⎝a ⎠ ⋅a⋅False - 2⋅g⋅λ ⋅a⋅False + g\n",
       "                                                                              \n",
       "\n",
       "                                                              4    †      3   \n",
       "            †                          †                     λ ⋅ω⋅a ⋅a   λ ⋅ω⋅\n",
       "⋅λ + 2⋅g⋅λ⋅a ⋅a⋅False + g⋅λ⋅False + g⋅a ⋅False + g⋅a⋅False + ───────── - ─────\n",
       "                                                                 4            \n",
       "\n",
       " †          3              2                        2                         \n",
       "a ⋅False   λ ⋅ω⋅a⋅False   λ ⋅ω    2    †           λ ⋅ω⋅False        †        \n",
       "──────── - ──────────── + ──── + λ ⋅ω⋅a ⋅a⋅False + ────────── + λ⋅ω⋅a ⋅False +\n",
       " 2              2          2                           2                      \n",
       "\n",
       "                     \n",
       "                  †  \n",
       " λ⋅ω⋅a⋅False + ω⋅a ⋅a\n",
       "                     "
      ]
     },
     "execution_count": 22,
     "metadata": {},
     "output_type": "execute_result"
    }
   ],
   "source": [
    "H1 = hamiltonian_transformation(Drwa, Hrwa.expand(), expansion_search=False, N=3).expand()\n",
    "\n",
    "H1 = qsimplify(H1)\n",
    "\n",
    "H1"
   ]
  },
  {
   "cell_type": "markdown",
   "metadata": {},
   "source": [
    "We drop the terms of orders in lambda higher than 2."
   ]
  },
  {
   "cell_type": "code",
   "execution_count": 23,
   "metadata": {},
   "outputs": [
    {
     "data": {
      "image/png": "[encoded data removed]",
      "text/latex": [
       "$$- \\frac{\\epsilon \\lambda^{2}}{2} - \\epsilon \\lambda^{2} {{a}^\\dagger} {a} {\\sigma_z} - \\frac{\\epsilon \\lambda^{2}}{2} {\\sigma_z} - \\epsilon \\lambda {{a}^\\dagger} {\\sigma_-} - \\epsilon \\lambda {a} {\\sigma_+} + \\frac{\\epsilon {\\sigma_z}}{2} - 2 g \\lambda^{2} {{a}^\\dagger} \\left({a}\\right)^{2} {\\sigma_+} - 2 g \\lambda^{2} {{a}^\\dagger} {\\sigma_-} - 2 g \\lambda^{2} \\left({{a}^\\dagger}\\right)^{2} {a} {\\sigma_-} - 2 g \\lambda^{2} {a} {\\sigma_+} + g \\lambda + 2 g \\lambda {{a}^\\dagger} {a} {\\sigma_z} + g \\lambda {\\sigma_z} + g {{a}^\\dagger} {\\sigma_-} + g {a} {\\sigma_+} + \\frac{\\lambda^{2} \\omega}{2} + \\lambda^{2} \\omega {{a}^\\dagger} {a} {\\sigma_z} + \\frac{\\lambda^{2} \\omega}{2} {\\sigma_z} + \\lambda \\omega {{a}^\\dagger} {\\sigma_-} + \\lambda \\omega {a} {\\sigma_+} + \\omega {{a}^\\dagger} {a}$$"
      ],
      "text/plain": [
       "     2                        2                                               \n",
       "  ε⋅λ       2  †           ε⋅λ ⋅False        †                       ε⋅False  \n",
       "- ──── - ε⋅λ ⋅a ⋅a⋅False - ────────── - ε⋅λ⋅a ⋅False - ε⋅λ⋅a⋅False + ─────── -\n",
       "   2                           2                                        2     \n",
       "\n",
       "                                                   2                          \n",
       "      2  †  2              2  †              2 ⎛ †⎞                 2         \n",
       " 2⋅g⋅λ ⋅a ⋅a ⋅False - 2⋅g⋅λ ⋅a ⋅False - 2⋅g⋅λ ⋅⎝a ⎠ ⋅a⋅False - 2⋅g⋅λ ⋅a⋅False \n",
       "                                                                              \n",
       "\n",
       "                                                                 2            \n",
       "               †                          †                     λ ⋅ω    2    †\n",
       "+ g⋅λ + 2⋅g⋅λ⋅a ⋅a⋅False + g⋅λ⋅False + g⋅a ⋅False + g⋅a⋅False + ──── + λ ⋅ω⋅a \n",
       "                                                                 2            \n",
       "\n",
       "            2                                              \n",
       "           λ ⋅ω⋅False        †                          †  \n",
       "⋅a⋅False + ────────── + λ⋅ω⋅a ⋅False + λ⋅ω⋅a⋅False + ω⋅a ⋅a\n",
       "               2                                           "
      ]
     },
     "execution_count": 23,
     "metadata": {},
     "output_type": "execute_result"
    }
   ],
   "source": [
    "H2 = drop_terms_containing(H1.expand(), [l**3, l**4]); H2"
   ]
  },
  {
   "cell_type": "markdown",
   "metadata": {},
   "source": [
    "and substitute $g/\\Delta$ in place of $\\lambda$."
   ]
  },
  {
   "cell_type": "code",
   "execution_count": 24,
   "metadata": {},
   "outputs": [
    {
     "data": {
      "image/png": "[encoded data removed]",
      "text/latex": [
       "$$\\frac{\\epsilon {\\sigma_z}}{2} + g {{a}^\\dagger} {\\sigma_-} + g {a} {\\sigma_+} + \\omega {{a}^\\dagger} {a} - \\frac{\\epsilon g}{\\Delta} {{a}^\\dagger} {\\sigma_-} - \\frac{\\epsilon g}{\\Delta} {a} {\\sigma_+} + \\frac{g^{2}}{\\Delta} + \\frac{2 g^{2}}{\\Delta} {{a}^\\dagger} {a} {\\sigma_z} + \\frac{g^{2} {\\sigma_z}}{\\Delta} + \\frac{g \\omega}{\\Delta} {{a}^\\dagger} {\\sigma_-} + \\frac{g \\omega}{\\Delta} {a} {\\sigma_+} - \\frac{\\epsilon g^{2}}{2 \\Delta^{2}} - \\frac{\\epsilon g^{2}}{\\Delta^{2}} {{a}^\\dagger} {a} {\\sigma_z} - \\frac{\\epsilon g^{2} {\\sigma_z}}{2 \\Delta^{2}} - \\frac{2 g^{3}}{\\Delta^{2}} {{a}^\\dagger} \\left({a}\\right)^{2} {\\sigma_+} - \\frac{2 g^{3}}{\\Delta^{2}} {{a}^\\dagger} {\\sigma_-} - \\frac{2 g^{3}}{\\Delta^{2}} \\left({{a}^\\dagger}\\right)^{2} {a} {\\sigma_-} - \\frac{2 g^{3}}{\\Delta^{2}} {a} {\\sigma_+} + \\frac{g^{2} \\omega}{2 \\Delta^{2}} + \\frac{g^{2} \\omega}{\\Delta^{2}} {{a}^\\dagger} {a} {\\sigma_z} + \\frac{g^{2} \\omega {\\sigma_z}}{2 \\Delta^{2}}$$"
      ],
      "text/plain": [
       "                                                                              \n",
       "                                                 †                        2   \n",
       "ε⋅False      †                        †     ε⋅g⋅a ⋅False   ε⋅g⋅a⋅False   g    \n",
       "─────── + g⋅a ⋅False + g⋅a⋅False + ω⋅a ⋅a - ──────────── - ─────────── + ── + \n",
       "   2                                             Δ              Δ        Δ    \n",
       "                                                                              \n",
       "\n",
       "                                                                              \n",
       "   2  †            2              †                          2      2  †      \n",
       "2⋅g ⋅a ⋅a⋅False   g ⋅False   g⋅ω⋅a ⋅False   g⋅ω⋅a⋅False   ε⋅g    ε⋅g ⋅a ⋅a⋅Fal\n",
       "─────────────── + ──────── + ──────────── + ─────────── - ──── - ─────────────\n",
       "       Δ             Δ            Δ              Δ           2           2    \n",
       "                                                          2⋅Δ           Δ     \n",
       "\n",
       "                                                              2               \n",
       "        2            3  †  2            3  †            3 ⎛ †⎞               3\n",
       "se   ε⋅g ⋅False   2⋅g ⋅a ⋅a ⋅False   2⋅g ⋅a ⋅False   2⋅g ⋅⎝a ⎠ ⋅a⋅False   2⋅g \n",
       "── - ────────── - ──────────────── - ───────────── - ────────────────── - ────\n",
       "           2              2                 2                 2               \n",
       "        2⋅Δ              Δ                 Δ                 Δ                \n",
       "\n",
       "                                              \n",
       "            2      2    †            2        \n",
       "⋅a⋅False   g ⋅ω   g ⋅ω⋅a ⋅a⋅False   g ⋅ω⋅False\n",
       "──────── + ──── + ─────────────── + ──────────\n",
       "  2           2           2               2   \n",
       " Δ         2⋅Δ           Δ             2⋅Δ    "
      ]
     },
     "execution_count": 24,
     "metadata": {},
     "output_type": "execute_result"
    }
   ],
   "source": [
    "H3 = H2.subs(l, g/D); H3"
   ]
  },
  {
   "cell_type": "markdown",
   "metadata": {},
   "source": [
    "We also drop c-number terms"
   ]
  },
  {
   "cell_type": "code",
   "execution_count": 25,
   "metadata": {},
   "outputs": [
    {
     "data": {
      "image/png": "[encoded data removed]",
      "text/latex": [
       "$$\\frac{\\epsilon {\\sigma_z}}{2} + g {{a}^\\dagger} {\\sigma_-} + g {a} {\\sigma_+} + \\omega {{a}^\\dagger} {a} - \\frac{\\epsilon g}{\\Delta} {{a}^\\dagger} {\\sigma_-} - \\frac{\\epsilon g}{\\Delta} {a} {\\sigma_+} + \\frac{2 g^{2}}{\\Delta} {{a}^\\dagger} {a} {\\sigma_z} + \\frac{g^{2} {\\sigma_z}}{\\Delta} + \\frac{g \\omega}{\\Delta} {{a}^\\dagger} {\\sigma_-} + \\frac{g \\omega}{\\Delta} {a} {\\sigma_+} - \\frac{\\epsilon g^{2}}{\\Delta^{2}} {{a}^\\dagger} {a} {\\sigma_z} - \\frac{\\epsilon g^{2} {\\sigma_z}}{2 \\Delta^{2}} - \\frac{2 g^{3}}{\\Delta^{2}} {{a}^\\dagger} \\left({a}\\right)^{2} {\\sigma_+} - \\frac{2 g^{3}}{\\Delta^{2}} {{a}^\\dagger} {\\sigma_-} - \\frac{2 g^{3}}{\\Delta^{2}} \\left({{a}^\\dagger}\\right)^{2} {a} {\\sigma_-} - \\frac{2 g^{3}}{\\Delta^{2}} {a} {\\sigma_+} + \\frac{g^{2} \\omega}{\\Delta^{2}} {{a}^\\dagger} {a} {\\sigma_z} + \\frac{g^{2} \\omega {\\sigma_z}}{2 \\Delta^{2}}$$"
      ],
      "text/plain": [
       "                                                                              \n",
       "                                                 †                          2 \n",
       "ε⋅False      †                        †     ε⋅g⋅a ⋅False   ε⋅g⋅a⋅False   2⋅g ⋅\n",
       "─────── + g⋅a ⋅False + g⋅a⋅False + ω⋅a ⋅a - ──────────── - ─────────── + ─────\n",
       "   2                                             Δ              Δ             \n",
       "                                                                              \n",
       "\n",
       "                                                                              \n",
       " †            2              †                          2  †              2   \n",
       "a ⋅a⋅False   g ⋅False   g⋅ω⋅a ⋅False   g⋅ω⋅a⋅False   ε⋅g ⋅a ⋅a⋅False   ε⋅g ⋅Fa\n",
       "────────── + ──────── + ──────────── + ─────────── - ─────────────── - ───────\n",
       "  Δ             Δ            Δ              Δ                2               2\n",
       "                                                            Δ             2⋅Δ \n",
       "\n",
       "                                                  2                           \n",
       "         3  †  2            3  †            3 ⎛ †⎞               3            \n",
       "lse   2⋅g ⋅a ⋅a ⋅False   2⋅g ⋅a ⋅False   2⋅g ⋅⎝a ⎠ ⋅a⋅False   2⋅g ⋅a⋅False   g\n",
       "─── - ──────────────── - ───────────── - ────────────────── - ──────────── + ─\n",
       "              2                 2                 2                 2         \n",
       "             Δ                 Δ                 Δ                 Δ          \n",
       "\n",
       "                           \n",
       "2    †            2        \n",
       " ⋅ω⋅a ⋅a⋅False   g ⋅ω⋅False\n",
       "────────────── + ──────────\n",
       "       2               2   \n",
       "      Δ             2⋅Δ    "
      ]
     },
     "execution_count": 25,
     "metadata": {},
     "output_type": "execute_result"
    }
   ],
   "source": [
    "H4 = drop_c_number_terms(H3); H4"
   ]
  },
  {
   "cell_type": "markdown",
   "metadata": {},
   "source": [
    "and collect the terms with $a^\\dagger a$ and $\\sigma_z$."
   ]
  },
  {
   "cell_type": "code",
   "execution_count": 26,
   "metadata": {},
   "outputs": [
    {
     "data": {
      "image/png": "[encoded data removed]",
      "text/latex": [
       "$$g {{a}^\\dagger} {\\sigma_-} + g {a} {\\sigma_+} + \\left(\\frac{\\epsilon}{2} + \\frac{g^{2}}{\\Delta} - \\frac{\\epsilon g^{2}}{2 \\Delta^{2}} + \\frac{g^{2} \\omega}{2 \\Delta^{2}}\\right) {\\sigma_z} + {{a}^\\dagger} {a} \\left(\\omega + \\frac{2 g^{2}}{\\Delta} {\\sigma_z} - \\frac{\\epsilon g^{2}}{\\Delta^{2}} {\\sigma_z} + \\frac{g^{2} \\omega}{\\Delta^{2}} {\\sigma_z}\\right) - \\frac{\\epsilon g}{\\Delta} {{a}^\\dagger} {\\sigma_-} - \\frac{\\epsilon g}{\\Delta} {a} {\\sigma_+} + \\frac{g \\omega}{\\Delta} {{a}^\\dagger} {\\sigma_-} + \\frac{g \\omega}{\\Delta} {a} {\\sigma_+} - \\frac{2 g^{3}}{\\Delta^{2}} {{a}^\\dagger} \\left({a}\\right)^{2} {\\sigma_+} - \\frac{2 g^{3}}{\\Delta^{2}} {{a}^\\dagger} {\\sigma_-} - \\frac{2 g^{3}}{\\Delta^{2}} \\left({{a}^\\dagger}\\right)^{2} {a} {\\sigma_-} - \\frac{2 g^{3}}{\\Delta^{2}} {a} {\\sigma_+}$$"
      ],
      "text/plain": [
       "                                                                              \n",
       "                         ⎛     2      2    2  ⎞              ⎛       2        \n",
       "   †                     ⎜ε   g    ε⋅g    g ⋅ω⎟          †   ⎜    2⋅g ⋅False  \n",
       "g⋅a ⋅False + g⋅a⋅False + ⎜─ + ── - ──── + ────⎟⋅False + a ⋅a⋅⎜ω + ────────── -\n",
       "                         ⎜2   Δ       2      2⎟              ⎜        Δ       \n",
       "                         ⎝         2⋅Δ    2⋅Δ ⎠              ⎝                \n",
       "\n",
       "                                                                              \n",
       "    2          2        ⎞        †                            †               \n",
       " ε⋅g ⋅False   g ⋅ω⋅False⎟   ε⋅g⋅a ⋅False   ε⋅g⋅a⋅False   g⋅ω⋅a ⋅False   g⋅ω⋅a⋅\n",
       " ────────── + ──────────⎟ - ──────────── - ─────────── + ──────────── + ──────\n",
       "      2            2    ⎟        Δ              Δ             Δ              Δ\n",
       "     Δ            Δ     ⎠                                                     \n",
       "\n",
       "                                                    2                       \n",
       "           3  †  2            3  †            3 ⎛ †⎞               3        \n",
       "False   2⋅g ⋅a ⋅a ⋅False   2⋅g ⋅a ⋅False   2⋅g ⋅⎝a ⎠ ⋅a⋅False   2⋅g ⋅a⋅False\n",
       "───── - ──────────────── - ───────────── - ────────────────── - ────────────\n",
       "                2                 2                 2                 2     \n",
       "               Δ                 Δ                 Δ                 Δ      "
      ]
     },
     "execution_count": 26,
     "metadata": {},
     "output_type": "execute_result"
    }
   ],
   "source": [
    "H5 = collect(H4, [Dagger(a)*a, sz]); H5"
   ]
  },
  {
   "cell_type": "markdown",
   "metadata": {},
   "source": [
    "Now move to a frame co-rotating with the qubit and oscillator frequencies:"
   ]
  },
  {
   "cell_type": "code",
   "execution_count": 27,
   "metadata": {},
   "outputs": [
    {
     "data": {
      "image/png": "[encoded data removed]",
      "text/latex": [
       "$$\\frac{\\epsilon {\\sigma_z}}{2} + g e^{i \\omega t} {{a}^\\dagger} {\\sigma_-} + g e^{- i \\omega t} {a} {\\sigma_+} - \\frac{\\epsilon g}{\\Delta} e^{i \\omega t} {{a}^\\dagger} {\\sigma_-} - \\frac{\\epsilon g}{\\Delta} e^{- i \\omega t} {a} {\\sigma_+} + \\frac{2 g^{2}}{\\Delta} {{a}^\\dagger} {a} {\\sigma_z} + \\frac{g^{2} {\\sigma_z}}{\\Delta} + \\frac{g \\omega}{\\Delta} e^{i \\omega t} {{a}^\\dagger} {\\sigma_-} + \\frac{g \\omega}{\\Delta} e^{- i \\omega t} {a} {\\sigma_+} - \\frac{\\epsilon g^{2}}{\\Delta^{2}} {{a}^\\dagger} {a} {\\sigma_z} - \\frac{\\epsilon g^{2} {\\sigma_z}}{2 \\Delta^{2}} - \\frac{2 g^{3}}{\\Delta^{2}} e^{i \\omega t} {{a}^\\dagger} {\\sigma_-} - \\frac{2 g^{3}}{\\Delta^{2}} e^{i \\omega t} \\left({{a}^\\dagger}\\right)^{2} {a} {\\sigma_-} - \\frac{2 g^{3}}{\\Delta^{2}} e^{- i \\omega t} {{a}^\\dagger} \\left({a}\\right)^{2} {\\sigma_+} - \\frac{2 g^{3}}{\\Delta^{2}} e^{- i \\omega t} {a} {\\sigma_+} + \\frac{g^{2} \\omega}{\\Delta^{2}} {{a}^\\dagger} {a} {\\sigma_z} + \\frac{g^{2} \\omega {\\sigma_z}}{2 \\Delta^{2}}$$"
      ],
      "text/plain": [
       "                                                                              \n",
       "                                                       ⅈ⋅ω⋅t  †              -\n",
       "ε⋅False      ⅈ⋅ω⋅t  †            -ⅈ⋅ω⋅t           ε⋅g⋅ℯ     ⋅a ⋅False   ε⋅g⋅ℯ \n",
       "─────── + g⋅ℯ     ⋅a ⋅False + g⋅ℯ      ⋅a⋅False - ─────────────────── - ──────\n",
       "   2                                                       Δ                  \n",
       "                                                                              \n",
       "\n",
       "                                                                              \n",
       "ⅈ⋅ω⋅t              2  †            2              ⅈ⋅ω⋅t  †              -ⅈ⋅ω⋅t\n",
       "     ⋅a⋅False   2⋅g ⋅a ⋅a⋅False   g ⋅False   g⋅ω⋅ℯ     ⋅a ⋅False   g⋅ω⋅ℯ      \n",
       "───────────── + ─────────────── + ──────── + ─────────────────── + ───────────\n",
       "   Δ                   Δ             Δ                Δ                     Δ \n",
       "                                                                              \n",
       "\n",
       "                                                                              \n",
       "              2  †              2            3  ⅈ⋅ω⋅t  †            3  ⅈ⋅ω⋅t ⎛\n",
       "⋅a⋅False   ε⋅g ⋅a ⋅a⋅False   ε⋅g ⋅False   2⋅g ⋅ℯ     ⋅a ⋅False   2⋅g ⋅ℯ     ⋅⎝\n",
       "──────── - ─────────────── - ────────── - ──────────────────── - ─────────────\n",
       "                   2               2                2                         \n",
       "                  Δ             2⋅Δ                Δ                         Δ\n",
       "\n",
       "   2                                                                          \n",
       " †⎞               3  -ⅈ⋅ω⋅t  †  2            3  -ⅈ⋅ω⋅t            2    †      \n",
       "a ⎠ ⋅a⋅False   2⋅g ⋅ℯ      ⋅a ⋅a ⋅False   2⋅g ⋅ℯ      ⋅a⋅False   g ⋅ω⋅a ⋅a⋅Fal\n",
       "──────────── - ──────────────────────── - ──────────────────── + ─────────────\n",
       "2                          2                        2                    2    \n",
       "                          Δ                        Δ                    Δ     \n",
       "\n",
       "               \n",
       "      2        \n",
       "se   g ⋅ω⋅False\n",
       "── + ──────────\n",
       "           2   \n",
       "        2⋅Δ    "
      ]
     },
     "execution_count": 27,
     "metadata": {},
     "output_type": "execute_result"
    }
   ],
   "source": [
    "H6 = hamiltonian_transformation(U1, H5.expand()); H6"
   ]
  },
  {
   "cell_type": "code",
   "execution_count": 28,
   "metadata": {},
   "outputs": [
    {
     "data": {
      "image/png": "[encoded data removed]",
      "text/latex": [
       "$$g e^{i \\epsilon t} e^{- i \\omega t} {a} {\\sigma_+} + g e^{- i \\epsilon t} e^{i \\omega t} {{a}^\\dagger} {\\sigma_-} - \\frac{\\epsilon g}{\\Delta} e^{i \\epsilon t} e^{- i \\omega t} {a} {\\sigma_+} - \\frac{\\epsilon g}{\\Delta} e^{- i \\epsilon t} e^{i \\omega t} {{a}^\\dagger} {\\sigma_-} + \\frac{2 g^{2}}{\\Delta} {{a}^\\dagger} {a} {\\sigma_z} + \\frac{g^{2} {\\sigma_z}}{\\Delta} + \\frac{g \\omega}{\\Delta} e^{i \\epsilon t} e^{- i \\omega t} {a} {\\sigma_+} + \\frac{g \\omega}{\\Delta} e^{- i \\epsilon t} e^{i \\omega t} {{a}^\\dagger} {\\sigma_-} - \\frac{\\epsilon g^{2}}{\\Delta^{2}} {{a}^\\dagger} {a} {\\sigma_z} - \\frac{\\epsilon g^{2} {\\sigma_z}}{2 \\Delta^{2}} - \\frac{2 g^{3}}{\\Delta^{2}} e^{i \\epsilon t} e^{- i \\omega t} {{a}^\\dagger} \\left({a}\\right)^{2} {\\sigma_+} - \\frac{2 g^{3}}{\\Delta^{2}} e^{i \\epsilon t} e^{- i \\omega t} {a} {\\sigma_+} - \\frac{2 g^{3}}{\\Delta^{2}} e^{- i \\epsilon t} e^{i \\omega t} {{a}^\\dagger} {\\sigma_-} - \\frac{2 g^{3}}{\\Delta^{2}} e^{- i \\epsilon t} e^{i \\omega t} \\left({{a}^\\dagger}\\right)^{2} {a} {\\sigma_-} + \\frac{g^{2} \\omega}{\\Delta^{2}} {{a}^\\dagger} {a} {\\sigma_z} + \\frac{g^{2} \\omega {\\sigma_z}}{2 \\Delta^{2}}$$"
      ],
      "text/plain": [
       "                                                                              \n",
       "                                                            ⅈ⋅ε⋅t  -ⅈ⋅ω⋅t     \n",
       "   ⅈ⋅ε⋅t  -ⅈ⋅ω⋅t              -ⅈ⋅ε⋅t  ⅈ⋅ω⋅t  †         ε⋅g⋅ℯ     ⋅ℯ      ⋅a⋅Fa\n",
       "g⋅ℯ     ⋅ℯ      ⋅a⋅False + g⋅ℯ      ⋅ℯ     ⋅a ⋅False - ───────────────────────\n",
       "                                                                   Δ          \n",
       "                                                                              \n",
       "\n",
       "                                                                              \n",
       "           -ⅈ⋅ε⋅t  ⅈ⋅ω⋅t  †            2  †            2              ⅈ⋅ε⋅t  -\n",
       "lse   ε⋅g⋅ℯ      ⋅ℯ     ⋅a ⋅False   2⋅g ⋅a ⋅a⋅False   g ⋅False   g⋅ω⋅ℯ     ⋅ℯ \n",
       "─── - ─────────────────────────── + ─────────────── + ──────── + ─────────────\n",
       "                   Δ                       Δ             Δ                   Δ\n",
       "                                                                              \n",
       "\n",
       "                                                                              \n",
       "ⅈ⋅ω⋅t                -ⅈ⋅ε⋅t  ⅈ⋅ω⋅t  †            2  †              2          \n",
       "     ⋅a⋅False   g⋅ω⋅ℯ      ⋅ℯ     ⋅a ⋅False   ε⋅g ⋅a ⋅a⋅False   ε⋅g ⋅False   2\n",
       "───────────── + ─────────────────────────── - ─────────────── - ────────── - ─\n",
       "                             Δ                        2               2       \n",
       "                                                     Δ             2⋅Δ        \n",
       "\n",
       "                                                                              \n",
       "  3  ⅈ⋅ε⋅t  -ⅈ⋅ω⋅t  †  2            3  ⅈ⋅ε⋅t  -ⅈ⋅ω⋅t              3  -ⅈ⋅ε⋅t  ⅈ\n",
       "⋅g ⋅ℯ     ⋅ℯ      ⋅a ⋅a ⋅False   2⋅g ⋅ℯ     ⋅ℯ      ⋅a⋅False   2⋅g ⋅ℯ      ⋅ℯ \n",
       "────────────────────────────── - ─────────────────────────── - ───────────────\n",
       "               2                               2                             2\n",
       "              Δ                               Δ                             Δ \n",
       "\n",
       "                                        2                                     \n",
       "⋅ω⋅t  †            3  -ⅈ⋅ε⋅t  ⅈ⋅ω⋅t ⎛ †⎞             2    †            2      \n",
       "    ⋅a ⋅False   2⋅g ⋅ℯ      ⋅ℯ     ⋅⎝a ⎠ ⋅a⋅False   g ⋅ω⋅a ⋅a⋅False   g ⋅ω⋅Fal\n",
       "───────────── - ───────────────────────────────── + ─────────────── + ────────\n",
       "                                 2                          2               2 \n",
       "                                Δ                          Δ             2⋅Δ  \n",
       "\n",
       "  \n",
       "  \n",
       "se\n",
       "──\n",
       "  \n",
       "  "
      ]
     },
     "execution_count": 28,
     "metadata": {},
     "output_type": "execute_result"
    }
   ],
   "source": [
    "H7 = hamiltonian_transformation(U2, H6.expand()); H7"
   ]
  },
  {
   "cell_type": "code",
   "execution_count": 29,
   "metadata": {},
   "outputs": [
    {
     "data": {
      "image/png": "[encoded data removed]",
      "text/latex": [
       "$$g e^{i t \\left(- \\epsilon + \\omega\\right)} {{a}^\\dagger} {\\sigma_-} + g e^{i t \\left(\\epsilon - \\omega\\right)} {a} {\\sigma_+} - \\frac{\\epsilon g}{\\Delta} e^{i t \\left(- \\epsilon + \\omega\\right)} {{a}^\\dagger} {\\sigma_-} - \\frac{\\epsilon g}{\\Delta} e^{i t \\left(\\epsilon - \\omega\\right)} {a} {\\sigma_+} + \\frac{2 g^{2}}{\\Delta} {{a}^\\dagger} {a} {\\sigma_z} + \\frac{g^{2} {\\sigma_z}}{\\Delta} + \\frac{g \\omega}{\\Delta} e^{i t \\left(- \\epsilon + \\omega\\right)} {{a}^\\dagger} {\\sigma_-} + \\frac{g \\omega}{\\Delta} e^{i t \\left(\\epsilon - \\omega\\right)} {a} {\\sigma_+} - \\frac{\\epsilon g^{2}}{\\Delta^{2}} {{a}^\\dagger} {a} {\\sigma_z} - \\frac{\\epsilon g^{2} {\\sigma_z}}{2 \\Delta^{2}} - \\frac{2 g^{3}}{\\Delta^{2}} e^{i t \\left(- \\epsilon + \\omega\\right)} {{a}^\\dagger} {\\sigma_-} - \\frac{2 g^{3}}{\\Delta^{2}} e^{i t \\left(- \\epsilon + \\omega\\right)} \\left({{a}^\\dagger}\\right)^{2} {a} {\\sigma_-} - \\frac{2 g^{3}}{\\Delta^{2}} e^{i t \\left(\\epsilon - \\omega\\right)} {{a}^\\dagger} \\left({a}\\right)^{2} {\\sigma_+} - \\frac{2 g^{3}}{\\Delta^{2}} e^{i t \\left(\\epsilon - \\omega\\right)} {a} {\\sigma_+} + \\frac{g^{2} \\omega}{\\Delta^{2}} {{a}^\\dagger} {a} {\\sigma_z} + \\frac{g^{2} \\omega {\\sigma_z}}{2 \\Delta^{2}}$$"
      ],
      "text/plain": [
       "                                                                              \n",
       "                                                         ⅈ⋅t⋅(-ε + ω)  †      \n",
       "   ⅈ⋅t⋅(-ε + ω)  †            ⅈ⋅t⋅(ε - ω)           ε⋅g⋅ℯ            ⋅a ⋅False\n",
       "g⋅ℯ            ⋅a ⋅False + g⋅ℯ           ⋅a⋅False - ──────────────────────────\n",
       "                                                                Δ             \n",
       "                                                                              \n",
       "\n",
       "                                                                              \n",
       "        ⅈ⋅t⋅(ε - ω)              2  †            2              ⅈ⋅t⋅(-ε + ω)  \n",
       "   ε⋅g⋅ℯ           ⋅a⋅False   2⋅g ⋅a ⋅a⋅False   g ⋅False   g⋅ω⋅ℯ            ⋅a\n",
       " - ──────────────────────── + ─────────────── + ──────── + ───────────────────\n",
       "              Δ                      Δ             Δ                   Δ      \n",
       "                                                                              \n",
       "\n",
       "                                                                              \n",
       "†              ⅈ⋅t⋅(ε - ω)              2  †              2            3  ⅈ⋅t⋅\n",
       " ⋅False   g⋅ω⋅ℯ           ⋅a⋅False   ε⋅g ⋅a ⋅a⋅False   ε⋅g ⋅False   2⋅g ⋅ℯ    \n",
       "─────── + ──────────────────────── - ─────────────── - ────────── - ──────────\n",
       "                     Δ                       2               2                \n",
       "                                            Δ             2⋅Δ                 \n",
       "\n",
       "                                           2                                  \n",
       "(-ε + ω)  †            3  ⅈ⋅t⋅(-ε + ω) ⎛ †⎞               3  ⅈ⋅t⋅(ε - ω)  †  2\n",
       "        ⋅a ⋅False   2⋅g ⋅ℯ            ⋅⎝a ⎠ ⋅a⋅False   2⋅g ⋅ℯ           ⋅a ⋅a \n",
       "───────────────── - ──────────────────────────────── - ───────────────────────\n",
       "    2                               2                                 2       \n",
       "   Δ                               Δ                                 Δ        \n",
       "\n",
       "                                                                 \n",
       "            3  ⅈ⋅t⋅(ε - ω)            2    †            2        \n",
       "⋅False   2⋅g ⋅ℯ           ⋅a⋅False   g ⋅ω⋅a ⋅a⋅False   g ⋅ω⋅False\n",
       "────── - ───────────────────────── + ─────────────── + ──────────\n",
       "                      2                      2               2   \n",
       "                     Δ                      Δ             2⋅Δ    "
      ]
     },
     "execution_count": 29,
     "metadata": {},
     "output_type": "execute_result"
    }
   ],
   "source": [
    "H7 = simplify_exp(powsimp(H7)); H7"
   ]
  },
  {
   "cell_type": "markdown",
   "metadata": {},
   "source": [
    "Since the absolute value of the detuning $\\Delta = \\epsilon-\\omega$ is much larger than $g$ (equivalently, $|\\lambda\\ll 1|$), the exponential terms $e^{i(\\epsilon-\\omega)t}$, $e^{-i(\\epsilon-\\omega)t}$ are now considered fast oscillating and can be ignored."
   ]
  },
  {
   "cell_type": "code",
   "execution_count": 30,
   "metadata": {},
   "outputs": [
    {
     "data": {
      "image/png": "[encoded data removed]",
      "text/latex": [
       "$$\\frac{2 g^{2}}{\\Delta} {{a}^\\dagger} {a} {\\sigma_z} + \\frac{g^{2} {\\sigma_z}}{\\Delta} - \\frac{\\epsilon g^{2}}{\\Delta^{2}} {{a}^\\dagger} {a} {\\sigma_z} - \\frac{\\epsilon g^{2} {\\sigma_z}}{2 \\Delta^{2}} + \\frac{g^{2} \\omega}{\\Delta^{2}} {{a}^\\dagger} {a} {\\sigma_z} + \\frac{g^{2} \\omega {\\sigma_z}}{2 \\Delta^{2}}$$"
      ],
      "text/plain": [
       "   2  †            2            2  †              2          2    †           \n",
       "2⋅g ⋅a ⋅a⋅False   g ⋅False   ε⋅g ⋅a ⋅a⋅False   ε⋅g ⋅False   g ⋅ω⋅a ⋅a⋅False   \n",
       "─────────────── + ──────── - ─────────────── - ────────── + ─────────────── + \n",
       "       Δ             Δ               2               2              2         \n",
       "                                    Δ             2⋅Δ              Δ          \n",
       "\n",
       " 2        \n",
       "g ⋅ω⋅False\n",
       "──────────\n",
       "      2   \n",
       "   2⋅Δ    "
      ]
     },
     "execution_count": 30,
     "metadata": {},
     "output_type": "execute_result"
    }
   ],
   "source": [
    "H8 = drop_terms_containing(H7, [exp(I * (e - w) * t), exp(I * (- e + w) * t)])\n",
    "\n",
    "H8"
   ]
  },
  {
   "cell_type": "code",
   "execution_count": 31,
   "metadata": {},
   "outputs": [
    {
     "data": {
      "image/png": "[encoded data removed]",
      "text/latex": [
       "$$\\left(\\frac{g^{2}}{\\Delta} - \\frac{\\epsilon g^{2}}{2 \\Delta^{2}} + \\frac{g^{2} \\omega}{2 \\Delta^{2}}\\right) {\\sigma_z} + {{a}^\\dagger} {a} \\left(\\frac{2 g^{2}}{\\Delta} {\\sigma_z} - \\frac{\\epsilon g^{2}}{\\Delta^{2}} {\\sigma_z} + \\frac{g^{2} \\omega}{\\Delta^{2}} {\\sigma_z}\\right)$$"
      ],
      "text/plain": [
       "⎛ 2      2    2  ⎞              ⎛   2            2          2        ⎞\n",
       "⎜g    ε⋅g    g ⋅ω⎟          †   ⎜2⋅g ⋅False   ε⋅g ⋅False   g ⋅ω⋅False⎟\n",
       "⎜── - ──── + ────⎟⋅False + a ⋅a⋅⎜────────── - ────────── + ──────────⎟\n",
       "⎜Δ       2      2⎟              ⎜    Δ             2            2    ⎟\n",
       "⎝     2⋅Δ    2⋅Δ ⎠              ⎝                 Δ            Δ     ⎠"
      ]
     },
     "execution_count": 31,
     "metadata": {},
     "output_type": "execute_result"
    }
   ],
   "source": [
    "H9 = qsimplify(H8)\n",
    "\n",
    "H9 = collect(H9, [Dagger(a)*a, sz])\n",
    "\n",
    "H9"
   ]
  },
  {
   "cell_type": "markdown",
   "metadata": {},
   "source": [
    "Now we move back to the lab frame:"
   ]
  },
  {
   "cell_type": "code",
   "execution_count": 32,
   "metadata": {},
   "outputs": [
    {
     "data": {
      "image/png": "[encoded data removed]",
      "text/latex": [
       "$$\\omega {{a}^\\dagger} {a} + \\frac{2 g^{2}}{\\Delta} {{a}^\\dagger} {a} {\\sigma_z} + \\frac{g^{2} {\\sigma_z}}{\\Delta} - \\frac{\\epsilon g^{2}}{\\Delta^{2}} {{a}^\\dagger} {a} {\\sigma_z} - \\frac{\\epsilon g^{2} {\\sigma_z}}{2 \\Delta^{2}} + \\frac{g^{2} \\omega}{\\Delta^{2}} {{a}^\\dagger} {a} {\\sigma_z} + \\frac{g^{2} \\omega {\\sigma_z}}{2 \\Delta^{2}}$$"
      ],
      "text/plain": [
       "            2  †            2            2  †              2          2    †  \n",
       "   †     2⋅g ⋅a ⋅a⋅False   g ⋅False   ε⋅g ⋅a ⋅a⋅False   ε⋅g ⋅False   g ⋅ω⋅a ⋅a\n",
       "ω⋅a ⋅a + ─────────────── + ──────── - ─────────────── - ────────── + ─────────\n",
       "                Δ             Δ               2               2              2\n",
       "                                             Δ             2⋅Δ              Δ \n",
       "\n",
       "          2        \n",
       "⋅False   g ⋅ω⋅False\n",
       "────── + ──────────\n",
       "               2   \n",
       "            2⋅Δ    "
      ]
     },
     "execution_count": 32,
     "metadata": {},
     "output_type": "execute_result"
    }
   ],
   "source": [
    "H10 = hamiltonian_transformation(U3, H9.expand()); H10"
   ]
  },
  {
   "cell_type": "code",
   "execution_count": 33,
   "metadata": {},
   "outputs": [
    {
     "data": {
      "image/png": "[encoded data removed]",
      "text/latex": [
       "$$\\frac{\\epsilon {\\sigma_z}}{2} + \\omega {{a}^\\dagger} {a} + \\frac{2 g^{2}}{\\Delta} {{a}^\\dagger} {a} {\\sigma_z} + \\frac{g^{2} {\\sigma_z}}{\\Delta} - \\frac{\\epsilon g^{2}}{\\Delta^{2}} {{a}^\\dagger} {a} {\\sigma_z} - \\frac{\\epsilon g^{2} {\\sigma_z}}{2 \\Delta^{2}} + \\frac{g^{2} \\omega}{\\Delta^{2}} {{a}^\\dagger} {a} {\\sigma_z} + \\frac{g^{2} \\omega {\\sigma_z}}{2 \\Delta^{2}}$$"
      ],
      "text/plain": [
       "                      2  †            2            2  †              2        \n",
       "ε⋅False      †     2⋅g ⋅a ⋅a⋅False   g ⋅False   ε⋅g ⋅a ⋅a⋅False   ε⋅g ⋅False  \n",
       "─────── + ω⋅a ⋅a + ─────────────── + ──────── - ─────────────── - ────────── +\n",
       "   2                      Δ             Δ               2               2     \n",
       "                                                       Δ             2⋅Δ      \n",
       "\n",
       "  2    †            2        \n",
       " g ⋅ω⋅a ⋅a⋅False   g ⋅ω⋅False\n",
       " ─────────────── + ──────────\n",
       "         2               2   \n",
       "        Δ             2⋅Δ    "
      ]
     },
     "execution_count": 33,
     "metadata": {},
     "output_type": "execute_result"
    }
   ],
   "source": [
    "H11 = hamiltonian_transformation(U4, H10.expand()); H11"
   ]
  },
  {
   "cell_type": "markdown",
   "metadata": {},
   "source": [
    "Simplifying the expression, and collecting the terms of $\\sigma_z$ and $a^\\dagger a$, with substitution $\\Delta = \\epsilon-\\omega$, we get the expression for the Hamiltonian in the dispersive regime."
   ]
  },
  {
   "cell_type": "code",
   "execution_count": 34,
   "metadata": {},
   "outputs": [
    {
     "data": {
      "image/png": "[encoded data removed]",
      "text/latex": [
       "$$H_{RWAdisp} = \\left(\\frac{\\epsilon}{2} + \\frac{g^{2}}{2 \\Delta}\\right) {\\sigma_z} + {{a}^\\dagger} {a} \\left(\\omega + \\frac{g^{2} {\\sigma_z}}{\\Delta}\\right)$$"
      ],
      "text/plain": [
       "            ⎛      2⎞              ⎛     2      ⎞\n",
       "            ⎜ε    g ⎟          †   ⎜    g ⋅False⎟\n",
       "H_RWAdisp = ⎜─ + ───⎟⋅False + a ⋅a⋅⎜ω + ────────⎟\n",
       "            ⎝2   2⋅Δ⎠              ⎝       Δ    ⎠"
      ]
     },
     "execution_count": 34,
     "metadata": {},
     "output_type": "execute_result"
    }
   ],
   "source": [
    "H12 = qsimplify(H11)\n",
    "\n",
    "H12 = collect(H12, [Dagger(a) * a, sz])\n",
    "\n",
    "Hrwadisp = H12.subs(w, e - D).expand().collect([Dagger(a)*a, sz]).subs(e - D, w)\n",
    "\n",
    "Eq(symbols(\"H_RWAdisp\"), Hrwadisp)"
   ]
  },
  {
   "cell_type": "markdown",
   "metadata": {},
   "source": [
    "The physical interpretation of this equation is that the oscillator frequency is shifted as\n",
    "\\begin{align}\n",
    "\\omega \\rightarrow \\omega\\pm \\frac{g^2}{\\Delta}\n",
    "\\end{align}\n",
    "where the sign depends on the state of the qubit."
   ]
  },
  {
   "cell_type": "markdown",
   "metadata": {},
   "source": [
    "## Dispersive Theory Beyond RWA"
   ]
  },
  {
   "cell_type": "markdown",
   "metadata": {},
   "source": [
    "To treat the original Hamiltonian (not the RWA Hamiltonian) \\begin{align}\n",
    "H = \\frac{\\hbar\\epsilon}{2}\\sigma_z + \\hbar\\omega a^\\dagger a + \\hbar g \\sigma_x (a^\\dagger + a)\n",
    "\\end{align}"
   ]
  },
  {
   "cell_type": "code",
   "execution_count": 35,
   "metadata": {},
   "outputs": [
    {
     "data": {
      "image/png": "[encoded data removed]",
      "text/latex": [
       "$$H = \\frac{\\epsilon {\\sigma_z}}{2} + g {\\sigma_x} \\left({{a}^\\dagger} + {a}\\right) + \\omega {{a}^\\dagger} {a}$$"
      ],
      "text/plain": [
       "    ε⋅False           ⎛ †    ⎞      †  \n",
       "H = ─────── + g⋅False⋅⎝a  + a⎠ + ω⋅a ⋅a\n",
       "       2                               "
      ]
     },
     "execution_count": 35,
     "metadata": {},
     "output_type": "execute_result"
    }
   ],
   "source": [
    "Eq(Hsym, H)"
   ]
  },
  {
   "cell_type": "markdown",
   "metadata": {},
   "source": [
    "in the dispersive regime correctly. That is, we derive the expression valid in the full dispersive regime defined only by inequality\n",
    "\\begin{align}\n",
    "g\\ll |\\epsilon -\\omega|.\n",
    "\\end{align}"
   ]
  },
  {
   "cell_type": "markdown",
   "metadata": {},
   "source": [
    "Going beyond RWA, we have to keep the counter-rotating coupling terms\n",
    "\\begin{align}\n",
    "Y_{\\pm} =  \\sigma_- a  \\pm\\sigma_+ a^\\dagger,\n",
    "\\end{align}\n",
    "which are relevant if either of the relations $g\\ll \\min\\{\\epsilon,\\omega\\}$ or $|\\epsilon-\\omega|\\ll \\epsilon+\\omega$ is violated."
   ]
  },
  {
   "cell_type": "code",
   "execution_count": 36,
   "metadata": {},
   "outputs": [
    {
     "data": {
      "image/png": "[encoded data removed]",
      "text/latex": [
       "$$Y_{+} = {\\sigma_-} {a} + {\\sigma_+} {{a}^\\dagger}$$"
      ],
      "text/plain": [
       "                      †\n",
       "Y₊ = False⋅a + False⋅a "
      ]
     },
     "execution_count": 36,
     "metadata": {},
     "output_type": "execute_result"
    }
   ],
   "source": [
    "Yp = sm * a + sp * Dagger(a)\n",
    "Ypsym = symbols(\"Y_+\")\n",
    "Eq(Ypsym,Yp)"
   ]
  },
  {
   "cell_type": "code",
   "execution_count": 37,
   "metadata": {},
   "outputs": [
    {
     "data": {
      "image/png": "[encoded data removed]",
      "text/latex": [
       "$$Y_{-} = {\\sigma_-} {a} - {\\sigma_+} {{a}^\\dagger}$$"
      ],
      "text/plain": [
       "                      †\n",
       "Y₋ = False⋅a - False⋅a "
      ]
     },
     "execution_count": 37,
     "metadata": {},
     "output_type": "execute_result"
    }
   ],
   "source": [
    "Ym = sm * a - sp * Dagger(a)\n",
    "Ymsym = symbols(\"Y_-\")\n",
    "Eq(Ymsym,Ym)  # different from the definition in the paper"
   ]
  },
  {
   "cell_type": "markdown",
   "metadata": {},
   "source": [
    "These operators satify the following commutation relations:"
   ]
  },
  {
   "cell_type": "markdown",
   "metadata": {},
   "source": [
    "$[Y_+, Y_-] = \\sigma_z (2a^\\dagger a + 1) -1$"
   ]
  },
  {
   "cell_type": "code",
   "execution_count": 38,
   "metadata": {},
   "outputs": [
    {
     "data": {
      "image/png": "[encoded data removed]",
      "text/latex": [
       "$$-1 + {\\sigma_z} \\left(1 + 2 {{a}^\\dagger} {a}\\right)$$"
      ],
      "text/plain": [
       "           ⎛       †  ⎞\n",
       "-1 + False⋅⎝1 + 2⋅a ⋅a⎠"
      ]
     },
     "execution_count": 38,
     "metadata": {},
     "output_type": "execute_result"
    }
   ],
   "source": [
    "comm = Commutator(Yp, Ym).expand(commutator=True).expand(commutator=True).expand(commutator=True).doit()\n",
    "comm = simplify(comm.subs(2*sm*sp, (1-sz)))\n",
    "collect(comm, [sz, 1])"
   ]
  },
  {
   "cell_type": "markdown",
   "metadata": {},
   "source": [
    "$[H_0, Y_-] = -(\\epsilon+\\omega) Y_+ $"
   ]
  },
  {
   "cell_type": "code",
   "execution_count": 39,
   "metadata": {},
   "outputs": [
    {
     "data": {
      "image/png": "[encoded data removed]",
      "text/latex": [
       "$$- \\left(\\epsilon + \\omega\\right) \\left({{a}^\\dagger} {\\sigma_+} + {a} {\\sigma_-}\\right)$$"
      ],
      "text/plain": [
       "         ⎛ †                ⎞\n",
       "-(ε + ω)⋅⎝a ⋅False + a⋅False⎠"
      ]
     },
     "execution_count": 39,
     "metadata": {},
     "output_type": "execute_result"
    }
   ],
   "source": [
    "comm = Commutator(H0, Ym).expand(commutator=True).expand(commutator=True).expand(commutator=True).expand(commutator=True).doit()\n",
    "comm = qsimplify(comm)\n",
    "comm = collect(comm, [a*sm, Dagger(a)*sp])\n",
    "simplify(comm)"
   ]
  },
  {
   "cell_type": "markdown",
   "metadata": {},
   "source": [
    "$[Y_+, X_-] = \\sigma_z \\left\\{a^2 + (a^\\dagger)^2\\right\\} $"
   ]
  },
  {
   "cell_type": "code",
   "execution_count": 40,
   "metadata": {},
   "outputs": [
    {
     "data": {
      "image/png": "[encoded data removed]",
      "text/latex": [
       "$${\\sigma_z} \\left(\\left({{a}^\\dagger}\\right)^{2} + \\left({a}\\right)^{2}\\right)$$"
      ],
      "text/plain": [
       "      ⎛    2     ⎞\n",
       "      ⎜⎛ †⎞     2⎟\n",
       "False⋅⎝⎝a ⎠  + a ⎠"
      ]
     },
     "execution_count": 40,
     "metadata": {},
     "output_type": "execute_result"
    }
   ],
   "source": [
    "comm = Commutator(Yp, Xm).expand(commutator=True).expand(commutator=True).expand(commutator=True).expand(commutator=True).doit()\n",
    "collect(comm, [sz])"
   ]
  },
  {
   "cell_type": "markdown",
   "metadata": {},
   "source": [
    "$[Y_-, X_+] = -\\sigma_z \\left\\{a^2 + (a^\\dagger)^2\\right\\} $"
   ]
  },
  {
   "cell_type": "code",
   "execution_count": 41,
   "metadata": {},
   "outputs": [
    {
     "data": {
      "image/png": "[encoded data removed]",
      "text/latex": [
       "$$- {\\sigma_z} \\left(\\left({{a}^\\dagger}\\right)^{2} + \\left({a}\\right)^{2}\\right)$$"
      ],
      "text/plain": [
       "       ⎛    2     ⎞\n",
       "       ⎜⎛ †⎞     2⎟\n",
       "-False⋅⎝⎝a ⎠  + a ⎠"
      ]
     },
     "execution_count": 41,
     "metadata": {},
     "output_type": "execute_result"
    }
   ],
   "source": [
    "comm = Commutator(Ym, Xp).expand(commutator=True).expand(commutator=True).expand(commutator=True).expand(commutator=True).doit()\n",
    "simplify(collect(comm, [sz]))"
   ]
  },
  {
   "cell_type": "markdown",
   "metadata": {},
   "source": [
    "We separate the qubit-oscillator coupling from the bare terms and rewrite the Hamiltonian as\n",
    "\\begin{align}\n",
    "H = H_0 + \\hbar g X_+ + \\hbar g Y_+\n",
    "\\end{align}"
   ]
  },
  {
   "cell_type": "code",
   "execution_count": 42,
   "metadata": {},
   "outputs": [
    {
     "data": {
      "image/png": "[encoded data removed]",
      "text/latex": [
       "$$H = \\frac{\\epsilon {\\sigma_z}}{2} + g \\left({\\sigma_-} {{a}^\\dagger} + {\\sigma_+} {a}\\right) + g \\left({\\sigma_-} {a} + {\\sigma_+} {{a}^\\dagger}\\right) + \\omega {{a}^\\dagger} {a}$$"
      ],
      "text/plain": [
       "    ε⋅False     ⎛       †          ⎞     ⎛                 †⎞      †  \n",
       "H = ─────── + g⋅⎝False⋅a  + False⋅a⎠ + g⋅⎝False⋅a + False⋅a ⎠ + ω⋅a ⋅a\n",
       "       2                                                              "
      ]
     },
     "execution_count": 42,
     "metadata": {},
     "output_type": "execute_result"
    }
   ],
   "source": [
    "H = H0 + g * Xp + g * Yp; Eq(symbols(\"H\"),H)"
   ]
  },
  {
   "cell_type": "markdown",
   "metadata": {},
   "source": [
    "A unitary transformation corresponding to this Hamiltonian is achieved by the operator\n",
    "\\begin{align}\n",
    "D = e^{-\\lambda_1 X_- - \\lambda_2 Y_-}\n",
    "\\end{align}"
   ]
  },
  {
   "cell_type": "markdown",
   "metadata": {},
   "source": [
    "Here, we have introduced the parameters\n",
    "\\begin{align}\n",
    "\\lambda_1 \\equiv \\frac{g}{\\Delta},\\quad \\lambda_2  \\equiv \\frac{g}{\\epsilon+\\omega} = \\frac{g}{2\\epsilon -\\Delta},\n",
    "\\end{align}\n",
    "which obviously fulfills the relation $\\lambda_2<\\lambda_1$, since $\\epsilon$ and $\\omega$ are assumed to be positive."
   ]
  },
  {
   "cell_type": "code",
   "execution_count": 43,
   "metadata": {},
   "outputs": [
    {
     "data": {
      "image/png": "[encoded data removed]",
      "text/latex": [
       "$$D = e^{- \\lambda_{1} \\left({\\sigma_-} {{a}^\\dagger} - {\\sigma_+} {a}\\right) - \\lambda_{2} \\left({\\sigma_-} {a} - {\\sigma_+} {{a}^\\dagger}\\right)}$$"
      ],
      "text/plain": [
       "          ⎛       †          ⎞      ⎛                 †⎞\n",
       "     - λ₁⋅⎝False⋅a  - False⋅a⎠ - λ₂⋅⎝False⋅a - False⋅a ⎠\n",
       "D = ℯ                                                   "
      ]
     },
     "execution_count": 43,
     "metadata": {},
     "output_type": "execute_result"
    }
   ],
   "source": [
    "l1, l2 = symbols(\"lambda1, lambda2\", real=True)\n",
    "Disp = exp(-l1 * Xm - l2 * Ym); Eq(symbols(\"D\"), Disp)"
   ]
  },
  {
   "cell_type": "markdown",
   "metadata": {},
   "source": [
    "We define the dispersive Hamiltonian $H_{disp} = DHD^\\dagger$."
   ]
  },
  {
   "cell_type": "code",
   "execution_count": 44,
   "metadata": {},
   "outputs": [
    {
     "data": {
      "image/png": "[encoded data removed]",
      "text/latex": [
       "$$- \\frac{\\epsilon \\lambda_{1}^{2}}{2} - \\epsilon \\lambda_{1}^{2} {{a}^\\dagger} {a} {\\sigma_z} - \\frac{\\epsilon \\lambda_{1}^{2}}{2} {\\sigma_z} - \\epsilon \\lambda_{1} \\lambda_{2} \\left({{a}^\\dagger}\\right)^{2} {\\sigma_z} - \\epsilon \\lambda_{1} \\lambda_{2} \\left({a}\\right)^{2} {\\sigma_z} - \\epsilon \\lambda_{1} {{a}^\\dagger} {\\sigma_-} - \\epsilon \\lambda_{1} {a} {\\sigma_+} + \\frac{\\epsilon \\lambda_{2}^{2}}{2} - \\epsilon \\lambda_{2}^{2} {{a}^\\dagger} {a} {\\sigma_z} - \\frac{\\epsilon \\lambda_{2}^{2}}{2} {\\sigma_z} - \\epsilon \\lambda_{2} {{a}^\\dagger} {\\sigma_+} - \\epsilon \\lambda_{2} {a} {\\sigma_-} + \\frac{\\epsilon {\\sigma_z}}{2} - \\frac{g \\lambda_{1}^{4}}{2} {{a}^\\dagger} \\left({a}\\right)^{2} {\\sigma_-} + g \\lambda_{1}^{4} {{a}^\\dagger} \\left({a}\\right)^{2} {\\sigma_+} - \\frac{3 g}{4} \\lambda_{1}^{4} {{a}^\\dagger} {\\sigma_-} + \\frac{3 g}{4} \\lambda_{1}^{4} {{a}^\\dagger} {\\sigma_+} - g \\lambda_{1}^{4} \\left({{a}^\\dagger}\\right)^{2} {a} {\\sigma_-} + \\frac{g \\lambda_{1}^{4}}{2} \\left({{a}^\\dagger}\\right)^{2} {a} {\\sigma_+} - \\frac{g \\lambda_{1}^{4}}{2} \\left({{a}^\\dagger}\\right)^{3} {\\sigma_-} - \\frac{g \\lambda_{1}^{4}}{4} {a} {\\sigma_-} + \\frac{5 g}{4} \\lambda_{1}^{4} {a} {\\sigma_+} + \\frac{g \\lambda_{1}^{4}}{2} \\left({a}\\right)^{3} {\\sigma_+} - \\frac{3 g}{2} \\lambda_{1}^{3} \\lambda_{2} {{a}^\\dagger} \\left({a}\\right)^{2} {\\sigma_-} + \\frac{3 g}{2} \\lambda_{1}^{3} \\lambda_{2} {{a}^\\dagger} \\left({a}\\right)^{2} {\\sigma_+} - \\frac{3 g}{2} \\lambda_{1}^{3} \\lambda_{2} {{a}^\\dagger} {\\sigma_-} + \\frac{3 g}{2} \\lambda_{1}^{3} \\lambda_{2} {{a}^\\dagger} {\\sigma_+} - \\frac{3 g}{2} \\lambda_{1}^{3} \\lambda_{2} \\left({{a}^\\dagger}\\right)^{2} {a} {\\sigma_-} + \\frac{3 g}{2} \\lambda_{1}^{3} \\lambda_{2} \\left({{a}^\\dagger}\\right)^{2} {a} {\\sigma_+} - \\frac{g \\lambda_{2}}{2} \\lambda_{1}^{3} \\left({{a}^\\dagger}\\right)^{3} {\\sigma_-} + \\frac{g \\lambda_{2}}{2} \\lambda_{1}^{3} \\left({{a}^\\dagger}\\right)^{3} {\\sigma_+} - \\frac{3 g}{2} \\lambda_{1}^{3} \\lambda_{2} {a} {\\sigma_-} + \\frac{3 g}{2} \\lambda_{1}^{3} \\lambda_{2} {a} {\\sigma_+} - \\frac{g \\lambda_{2}}{2} \\lambda_{1}^{3} \\left({a}\\right)^{3} {\\sigma_-} + \\frac{g \\lambda_{2}}{2} \\lambda_{1}^{3} \\left({a}\\right)^{3} {\\sigma_+} + \\frac{g \\lambda_{1}^{3}}{2} \\left({{a}^\\dagger}\\right)^{2} {\\sigma_z} - \\frac{g \\lambda_{1}^{3}}{2} \\left({a}\\right)^{2} {\\sigma_z} - \\frac{g \\lambda_{1}^{2}}{2} \\lambda_{2}^{2} {{a}^\\dagger} \\left({a}\\right)^{2} {\\sigma_-} - \\frac{g \\lambda_{1}^{2}}{2} \\lambda_{2}^{2} {{a}^\\dagger} \\left({a}\\right)^{2} {\\sigma_+} + \\frac{g \\lambda_{1}^{2}}{2} \\lambda_{2}^{2} \\left({{a}^\\dagger}\\right)^{2} {a} {\\sigma_-} + \\frac{g \\lambda_{1}^{2}}{2} \\lambda_{2}^{2} \\left({{a}^\\dagger}\\right)^{2} {a} {\\sigma_+} + \\frac{g \\lambda_{1}^{2}}{2} \\lambda_{2}^{2} \\left({{a}^\\dagger}\\right)^{3} {\\sigma_-} + \\frac{g \\lambda_{1}^{2}}{2} \\lambda_{2}^{2} \\left({{a}^\\dagger}\\right)^{3} {\\sigma_+} - g \\lambda_{1}^{2} \\lambda_{2}^{2} {a} {\\sigma_-} - g \\lambda_{1}^{2} \\lambda_{2}^{2} {a} {\\sigma_+} - \\frac{g \\lambda_{1}^{2}}{2} \\lambda_{2}^{2} \\left({a}\\right)^{3} {\\sigma_-} - \\frac{g \\lambda_{1}^{2}}{2} \\lambda_{2}^{2} \\left({a}\\right)^{3} {\\sigma_+} - \\frac{g \\lambda_{2}}{2} \\lambda_{1}^{2} \\left({{a}^\\dagger}\\right)^{2} {\\sigma_z} + \\frac{g \\lambda_{2}}{2} \\lambda_{1}^{2} \\left({a}\\right)^{2} {\\sigma_z} - g \\lambda_{1}^{2} {{a}^\\dagger} \\left({a}\\right)^{2} {\\sigma_-} - 2 g \\lambda_{1}^{2} {{a}^\\dagger} \\left({a}\\right)^{2} {\\sigma_+} - 2 g \\lambda_{1}^{2} {{a}^\\dagger} {\\sigma_-} - g \\lambda_{1}^{2} {{a}^\\dagger} {\\sigma_+} - 2 g \\lambda_{1}^{2} \\left({{a}^\\dagger}\\right)^{2} {a} {\\sigma_-} - g \\lambda_{1}^{2} \\left({{a}^\\dagger}\\right)^{2} {a} {\\sigma_+} - g \\lambda_{1}^{2} \\left({{a}^\\dagger}\\right)^{3} {\\sigma_-} - g \\lambda_{1}^{2} {a} {\\sigma_-} - 2 g \\lambda_{1}^{2} {a} {\\sigma_+} - g \\lambda_{1}^{2} \\left({a}\\right)^{3} {\\sigma_+} + \\frac{3 g}{2} \\lambda_{1} \\lambda_{2}^{3} {{a}^\\dagger} \\left({a}\\right)^{2} {\\sigma_-} - \\frac{3 g}{2} \\lambda_{1} \\lambda_{2}^{3} {{a}^\\dagger} \\left({a}\\right)^{2} {\\sigma_+} + \\frac{3 g}{2} \\lambda_{1} \\lambda_{2}^{3} {{a}^\\dagger} {\\sigma_-} - \\frac{3 g}{2} \\lambda_{1} \\lambda_{2}^{3} {{a}^\\dagger} {\\sigma_+} + \\frac{3 g}{2} \\lambda_{1} \\lambda_{2}^{3} \\left({{a}^\\dagger}\\right)^{2} {a} {\\sigma_-} - \\frac{3 g}{2} \\lambda_{1} \\lambda_{2}^{3} \\left({{a}^\\dagger}\\right)^{2} {a} {\\sigma_+} + \\frac{g \\lambda_{1}}{2} \\lambda_{2}^{3} \\left({{a}^\\dagger}\\right)^{3} {\\sigma_-} - \\frac{g \\lambda_{1}}{2} \\lambda_{2}^{3} \\left({{a}^\\dagger}\\right)^{3} {\\sigma_+} + \\frac{3 g}{2} \\lambda_{1} \\lambda_{2}^{3} {a} {\\sigma_-} - \\frac{3 g}{2} \\lambda_{1} \\lambda_{2}^{3} {a} {\\sigma_+} + \\frac{g \\lambda_{1}}{2} \\lambda_{2}^{3} \\left({a}\\right)^{3} {\\sigma_-} - \\frac{g \\lambda_{1}}{2} \\lambda_{2}^{3} \\left({a}\\right)^{3} {\\sigma_+} - \\frac{g \\lambda_{1}}{2} \\lambda_{2}^{2} \\left({{a}^\\dagger}\\right)^{2} {\\sigma_z} + \\frac{g \\lambda_{1}}{2} \\lambda_{2}^{2} \\left({a}\\right)^{2} {\\sigma_z} - 3 g \\lambda_{1} \\lambda_{2} {{a}^\\dagger} \\left({a}\\right)^{2} {\\sigma_-} - 3 g \\lambda_{1} \\lambda_{2} {{a}^\\dagger} \\left({a}\\right)^{2} {\\sigma_+} - 3 g \\lambda_{1} \\lambda_{2} {{a}^\\dagger} {\\sigma_-} - 3 g \\lambda_{1} \\lambda_{2} {{a}^\\dagger} {\\sigma_+} - 3 g \\lambda_{1} \\lambda_{2} \\left({{a}^\\dagger}\\right)^{2} {a} {\\sigma_-} - 3 g \\lambda_{1} \\lambda_{2} \\left({{a}^\\dagger}\\right)^{2} {a} {\\sigma_+} - g \\lambda_{1} \\lambda_{2} \\left({{a}^\\dagger}\\right)^{3} {\\sigma_-} - g \\lambda_{1} \\lambda_{2} \\left({{a}^\\dagger}\\right)^{3} {\\sigma_+} - 3 g \\lambda_{1} \\lambda_{2} {a} {\\sigma_-} - 3 g \\lambda_{1} \\lambda_{2} {a} {\\sigma_+} - g \\lambda_{1} \\lambda_{2} \\left({a}\\right)^{3} {\\sigma_-} - g \\lambda_{1} \\lambda_{2} \\left({a}\\right)^{3} {\\sigma_+} + g \\lambda_{1} + 2 g \\lambda_{1} {{a}^\\dagger} {a} {\\sigma_z} + g \\lambda_{1} \\left({{a}^\\dagger}\\right)^{2} {\\sigma_z} + g \\lambda_{1} \\left({a}\\right)^{2} {\\sigma_z} + g \\lambda_{1} {\\sigma_z} + g \\lambda_{2}^{4} {{a}^\\dagger} \\left({a}\\right)^{2} {\\sigma_-} - \\frac{g \\lambda_{2}^{4}}{2} {{a}^\\dagger} \\left({a}\\right)^{2} {\\sigma_+} + \\frac{3 g}{4} \\lambda_{2}^{4} {{a}^\\dagger} {\\sigma_-} - \\frac{3 g}{4} \\lambda_{2}^{4} {{a}^\\dagger} {\\sigma_+} + \\frac{g \\lambda_{2}^{4}}{2} \\left({{a}^\\dagger}\\right)^{2} {a} {\\sigma_-} - g \\lambda_{2}^{4} \\left({{a}^\\dagger}\\right)^{2} {a} {\\sigma_+} - \\frac{g \\lambda_{2}^{4}}{2} \\left({{a}^\\dagger}\\right)^{3} {\\sigma_+} + \\frac{5 g}{4} \\lambda_{2}^{4} {a} {\\sigma_-} - \\frac{g \\lambda_{2}^{4}}{4} {a} {\\sigma_+} + \\frac{g \\lambda_{2}^{4}}{2} \\left({a}\\right)^{3} {\\sigma_-} + \\frac{g \\lambda_{2}^{3}}{2} \\left({{a}^\\dagger}\\right)^{2} {\\sigma_z} - \\frac{g \\lambda_{2}^{3}}{2} \\left({a}\\right)^{2} {\\sigma_z} - 2 g \\lambda_{2}^{2} {{a}^\\dagger} \\left({a}\\right)^{2} {\\sigma_-} - g \\lambda_{2}^{2} {{a}^\\dagger} \\left({a}\\right)^{2} {\\sigma_+} - g \\lambda_{2}^{2} {{a}^\\dagger} {\\sigma_-} - 2 g \\lambda_{2}^{2} {{a}^\\dagger} {\\sigma_+} - g \\lambda_{2}^{2} \\left({{a}^\\dagger}\\right)^{2} {a} {\\sigma_-} - 2 g \\lambda_{2}^{2} \\left({{a}^\\dagger}\\right)^{2} {a} {\\sigma_+} - g \\lambda_{2}^{2} \\left({{a}^\\dagger}\\right)^{3} {\\sigma_+} - 2 g \\lambda_{2}^{2} {a} {\\sigma_-} - g \\lambda_{2}^{2} {a} {\\sigma_+} - g \\lambda_{2}^{2} \\left({a}\\right)^{3} {\\sigma_-} - g \\lambda_{2} + 2 g \\lambda_{2} {{a}^\\dagger} {a} {\\sigma_z} + g \\lambda_{2} \\left({{a}^\\dagger}\\right)^{2} {\\sigma_z} + g \\lambda_{2} \\left({a}\\right)^{2} {\\sigma_z} + g \\lambda_{2} {\\sigma_z} + g {{a}^\\dagger} {\\sigma_-} + g {{a}^\\dagger} {\\sigma_+} + g {a} {\\sigma_-} + g {a} {\\sigma_+} + \\frac{\\lambda_{1}^{4} \\omega}{4} {{a}^\\dagger} {a} - \\frac{\\lambda_{1}^{3} \\omega}{2} {{a}^\\dagger} {\\sigma_-} - \\frac{\\lambda_{1}^{3} \\omega}{2} {a} {\\sigma_+} - \\frac{\\lambda_{1}^{2} \\omega}{2} \\lambda_{2}^{2} {{a}^\\dagger} {a} - \\frac{\\lambda_{2} \\omega}{2} \\lambda_{1}^{2} {{a}^\\dagger} {\\sigma_+} - \\frac{\\lambda_{2} \\omega}{2} \\lambda_{1}^{2} {a} {\\sigma_-} + \\frac{\\lambda_{1}^{2} \\omega}{2} + \\lambda_{1}^{2} \\omega {{a}^\\dagger} {a} {\\sigma_z} + \\frac{\\lambda_{1}^{2} \\omega}{2} {\\sigma_z} + \\frac{\\lambda_{1} \\omega}{2} \\lambda_{2}^{2} {{a}^\\dagger} {\\sigma_-} + \\frac{\\lambda_{1} \\omega}{2} \\lambda_{2}^{2} {a} {\\sigma_+} + \\lambda_{1} \\omega {{a}^\\dagger} {\\sigma_-} + \\lambda_{1} \\omega {a} {\\sigma_+} + \\frac{\\lambda_{2}^{4} \\omega}{4} {{a}^\\dagger} {a} + \\frac{\\lambda_{2}^{3} \\omega}{2} {{a}^\\dagger} {\\sigma_+} + \\frac{\\lambda_{2}^{3} \\omega}{2} {a} {\\sigma_-} + \\frac{\\lambda_{2}^{2} \\omega}{2} - \\lambda_{2}^{2} \\omega {{a}^\\dagger} {a} {\\sigma_z} - \\frac{\\lambda_{2}^{2} \\omega}{2} {\\sigma_z} - \\lambda_{2} \\omega {{a}^\\dagger} {\\sigma_+} - \\lambda_{2} \\omega {a} {\\sigma_-} + \\omega {{a}^\\dagger} {a}$$"
      ],
      "text/plain": [
       "                                                                              \n",
       "      2                          2                     2                      \n",
       "  ε⋅λ₁        2  †           ε⋅λ₁ ⋅False           ⎛ †⎞                   2   \n",
       "- ───── - ε⋅λ₁ ⋅a ⋅a⋅False - ─────────── - ε⋅λ₁⋅λ₂⋅⎝a ⎠ ⋅False - ε⋅λ₁⋅λ₂⋅a ⋅Fa\n",
       "    2                             2                                           \n",
       "\n",
       "                                                                              \n",
       "                                         2                          2         \n",
       "            †                        ε⋅λ₂        2  †           ε⋅λ₂ ⋅False   \n",
       "lse - ε⋅λ₁⋅a ⋅False - ε⋅λ₁⋅a⋅False + ───── - ε⋅λ₂ ⋅a ⋅a⋅False - ─────────── - \n",
       "                                       2                             2        \n",
       "\n",
       "                                                                              \n",
       "                                             4  †  2                          \n",
       "      †                        ε⋅False   g⋅λ₁ ⋅a ⋅a ⋅False       4  †  2      \n",
       "ε⋅λ₂⋅a ⋅False - ε⋅λ₂⋅a⋅False + ─────── - ───────────────── + g⋅λ₁ ⋅a ⋅a ⋅False\n",
       "                                  2              2                            \n",
       "\n",
       "                                                                         2    \n",
       "         4  †               4  †                   2               4 ⎛ †⎞     \n",
       "   3⋅g⋅λ₁ ⋅a ⋅False   3⋅g⋅λ₁ ⋅a ⋅False       4 ⎛ †⎞            g⋅λ₁ ⋅⎝a ⎠ ⋅a⋅F\n",
       " - ──────────────── + ──────────────── - g⋅λ₁ ⋅⎝a ⎠ ⋅a⋅False + ───────────────\n",
       "          4                  4                                          2     \n",
       "\n",
       "                 3                                                            \n",
       "           4 ⎛ †⎞              4                 4               4  3         \n",
       "alse   g⋅λ₁ ⋅⎝a ⎠ ⋅False   g⋅λ₁ ⋅a⋅False   5⋅g⋅λ₁ ⋅a⋅False   g⋅λ₁ ⋅a ⋅False   \n",
       "──── - ───────────────── - ───────────── + ─────────────── + ────────────── - \n",
       "               2                 4                4                2          \n",
       "\n",
       "                                                                              \n",
       "      3     †  2               3     †  2               3     †               \n",
       "3⋅g⋅λ₁ ⋅λ₂⋅a ⋅a ⋅False   3⋅g⋅λ₁ ⋅λ₂⋅a ⋅a ⋅False   3⋅g⋅λ₁ ⋅λ₂⋅a ⋅False   3⋅g⋅λ₁\n",
       "────────────────────── + ────────────────────── - ─────────────────── + ──────\n",
       "          2                        2                       2                  \n",
       "\n",
       "                               2                          2                   \n",
       "3     †               3    ⎛ †⎞                  3    ⎛ †⎞                3   \n",
       " ⋅λ₂⋅a ⋅False   3⋅g⋅λ₁ ⋅λ₂⋅⎝a ⎠ ⋅a⋅False   3⋅g⋅λ₁ ⋅λ₂⋅⎝a ⎠ ⋅a⋅False   g⋅λ₁ ⋅λ₂\n",
       "───────────── - ──────────────────────── + ──────────────────────── - ────────\n",
       "   2                       2                          2                       \n",
       "\n",
       "     3                      3                                                 \n",
       " ⎛ †⎞              3    ⎛ †⎞                3                    3            \n",
       "⋅⎝a ⎠ ⋅False   g⋅λ₁ ⋅λ₂⋅⎝a ⎠ ⋅False   3⋅g⋅λ₁ ⋅λ₂⋅a⋅False   3⋅g⋅λ₁ ⋅λ₂⋅a⋅False \n",
       "──────────── + ──────────────────── - ────────────────── + ────────────────── \n",
       " 2                      2                     2                    2          \n",
       "\n",
       "                                                    2                         \n",
       "      3     3             3     3             3 ⎛ †⎞              3  2        \n",
       "  g⋅λ₁ ⋅λ₂⋅a ⋅False   g⋅λ₁ ⋅λ₂⋅a ⋅False   g⋅λ₁ ⋅⎝a ⎠ ⋅False   g⋅λ₁ ⋅a ⋅False  \n",
       "- ───────────────── + ───────────────── + ───────────────── - ────────────── -\n",
       "          2                   2                   2                 2         \n",
       "\n",
       "                                                               2              \n",
       "     2   2  †  2             2   2  †  2             2   2 ⎛ †⎞               \n",
       " g⋅λ₁ ⋅λ₂ ⋅a ⋅a ⋅False   g⋅λ₁ ⋅λ₂ ⋅a ⋅a ⋅False   g⋅λ₁ ⋅λ₂ ⋅⎝a ⎠ ⋅a⋅False   g⋅λ\n",
       " ───────────────────── - ───────────────────── + ─────────────────────── + ───\n",
       "           2                       2                        2                 \n",
       "\n",
       "           2                         3                       3                \n",
       " 2   2 ⎛ †⎞                2   2 ⎛ †⎞              2   2 ⎛ †⎞                 \n",
       "₁ ⋅λ₂ ⋅⎝a ⎠ ⋅a⋅False   g⋅λ₁ ⋅λ₂ ⋅⎝a ⎠ ⋅False   g⋅λ₁ ⋅λ₂ ⋅⎝a ⎠ ⋅False       2  \n",
       "──────────────────── + ───────────────────── + ───────────────────── - g⋅λ₁ ⋅λ\n",
       "        2                        2                       2                    \n",
       "\n",
       "                                                                              \n",
       "                                     2   2  3             2   2  3            \n",
       " 2               2   2           g⋅λ₁ ⋅λ₂ ⋅a ⋅False   g⋅λ₁ ⋅λ₂ ⋅a ⋅False   g⋅λ\n",
       "₂ ⋅a⋅False - g⋅λ₁ ⋅λ₂ ⋅a⋅False - ────────────────── - ────────────────── - ───\n",
       "                                         2                    2               \n",
       "\n",
       "          2                                                                   \n",
       " 2    ⎛ †⎞              2     2                                               \n",
       "₁ ⋅λ₂⋅⎝a ⎠ ⋅False   g⋅λ₁ ⋅λ₂⋅a ⋅False       2  †  2               2  †  2     \n",
       "───────────────── + ───────────────── - g⋅λ₁ ⋅a ⋅a ⋅False - 2⋅g⋅λ₁ ⋅a ⋅a ⋅Fals\n",
       "      2                     2                                                 \n",
       "\n",
       "                                                                              \n",
       "                                                    2                     2   \n",
       "          2  †             2  †               2 ⎛ †⎞                2 ⎛ †⎞    \n",
       "e - 2⋅g⋅λ₁ ⋅a ⋅False - g⋅λ₁ ⋅a ⋅False - 2⋅g⋅λ₁ ⋅⎝a ⎠ ⋅a⋅False - g⋅λ₁ ⋅⎝a ⎠ ⋅a⋅\n",
       "                                                                              \n",
       "\n",
       "                                                                              \n",
       "                  3                                                           \n",
       "            2 ⎛ †⎞              2                 2               2  3        \n",
       "False - g⋅λ₁ ⋅⎝a ⎠ ⋅False - g⋅λ₁ ⋅a⋅False - 2⋅g⋅λ₁ ⋅a⋅False - g⋅λ₁ ⋅a ⋅False +\n",
       "                                                                              \n",
       "\n",
       "                                                                              \n",
       "          3  †  2                  3  †  2                  3  †              \n",
       " 3⋅g⋅λ₁⋅λ₂ ⋅a ⋅a ⋅False   3⋅g⋅λ₁⋅λ₂ ⋅a ⋅a ⋅False   3⋅g⋅λ₁⋅λ₂ ⋅a ⋅False   3⋅g⋅λ\n",
       " ────────────────────── - ────────────────────── + ─────────────────── - ─────\n",
       "           2                        2                       2                 \n",
       "\n",
       "                                2                          2                  \n",
       "    3  †                  3 ⎛ †⎞                     3 ⎛ †⎞                   \n",
       "₁⋅λ₂ ⋅a ⋅False   3⋅g⋅λ₁⋅λ₂ ⋅⎝a ⎠ ⋅a⋅False   3⋅g⋅λ₁⋅λ₂ ⋅⎝a ⎠ ⋅a⋅False   g⋅λ₁⋅λ₂\n",
       "────────────── + ──────────────────────── - ──────────────────────── + ───────\n",
       "    2                       2                          2                      \n",
       "\n",
       "      3                      3                                                \n",
       "3 ⎛ †⎞                 3 ⎛ †⎞                   3                    3        \n",
       " ⋅⎝a ⎠ ⋅False   g⋅λ₁⋅λ₂ ⋅⎝a ⎠ ⋅False   3⋅g⋅λ₁⋅λ₂ ⋅a⋅False   3⋅g⋅λ₁⋅λ₂ ⋅a⋅False\n",
       "───────────── - ──────────────────── + ────────────────── - ──────────────────\n",
       "  2                      2                     2                    2         \n",
       "\n",
       "                                                        2                     \n",
       "          3  3                3  3                2 ⎛ †⎞                 2  2 \n",
       "   g⋅λ₁⋅λ₂ ⋅a ⋅False   g⋅λ₁⋅λ₂ ⋅a ⋅False   g⋅λ₁⋅λ₂ ⋅⎝a ⎠ ⋅False   g⋅λ₁⋅λ₂ ⋅a ⋅\n",
       " + ───────────────── - ───────────────── - ──────────────────── + ────────────\n",
       "           2                   2                    2                     2   \n",
       "\n",
       "                                                                              \n",
       "                                                                              \n",
       "False              †  2                    †  2                    †          \n",
       "───── - 3⋅g⋅λ₁⋅λ₂⋅a ⋅a ⋅False - 3⋅g⋅λ₁⋅λ₂⋅a ⋅a ⋅False - 3⋅g⋅λ₁⋅λ₂⋅a ⋅False - 3\n",
       "                                                                              \n",
       "\n",
       "                                                                              \n",
       "                                  2                         2                 \n",
       "          †                   ⎛ †⎞                      ⎛ †⎞                  \n",
       "⋅g⋅λ₁⋅λ₂⋅a ⋅False - 3⋅g⋅λ₁⋅λ₂⋅⎝a ⎠ ⋅a⋅False - 3⋅g⋅λ₁⋅λ₂⋅⎝a ⎠ ⋅a⋅False - g⋅λ₁⋅λ\n",
       "                                                                              \n",
       "\n",
       "                                                                              \n",
       "      3                     3                                                 \n",
       "  ⎛ †⎞                  ⎛ †⎞                                                  \n",
       "₂⋅⎝a ⎠ ⋅False - g⋅λ₁⋅λ₂⋅⎝a ⎠ ⋅False - 3⋅g⋅λ₁⋅λ₂⋅a⋅False - 3⋅g⋅λ₁⋅λ₂⋅a⋅False - \n",
       "                                                                              \n",
       "\n",
       "                                                                              \n",
       "                                                                          2   \n",
       "         3                  3                        †                ⎛ †⎞    \n",
       "g⋅λ₁⋅λ₂⋅a ⋅False - g⋅λ₁⋅λ₂⋅a ⋅False + g⋅λ₁ + 2⋅g⋅λ₁⋅a ⋅a⋅False + g⋅λ₁⋅⎝a ⎠ ⋅Fa\n",
       "                                                                              \n",
       "\n",
       "                                                                              \n",
       "                                                           4  †  2            \n",
       "            2                          4  †  2         g⋅λ₂ ⋅a ⋅a ⋅False   3⋅g\n",
       "lse + g⋅λ₁⋅a ⋅False + g⋅λ₁⋅False + g⋅λ₂ ⋅a ⋅a ⋅False - ───────────────── + ───\n",
       "                                                               2              \n",
       "\n",
       "                                             2                                \n",
       "   4  †               4  †             4 ⎛ †⎞                      2          \n",
       "⋅λ₂ ⋅a ⋅False   3⋅g⋅λ₂ ⋅a ⋅False   g⋅λ₂ ⋅⎝a ⎠ ⋅a⋅False       4 ⎛ †⎞           \n",
       "───────────── - ──────────────── + ─────────────────── - g⋅λ₂ ⋅⎝a ⎠ ⋅a⋅False -\n",
       "    4                  4                    2                                 \n",
       "\n",
       "           3                                                                  \n",
       "     4 ⎛ †⎞                4               4               4  3             3 \n",
       " g⋅λ₂ ⋅⎝a ⎠ ⋅False   5⋅g⋅λ₂ ⋅a⋅False   g⋅λ₂ ⋅a⋅False   g⋅λ₂ ⋅a ⋅False   g⋅λ₂ ⋅\n",
       " ───────────────── + ─────────────── - ───────────── + ────────────── + ──────\n",
       "         2                  4                4               2                \n",
       "\n",
       "    2                                                                         \n",
       "⎛ †⎞              3  2                                                        \n",
       "⎝a ⎠ ⋅False   g⋅λ₂ ⋅a ⋅False         2  †  2             2  †  2             2\n",
       "─────────── - ────────────── - 2⋅g⋅λ₂ ⋅a ⋅a ⋅False - g⋅λ₂ ⋅a ⋅a ⋅False - g⋅λ₂ \n",
       "  2                 2                                                         \n",
       "\n",
       "                                                                              \n",
       "                                         2                       2            \n",
       "  †               2  †             2 ⎛ †⎞                  2 ⎛ †⎞             \n",
       "⋅a ⋅False - 2⋅g⋅λ₂ ⋅a ⋅False - g⋅λ₂ ⋅⎝a ⎠ ⋅a⋅False - 2⋅g⋅λ₂ ⋅⎝a ⎠ ⋅a⋅False - g\n",
       "                                                                              \n",
       "\n",
       "                                                                              \n",
       "         3                                                                    \n",
       "   2 ⎛ †⎞                2               2               2  3                 \n",
       "⋅λ₂ ⋅⎝a ⎠ ⋅False - 2⋅g⋅λ₂ ⋅a⋅False - g⋅λ₂ ⋅a⋅False - g⋅λ₂ ⋅a ⋅False - g⋅λ₂ + 2\n",
       "                                                                              \n",
       "\n",
       "                                                                              \n",
       "                            2                                                 \n",
       "       †                ⎛ †⎞                2                         †       \n",
       "⋅g⋅λ₂⋅a ⋅a⋅False + g⋅λ₂⋅⎝a ⎠ ⋅False + g⋅λ₂⋅a ⋅False + g⋅λ₂⋅False + g⋅a ⋅False \n",
       "                                                                              \n",
       "\n",
       "                                                                              \n",
       "                                         4    †       3    †           3      \n",
       "     †                                 λ₁ ⋅ω⋅a ⋅a   λ₁ ⋅ω⋅a ⋅False   λ₁ ⋅ω⋅a⋅F\n",
       "+ g⋅a ⋅False + g⋅a⋅False + g⋅a⋅False + ────────── - ────────────── - ─────────\n",
       "                                           4              2                2  \n",
       "\n",
       "                                                                              \n",
       "         2   2    †       2       †           2                  2            \n",
       "alse   λ₁ ⋅λ₂ ⋅ω⋅a ⋅a   λ₁ ⋅λ₂⋅ω⋅a ⋅False   λ₁ ⋅λ₂⋅ω⋅a⋅False   λ₁ ⋅ω     2    \n",
       "──── - ────────────── - ───────────────── - ──────────────── + ───── + λ₁ ⋅ω⋅a\n",
       "             2                  2                  2             2            \n",
       "\n",
       "                                                                              \n",
       "              2                2    †              2                          \n",
       "†           λ₁ ⋅ω⋅False   λ₁⋅λ₂ ⋅ω⋅a ⋅False   λ₁⋅λ₂ ⋅ω⋅a⋅False         †      \n",
       " ⋅a⋅False + ─────────── + ───────────────── + ──────────────── + λ₁⋅ω⋅a ⋅False\n",
       "                 2                2                  2                        \n",
       "\n",
       "                                                                              \n",
       "                    4    †       3    †           3               2           \n",
       "                  λ₂ ⋅ω⋅a ⋅a   λ₂ ⋅ω⋅a ⋅False   λ₂ ⋅ω⋅a⋅False   λ₂ ⋅ω     2   \n",
       " + λ₁⋅ω⋅a⋅False + ────────── + ────────────── + ───────────── + ───── - λ₂ ⋅ω⋅\n",
       "                      4              2                2           2           \n",
       "\n",
       "                                                                \n",
       "               2                                                \n",
       " †           λ₂ ⋅ω⋅False         †                           †  \n",
       "a ⋅a⋅False - ─────────── - λ₂⋅ω⋅a ⋅False - λ₂⋅ω⋅a⋅False + ω⋅a ⋅a\n",
       "                  2                                             "
      ]
     },
     "execution_count": 44,
     "metadata": {},
     "output_type": "execute_result"
    }
   ],
   "source": [
    "H1 = hamiltonian_transformation(Disp, H.expand(), expansion_search=False, N=3).expand()\n",
    "\n",
    "H1 = qsimplify(H1).expand()\n",
    "\n",
    "H1"
   ]
  },
  {
   "cell_type": "markdown",
   "metadata": {},
   "source": [
    "First, we only leave the terms with $\\lambda_1, \\lambda_2$ up to the second order."
   ]
  },
  {
   "cell_type": "code",
   "execution_count": 45,
   "metadata": {},
   "outputs": [
    {
     "data": {
      "image/png": "[encoded data removed]",
      "text/latex": [
       "$$- \\frac{\\epsilon \\lambda_{1}^{2}}{2} - \\epsilon \\lambda_{1}^{2} {{a}^\\dagger} {a} {\\sigma_z} - \\frac{\\epsilon \\lambda_{1}^{2}}{2} {\\sigma_z} - \\epsilon \\lambda_{1} \\lambda_{2} \\left({{a}^\\dagger}\\right)^{2} {\\sigma_z} - \\epsilon \\lambda_{1} \\lambda_{2} \\left({a}\\right)^{2} {\\sigma_z} - \\epsilon \\lambda_{1} {{a}^\\dagger} {\\sigma_-} - \\epsilon \\lambda_{1} {a} {\\sigma_+} + \\frac{\\epsilon \\lambda_{2}^{2}}{2} - \\epsilon \\lambda_{2}^{2} {{a}^\\dagger} {a} {\\sigma_z} - \\frac{\\epsilon \\lambda_{2}^{2}}{2} {\\sigma_z} - \\epsilon \\lambda_{2} {{a}^\\dagger} {\\sigma_+} - \\epsilon \\lambda_{2} {a} {\\sigma_-} + \\frac{\\epsilon {\\sigma_z}}{2} - g \\lambda_{1}^{2} {{a}^\\dagger} \\left({a}\\right)^{2} {\\sigma_-} - 2 g \\lambda_{1}^{2} {{a}^\\dagger} \\left({a}\\right)^{2} {\\sigma_+} - 2 g \\lambda_{1}^{2} {{a}^\\dagger} {\\sigma_-} - g \\lambda_{1}^{2} {{a}^\\dagger} {\\sigma_+} - 2 g \\lambda_{1}^{2} \\left({{a}^\\dagger}\\right)^{2} {a} {\\sigma_-} - g \\lambda_{1}^{2} \\left({{a}^\\dagger}\\right)^{2} {a} {\\sigma_+} - g \\lambda_{1}^{2} \\left({{a}^\\dagger}\\right)^{3} {\\sigma_-} - g \\lambda_{1}^{2} {a} {\\sigma_-} - 2 g \\lambda_{1}^{2} {a} {\\sigma_+} - g \\lambda_{1}^{2} \\left({a}\\right)^{3} {\\sigma_+} - 3 g \\lambda_{1} \\lambda_{2} {{a}^\\dagger} \\left({a}\\right)^{2} {\\sigma_-} - 3 g \\lambda_{1} \\lambda_{2} {{a}^\\dagger} \\left({a}\\right)^{2} {\\sigma_+} - 3 g \\lambda_{1} \\lambda_{2} {{a}^\\dagger} {\\sigma_-} - 3 g \\lambda_{1} \\lambda_{2} {{a}^\\dagger} {\\sigma_+} - 3 g \\lambda_{1} \\lambda_{2} \\left({{a}^\\dagger}\\right)^{2} {a} {\\sigma_-} - 3 g \\lambda_{1} \\lambda_{2} \\left({{a}^\\dagger}\\right)^{2} {a} {\\sigma_+} - g \\lambda_{1} \\lambda_{2} \\left({{a}^\\dagger}\\right)^{3} {\\sigma_-} - g \\lambda_{1} \\lambda_{2} \\left({{a}^\\dagger}\\right)^{3} {\\sigma_+} - 3 g \\lambda_{1} \\lambda_{2} {a} {\\sigma_-} - 3 g \\lambda_{1} \\lambda_{2} {a} {\\sigma_+} - g \\lambda_{1} \\lambda_{2} \\left({a}\\right)^{3} {\\sigma_-} - g \\lambda_{1} \\lambda_{2} \\left({a}\\right)^{3} {\\sigma_+} + g \\lambda_{1} + 2 g \\lambda_{1} {{a}^\\dagger} {a} {\\sigma_z} + g \\lambda_{1} \\left({{a}^\\dagger}\\right)^{2} {\\sigma_z} + g \\lambda_{1} \\left({a}\\right)^{2} {\\sigma_z} + g \\lambda_{1} {\\sigma_z} - 2 g \\lambda_{2}^{2} {{a}^\\dagger} \\left({a}\\right)^{2} {\\sigma_-} - g \\lambda_{2}^{2} {{a}^\\dagger} \\left({a}\\right)^{2} {\\sigma_+} - g \\lambda_{2}^{2} {{a}^\\dagger} {\\sigma_-} - 2 g \\lambda_{2}^{2} {{a}^\\dagger} {\\sigma_+} - g \\lambda_{2}^{2} \\left({{a}^\\dagger}\\right)^{2} {a} {\\sigma_-} - 2 g \\lambda_{2}^{2} \\left({{a}^\\dagger}\\right)^{2} {a} {\\sigma_+} - g \\lambda_{2}^{2} \\left({{a}^\\dagger}\\right)^{3} {\\sigma_+} - 2 g \\lambda_{2}^{2} {a} {\\sigma_-} - g \\lambda_{2}^{2} {a} {\\sigma_+} - g \\lambda_{2}^{2} \\left({a}\\right)^{3} {\\sigma_-} - g \\lambda_{2} + 2 g \\lambda_{2} {{a}^\\dagger} {a} {\\sigma_z} + g \\lambda_{2} \\left({{a}^\\dagger}\\right)^{2} {\\sigma_z} + g \\lambda_{2} \\left({a}\\right)^{2} {\\sigma_z} + g \\lambda_{2} {\\sigma_z} + g {{a}^\\dagger} {\\sigma_-} + g {{a}^\\dagger} {\\sigma_+} + g {a} {\\sigma_-} + g {a} {\\sigma_+} + \\frac{\\lambda_{1}^{2} \\omega}{2} + \\lambda_{1}^{2} \\omega {{a}^\\dagger} {a} {\\sigma_z} + \\frac{\\lambda_{1}^{2} \\omega}{2} {\\sigma_z} + \\lambda_{1} \\omega {{a}^\\dagger} {\\sigma_-} + \\lambda_{1} \\omega {a} {\\sigma_+} + \\frac{\\lambda_{2}^{2} \\omega}{2} - \\lambda_{2}^{2} \\omega {{a}^\\dagger} {a} {\\sigma_z} - \\frac{\\lambda_{2}^{2} \\omega}{2} {\\sigma_z} - \\lambda_{2} \\omega {{a}^\\dagger} {\\sigma_+} - \\lambda_{2} \\omega {a} {\\sigma_-} + \\omega {{a}^\\dagger} {a}$$"
      ],
      "text/plain": [
       "      2                          2                     2                      \n",
       "  ε⋅λ₁        2  †           ε⋅λ₁ ⋅False           ⎛ †⎞                   2   \n",
       "- ───── - ε⋅λ₁ ⋅a ⋅a⋅False - ─────────── - ε⋅λ₁⋅λ₂⋅⎝a ⎠ ⋅False - ε⋅λ₁⋅λ₂⋅a ⋅Fa\n",
       "    2                             2                                           \n",
       "\n",
       "                                         2                          2         \n",
       "            †                        ε⋅λ₂        2  †           ε⋅λ₂ ⋅False   \n",
       "lse - ε⋅λ₁⋅a ⋅False - ε⋅λ₁⋅a⋅False + ───── - ε⋅λ₂ ⋅a ⋅a⋅False - ─────────── - \n",
       "                                       2                             2        \n",
       "\n",
       "                                                                              \n",
       "      †                        ε⋅False       2  †  2               2  †  2    \n",
       "ε⋅λ₂⋅a ⋅False - ε⋅λ₂⋅a⋅False + ─────── - g⋅λ₁ ⋅a ⋅a ⋅False - 2⋅g⋅λ₁ ⋅a ⋅a ⋅Fal\n",
       "                                  2                                           \n",
       "\n",
       "                                                     2                     2  \n",
       "           2  †             2  †               2 ⎛ †⎞                2 ⎛ †⎞   \n",
       "se - 2⋅g⋅λ₁ ⋅a ⋅False - g⋅λ₁ ⋅a ⋅False - 2⋅g⋅λ₁ ⋅⎝a ⎠ ⋅a⋅False - g⋅λ₁ ⋅⎝a ⎠ ⋅a\n",
       "                                                                              \n",
       "\n",
       "                   3                                                          \n",
       "             2 ⎛ †⎞              2                 2               2  3       \n",
       "⋅False - g⋅λ₁ ⋅⎝a ⎠ ⋅False - g⋅λ₁ ⋅a⋅False - 2⋅g⋅λ₁ ⋅a⋅False - g⋅λ₁ ⋅a ⋅False \n",
       "                                                                              \n",
       "\n",
       "                                                                              \n",
       "             †  2                    †  2                    †                \n",
       "- 3⋅g⋅λ₁⋅λ₂⋅a ⋅a ⋅False - 3⋅g⋅λ₁⋅λ₂⋅a ⋅a ⋅False - 3⋅g⋅λ₁⋅λ₂⋅a ⋅False - 3⋅g⋅λ₁⋅\n",
       "                                                                              \n",
       "\n",
       "                            2                         2                       \n",
       "    †                   ⎛ †⎞                      ⎛ †⎞                    ⎛ †⎞\n",
       "λ₂⋅a ⋅False - 3⋅g⋅λ₁⋅λ₂⋅⎝a ⎠ ⋅a⋅False - 3⋅g⋅λ₁⋅λ₂⋅⎝a ⎠ ⋅a⋅False - g⋅λ₁⋅λ₂⋅⎝a ⎠\n",
       "                                                                              \n",
       "\n",
       "3                     3                                                       \n",
       "                  ⎛ †⎞                                                        \n",
       " ⋅False - g⋅λ₁⋅λ₂⋅⎝a ⎠ ⋅False - 3⋅g⋅λ₁⋅λ₂⋅a⋅False - 3⋅g⋅λ₁⋅λ₂⋅a⋅False - g⋅λ₁⋅λ\n",
       "                                                                              \n",
       "\n",
       "                                                                    2         \n",
       "   3                  3                        †                ⎛ †⎞          \n",
       "₂⋅a ⋅False - g⋅λ₁⋅λ₂⋅a ⋅False + g⋅λ₁ + 2⋅g⋅λ₁⋅a ⋅a⋅False + g⋅λ₁⋅⎝a ⎠ ⋅False + \n",
       "                                                                              \n",
       "\n",
       "                                                                              \n",
       "      2                            2  †  2             2  †  2             2  \n",
       "g⋅λ₁⋅a ⋅False + g⋅λ₁⋅False - 2⋅g⋅λ₂ ⋅a ⋅a ⋅False - g⋅λ₂ ⋅a ⋅a ⋅False - g⋅λ₂ ⋅a\n",
       "                                                                              \n",
       "\n",
       "                                       2                       2              \n",
       "†               2  †             2 ⎛ †⎞                  2 ⎛ †⎞               \n",
       " ⋅False - 2⋅g⋅λ₂ ⋅a ⋅False - g⋅λ₂ ⋅⎝a ⎠ ⋅a⋅False - 2⋅g⋅λ₂ ⋅⎝a ⎠ ⋅a⋅False - g⋅λ\n",
       "                                                                              \n",
       "\n",
       "       3                                                                      \n",
       " 2 ⎛ †⎞                2               2               2  3                   \n",
       "₂ ⋅⎝a ⎠ ⋅False - 2⋅g⋅λ₂ ⋅a⋅False - g⋅λ₂ ⋅a⋅False - g⋅λ₂ ⋅a ⋅False - g⋅λ₂ + 2⋅g\n",
       "                                                                              \n",
       "\n",
       "                          2                                                   \n",
       "     †                ⎛ †⎞                2                         †         \n",
       "⋅λ₂⋅a ⋅a⋅False + g⋅λ₂⋅⎝a ⎠ ⋅False + g⋅λ₂⋅a ⋅False + g⋅λ₂⋅False + g⋅a ⋅False + \n",
       "                                                                              \n",
       "\n",
       "                                       2                          2           \n",
       "   †                                 λ₁ ⋅ω     2    †           λ₁ ⋅ω⋅False   \n",
       "g⋅a ⋅False + g⋅a⋅False + g⋅a⋅False + ───── + λ₁ ⋅ω⋅a ⋅a⋅False + ─────────── + \n",
       "                                       2                             2        \n",
       "\n",
       "                                 2                          2                 \n",
       "      †                        λ₂ ⋅ω     2    †           λ₂ ⋅ω⋅False         \n",
       "λ₁⋅ω⋅a ⋅False + λ₁⋅ω⋅a⋅False + ───── - λ₂ ⋅ω⋅a ⋅a⋅False - ─────────── - λ₂⋅ω⋅a\n",
       "                                 2                             2              \n",
       "\n",
       "                               \n",
       "†                           †  \n",
       " ⋅False - λ₂⋅ω⋅a⋅False + ω⋅a ⋅a\n",
       "                               "
      ]
     },
     "execution_count": 45,
     "metadata": {},
     "output_type": "execute_result"
    }
   ],
   "source": [
    "H2 = drop_terms_containing(H1.expand(), [l1**3, l1 * l2**2, l1**2 * l2, l2**3,\n",
    "                                         l1**4, l1**3 * l2, l1**2 * l2**2, l1 * l2**3,  l2**4]); H2"
   ]
  },
  {
   "cell_type": "code",
   "execution_count": 46,
   "metadata": {},
   "outputs": [
    {
     "data": {
      "image/png": "[encoded data removed]",
      "text/latex": [
       "$$- \\epsilon \\lambda_{1}^{2} {{a}^\\dagger} {a} {\\sigma_z} - \\frac{\\epsilon \\lambda_{1}^{2}}{2} {\\sigma_z} - \\epsilon \\lambda_{1} \\lambda_{2} \\left({{a}^\\dagger}\\right)^{2} {\\sigma_z} - \\epsilon \\lambda_{1} \\lambda_{2} \\left({a}\\right)^{2} {\\sigma_z} - \\epsilon \\lambda_{1} {{a}^\\dagger} {\\sigma_-} - \\epsilon \\lambda_{1} {a} {\\sigma_+} - \\epsilon \\lambda_{2}^{2} {{a}^\\dagger} {a} {\\sigma_z} - \\frac{\\epsilon \\lambda_{2}^{2}}{2} {\\sigma_z} - \\epsilon \\lambda_{2} {{a}^\\dagger} {\\sigma_+} - \\epsilon \\lambda_{2} {a} {\\sigma_-} + \\frac{\\epsilon {\\sigma_z}}{2} - g \\lambda_{1}^{2} {{a}^\\dagger} \\left({a}\\right)^{2} {\\sigma_-} - 2 g \\lambda_{1}^{2} {{a}^\\dagger} \\left({a}\\right)^{2} {\\sigma_+} - 2 g \\lambda_{1}^{2} {{a}^\\dagger} {\\sigma_-} - g \\lambda_{1}^{2} {{a}^\\dagger} {\\sigma_+} - 2 g \\lambda_{1}^{2} \\left({{a}^\\dagger}\\right)^{2} {a} {\\sigma_-} - g \\lambda_{1}^{2} \\left({{a}^\\dagger}\\right)^{2} {a} {\\sigma_+} - g \\lambda_{1}^{2} \\left({{a}^\\dagger}\\right)^{3} {\\sigma_-} - g \\lambda_{1}^{2} {a} {\\sigma_-} - 2 g \\lambda_{1}^{2} {a} {\\sigma_+} - g \\lambda_{1}^{2} \\left({a}\\right)^{3} {\\sigma_+} - 3 g \\lambda_{1} \\lambda_{2} {{a}^\\dagger} \\left({a}\\right)^{2} {\\sigma_-} - 3 g \\lambda_{1} \\lambda_{2} {{a}^\\dagger} \\left({a}\\right)^{2} {\\sigma_+} - 3 g \\lambda_{1} \\lambda_{2} {{a}^\\dagger} {\\sigma_-} - 3 g \\lambda_{1} \\lambda_{2} {{a}^\\dagger} {\\sigma_+} - 3 g \\lambda_{1} \\lambda_{2} \\left({{a}^\\dagger}\\right)^{2} {a} {\\sigma_-} - 3 g \\lambda_{1} \\lambda_{2} \\left({{a}^\\dagger}\\right)^{2} {a} {\\sigma_+} - g \\lambda_{1} \\lambda_{2} \\left({{a}^\\dagger}\\right)^{3} {\\sigma_-} - g \\lambda_{1} \\lambda_{2} \\left({{a}^\\dagger}\\right)^{3} {\\sigma_+} - 3 g \\lambda_{1} \\lambda_{2} {a} {\\sigma_-} - 3 g \\lambda_{1} \\lambda_{2} {a} {\\sigma_+} - g \\lambda_{1} \\lambda_{2} \\left({a}\\right)^{3} {\\sigma_-} - g \\lambda_{1} \\lambda_{2} \\left({a}\\right)^{3} {\\sigma_+} + 2 g \\lambda_{1} {{a}^\\dagger} {a} {\\sigma_z} + g \\lambda_{1} \\left({{a}^\\dagger}\\right)^{2} {\\sigma_z} + g \\lambda_{1} \\left({a}\\right)^{2} {\\sigma_z} + g \\lambda_{1} {\\sigma_z} - 2 g \\lambda_{2}^{2} {{a}^\\dagger} \\left({a}\\right)^{2} {\\sigma_-} - g \\lambda_{2}^{2} {{a}^\\dagger} \\left({a}\\right)^{2} {\\sigma_+} - g \\lambda_{2}^{2} {{a}^\\dagger} {\\sigma_-} - 2 g \\lambda_{2}^{2} {{a}^\\dagger} {\\sigma_+} - g \\lambda_{2}^{2} \\left({{a}^\\dagger}\\right)^{2} {a} {\\sigma_-} - 2 g \\lambda_{2}^{2} \\left({{a}^\\dagger}\\right)^{2} {a} {\\sigma_+} - g \\lambda_{2}^{2} \\left({{a}^\\dagger}\\right)^{3} {\\sigma_+} - 2 g \\lambda_{2}^{2} {a} {\\sigma_-} - g \\lambda_{2}^{2} {a} {\\sigma_+} - g \\lambda_{2}^{2} \\left({a}\\right)^{3} {\\sigma_-} + 2 g \\lambda_{2} {{a}^\\dagger} {a} {\\sigma_z} + g \\lambda_{2} \\left({{a}^\\dagger}\\right)^{2} {\\sigma_z} + g \\lambda_{2} \\left({a}\\right)^{2} {\\sigma_z} + g \\lambda_{2} {\\sigma_z} + g {{a}^\\dagger} {\\sigma_-} + g {{a}^\\dagger} {\\sigma_+} + g {a} {\\sigma_-} + g {a} {\\sigma_+} + \\lambda_{1}^{2} \\omega {{a}^\\dagger} {a} {\\sigma_z} + \\frac{\\lambda_{1}^{2} \\omega}{2} {\\sigma_z} + \\lambda_{1} \\omega {{a}^\\dagger} {\\sigma_-} + \\lambda_{1} \\omega {a} {\\sigma_+} - \\lambda_{2}^{2} \\omega {{a}^\\dagger} {a} {\\sigma_z} - \\frac{\\lambda_{2}^{2} \\omega}{2} {\\sigma_z} - \\lambda_{2} \\omega {{a}^\\dagger} {\\sigma_+} - \\lambda_{2} \\omega {a} {\\sigma_-} + \\omega {{a}^\\dagger} {a}$$"
      ],
      "text/plain": [
       "                         2                     2                              \n",
       "      2  †           ε⋅λ₁ ⋅False           ⎛ †⎞                   2           \n",
       "- ε⋅λ₁ ⋅a ⋅a⋅False - ─────────── - ε⋅λ₁⋅λ₂⋅⎝a ⎠ ⋅False - ε⋅λ₁⋅λ₂⋅a ⋅False - ε⋅\n",
       "                          2                                                   \n",
       "\n",
       "                                                    2                         \n",
       "    †                            2  †           ε⋅λ₂ ⋅False         †         \n",
       "λ₁⋅a ⋅False - ε⋅λ₁⋅a⋅False - ε⋅λ₂ ⋅a ⋅a⋅False - ─────────── - ε⋅λ₂⋅a ⋅False - \n",
       "                                                     2                        \n",
       "\n",
       "                                                                              \n",
       "               ε⋅False       2  †  2               2  †  2               2  † \n",
       "ε⋅λ₂⋅a⋅False + ─────── - g⋅λ₁ ⋅a ⋅a ⋅False - 2⋅g⋅λ₁ ⋅a ⋅a ⋅False - 2⋅g⋅λ₁ ⋅a ⋅\n",
       "                  2                                                           \n",
       "\n",
       "                                     2                     2                  \n",
       "            2  †               2 ⎛ †⎞                2 ⎛ †⎞                2 ⎛\n",
       "False - g⋅λ₁ ⋅a ⋅False - 2⋅g⋅λ₁ ⋅⎝a ⎠ ⋅a⋅False - g⋅λ₁ ⋅⎝a ⎠ ⋅a⋅False - g⋅λ₁ ⋅⎝\n",
       "                                                                              \n",
       "\n",
       "   3                                                                          \n",
       " †⎞              2                 2               2  3                    †  \n",
       "a ⎠ ⋅False - g⋅λ₁ ⋅a⋅False - 2⋅g⋅λ₁ ⋅a⋅False - g⋅λ₁ ⋅a ⋅False - 3⋅g⋅λ₁⋅λ₂⋅a ⋅a\n",
       "                                                                              \n",
       "\n",
       "                                                                              \n",
       "2                    †  2                    †                    †           \n",
       " ⋅False - 3⋅g⋅λ₁⋅λ₂⋅a ⋅a ⋅False - 3⋅g⋅λ₁⋅λ₂⋅a ⋅False - 3⋅g⋅λ₁⋅λ₂⋅a ⋅False - 3⋅\n",
       "                                                                              \n",
       "\n",
       "            2                         2                       3               \n",
       "        ⎛ †⎞                      ⎛ †⎞                    ⎛ †⎞                \n",
       "g⋅λ₁⋅λ₂⋅⎝a ⎠ ⋅a⋅False - 3⋅g⋅λ₁⋅λ₂⋅⎝a ⎠ ⋅a⋅False - g⋅λ₁⋅λ₂⋅⎝a ⎠ ⋅False - g⋅λ₁⋅λ\n",
       "                                                                              \n",
       "\n",
       "      3                                                                       \n",
       "  ⎛ †⎞                                                           3            \n",
       "₂⋅⎝a ⎠ ⋅False - 3⋅g⋅λ₁⋅λ₂⋅a⋅False - 3⋅g⋅λ₁⋅λ₂⋅a⋅False - g⋅λ₁⋅λ₂⋅a ⋅False - g⋅λ\n",
       "                                                                              \n",
       "\n",
       "                                             2                                \n",
       "      3                 †                ⎛ †⎞                2                \n",
       "₁⋅λ₂⋅a ⋅False + 2⋅g⋅λ₁⋅a ⋅a⋅False + g⋅λ₁⋅⎝a ⎠ ⋅False + g⋅λ₁⋅a ⋅False + g⋅λ₁⋅Fa\n",
       "                                                                              \n",
       "\n",
       "                                                                              \n",
       "            2  †  2             2  †  2             2  †               2  †   \n",
       "lse - 2⋅g⋅λ₂ ⋅a ⋅a ⋅False - g⋅λ₂ ⋅a ⋅a ⋅False - g⋅λ₂ ⋅a ⋅False - 2⋅g⋅λ₂ ⋅a ⋅Fa\n",
       "                                                                              \n",
       "\n",
       "                2                       2                     3               \n",
       "          2 ⎛ †⎞                  2 ⎛ †⎞                2 ⎛ †⎞                \n",
       "lse - g⋅λ₂ ⋅⎝a ⎠ ⋅a⋅False - 2⋅g⋅λ₂ ⋅⎝a ⎠ ⋅a⋅False - g⋅λ₂ ⋅⎝a ⎠ ⋅False - 2⋅g⋅λ₂\n",
       "                                                                              \n",
       "\n",
       "                                                                          2   \n",
       "2               2               2  3                 †                ⎛ †⎞    \n",
       " ⋅a⋅False - g⋅λ₂ ⋅a⋅False - g⋅λ₂ ⋅a ⋅False + 2⋅g⋅λ₂⋅a ⋅a⋅False + g⋅λ₂⋅⎝a ⎠ ⋅Fa\n",
       "                                                                              \n",
       "\n",
       "                                                                              \n",
       "            2                         †            †                          \n",
       "lse + g⋅λ₂⋅a ⋅False + g⋅λ₂⋅False + g⋅a ⋅False + g⋅a ⋅False + g⋅a⋅False + g⋅a⋅F\n",
       "                                                                              \n",
       "\n",
       "                            2                                                 \n",
       "         2    †           λ₁ ⋅ω⋅False         †                          2    \n",
       "alse + λ₁ ⋅ω⋅a ⋅a⋅False + ─────────── + λ₁⋅ω⋅a ⋅False + λ₁⋅ω⋅a⋅False - λ₂ ⋅ω⋅a\n",
       "                               2                                              \n",
       "\n",
       "              2                                                \n",
       "†           λ₂ ⋅ω⋅False         †                           †  \n",
       " ⋅a⋅False - ─────────── - λ₂⋅ω⋅a ⋅False - λ₂⋅ω⋅a⋅False + ω⋅a ⋅a\n",
       "                 2                                             "
      ]
     },
     "execution_count": 46,
     "metadata": {},
     "output_type": "execute_result"
    }
   ],
   "source": [
    "H3 = drop_c_number_terms(H2)\n",
    "H4 = qsimplify(H3)\n",
    "H4"
   ]
  },
  {
   "cell_type": "markdown",
   "metadata": {},
   "source": [
    "Move to a frame co-rotating with the qubit-oscillator system."
   ]
  },
  {
   "cell_type": "code",
   "execution_count": 47,
   "metadata": {},
   "outputs": [
    {
     "data": {
      "image/png": "[encoded data removed]",
      "text/latex": [
       "$$- \\epsilon \\lambda_{1}^{2} {{a}^\\dagger} {a} {\\sigma_z} - \\frac{\\epsilon \\lambda_{1}^{2}}{2} {\\sigma_z} - \\epsilon \\lambda_{1} \\lambda_{2} e^{2 i \\omega t} \\left({{a}^\\dagger}\\right)^{2} {\\sigma_z} - \\epsilon \\lambda_{1} \\lambda_{2} e^{- 2 i \\omega t} \\left({a}\\right)^{2} {\\sigma_z} - \\epsilon \\lambda_{1} e^{i \\epsilon t} e^{- i \\omega t} {a} {\\sigma_+} - \\epsilon \\lambda_{1} e^{- i \\epsilon t} e^{i \\omega t} {{a}^\\dagger} {\\sigma_-} - \\epsilon \\lambda_{2}^{2} {{a}^\\dagger} {a} {\\sigma_z} - \\frac{\\epsilon \\lambda_{2}^{2}}{2} {\\sigma_z} - \\epsilon \\lambda_{2} e^{i \\epsilon t} e^{i \\omega t} {{a}^\\dagger} {\\sigma_+} - \\epsilon \\lambda_{2} e^{- i \\epsilon t} e^{- i \\omega t} {a} {\\sigma_-} - g \\lambda_{1}^{2} e^{i \\epsilon t} e^{i \\omega t} {{a}^\\dagger} {\\sigma_+} - g \\lambda_{1}^{2} e^{i \\epsilon t} e^{i \\omega t} \\left({{a}^\\dagger}\\right)^{2} {a} {\\sigma_+} - 2 g \\lambda_{1}^{2} e^{i \\epsilon t} e^{- i \\omega t} {{a}^\\dagger} \\left({a}\\right)^{2} {\\sigma_+} - 2 g \\lambda_{1}^{2} e^{i \\epsilon t} e^{- i \\omega t} {a} {\\sigma_+} - g \\lambda_{1}^{2} e^{i \\epsilon t} e^{- 3 i \\omega t} \\left({a}\\right)^{3} {\\sigma_+} - g \\lambda_{1}^{2} e^{- i \\epsilon t} e^{3 i \\omega t} \\left({{a}^\\dagger}\\right)^{3} {\\sigma_-} - 2 g \\lambda_{1}^{2} e^{- i \\epsilon t} e^{i \\omega t} {{a}^\\dagger} {\\sigma_-} - 2 g \\lambda_{1}^{2} e^{- i \\epsilon t} e^{i \\omega t} \\left({{a}^\\dagger}\\right)^{2} {a} {\\sigma_-} - g \\lambda_{1}^{2} e^{- i \\epsilon t} e^{- i \\omega t} {{a}^\\dagger} \\left({a}\\right)^{2} {\\sigma_-} - g \\lambda_{1}^{2} e^{- i \\epsilon t} e^{- i \\omega t} {a} {\\sigma_-} - g \\lambda_{1} \\lambda_{2} e^{i \\epsilon t} e^{3 i \\omega t} \\left({{a}^\\dagger}\\right)^{3} {\\sigma_+} - 3 g \\lambda_{1} \\lambda_{2} e^{i \\epsilon t} e^{i \\omega t} {{a}^\\dagger} {\\sigma_+} - 3 g \\lambda_{1} \\lambda_{2} e^{i \\epsilon t} e^{i \\omega t} \\left({{a}^\\dagger}\\right)^{2} {a} {\\sigma_+} - 3 g \\lambda_{1} \\lambda_{2} e^{i \\epsilon t} e^{- i \\omega t} {{a}^\\dagger} \\left({a}\\right)^{2} {\\sigma_+} - 3 g \\lambda_{1} \\lambda_{2} e^{i \\epsilon t} e^{- i \\omega t} {a} {\\sigma_+} - g \\lambda_{1} \\lambda_{2} e^{i \\epsilon t} e^{- 3 i \\omega t} \\left({a}\\right)^{3} {\\sigma_+} - g \\lambda_{1} \\lambda_{2} e^{- i \\epsilon t} e^{3 i \\omega t} \\left({{a}^\\dagger}\\right)^{3} {\\sigma_-} - 3 g \\lambda_{1} \\lambda_{2} e^{- i \\epsilon t} e^{i \\omega t} {{a}^\\dagger} {\\sigma_-} - 3 g \\lambda_{1} \\lambda_{2} e^{- i \\epsilon t} e^{i \\omega t} \\left({{a}^\\dagger}\\right)^{2} {a} {\\sigma_-} - 3 g \\lambda_{1} \\lambda_{2} e^{- i \\epsilon t} e^{- i \\omega t} {{a}^\\dagger} \\left({a}\\right)^{2} {\\sigma_-} - 3 g \\lambda_{1} \\lambda_{2} e^{- i \\epsilon t} e^{- i \\omega t} {a} {\\sigma_-} - g \\lambda_{1} \\lambda_{2} e^{- i \\epsilon t} e^{- 3 i \\omega t} \\left({a}\\right)^{3} {\\sigma_-} + g \\lambda_{1} e^{2 i \\omega t} \\left({{a}^\\dagger}\\right)^{2} {\\sigma_z} + 2 g \\lambda_{1} {{a}^\\dagger} {a} {\\sigma_z} + g \\lambda_{1} {\\sigma_z} + g \\lambda_{1} e^{- 2 i \\omega t} \\left({a}\\right)^{2} {\\sigma_z} - g \\lambda_{2}^{2} e^{i \\epsilon t} e^{3 i \\omega t} \\left({{a}^\\dagger}\\right)^{3} {\\sigma_+} - 2 g \\lambda_{2}^{2} e^{i \\epsilon t} e^{i \\omega t} {{a}^\\dagger} {\\sigma_+} - 2 g \\lambda_{2}^{2} e^{i \\epsilon t} e^{i \\omega t} \\left({{a}^\\dagger}\\right)^{2} {a} {\\sigma_+} - g \\lambda_{2}^{2} e^{i \\epsilon t} e^{- i \\omega t} {{a}^\\dagger} \\left({a}\\right)^{2} {\\sigma_+} - g \\lambda_{2}^{2} e^{i \\epsilon t} e^{- i \\omega t} {a} {\\sigma_+} - g \\lambda_{2}^{2} e^{- i \\epsilon t} e^{i \\omega t} {{a}^\\dagger} {\\sigma_-} - g \\lambda_{2}^{2} e^{- i \\epsilon t} e^{i \\omega t} \\left({{a}^\\dagger}\\right)^{2} {a} {\\sigma_-} - 2 g \\lambda_{2}^{2} e^{- i \\epsilon t} e^{- i \\omega t} {{a}^\\dagger} \\left({a}\\right)^{2} {\\sigma_-} - 2 g \\lambda_{2}^{2} e^{- i \\epsilon t} e^{- i \\omega t} {a} {\\sigma_-} - g \\lambda_{2}^{2} e^{- i \\epsilon t} e^{- 3 i \\omega t} \\left({a}\\right)^{3} {\\sigma_-} + g \\lambda_{2} e^{2 i \\omega t} \\left({{a}^\\dagger}\\right)^{2} {\\sigma_z} + 2 g \\lambda_{2} {{a}^\\dagger} {a} {\\sigma_z} + g \\lambda_{2} {\\sigma_z} + g \\lambda_{2} e^{- 2 i \\omega t} \\left({a}\\right)^{2} {\\sigma_z} + g e^{i \\epsilon t} e^{i \\omega t} {{a}^\\dagger} {\\sigma_+} + g e^{i \\epsilon t} e^{- i \\omega t} {a} {\\sigma_+} + g e^{- i \\epsilon t} e^{i \\omega t} {{a}^\\dagger} {\\sigma_-} + g e^{- i \\epsilon t} e^{- i \\omega t} {a} {\\sigma_-} + \\lambda_{1}^{2} \\omega {{a}^\\dagger} {a} {\\sigma_z} + \\frac{\\lambda_{1}^{2} \\omega}{2} {\\sigma_z} + \\lambda_{1} \\omega e^{i \\epsilon t} e^{- i \\omega t} {a} {\\sigma_+} + \\lambda_{1} \\omega e^{- i \\epsilon t} e^{i \\omega t} {{a}^\\dagger} {\\sigma_-} - \\lambda_{2}^{2} \\omega {{a}^\\dagger} {a} {\\sigma_z} - \\frac{\\lambda_{2}^{2} \\omega}{2} {\\sigma_z} - \\lambda_{2} \\omega e^{i \\epsilon t} e^{i \\omega t} {{a}^\\dagger} {\\sigma_+} - \\lambda_{2} \\omega e^{- i \\epsilon t} e^{- i \\omega t} {a} {\\sigma_-}$$"
      ],
      "text/plain": [
       "                         2                              2                     \n",
       "      2  †           ε⋅λ₁ ⋅False            2⋅ⅈ⋅ω⋅t ⎛ †⎞                   -2⋅\n",
       "- ε⋅λ₁ ⋅a ⋅a⋅False - ─────────── - ε⋅λ₁⋅λ₂⋅ℯ       ⋅⎝a ⎠ ⋅False - ε⋅λ₁⋅λ₂⋅ℯ   \n",
       "                          2                                                   \n",
       "\n",
       "                                                                              \n",
       "ⅈ⋅ω⋅t  2               ⅈ⋅ε⋅t  -ⅈ⋅ω⋅t                 -ⅈ⋅ε⋅t  ⅈ⋅ω⋅t  †         \n",
       "     ⋅a ⋅False - ε⋅λ₁⋅ℯ     ⋅ℯ      ⋅a⋅False - ε⋅λ₁⋅ℯ      ⋅ℯ     ⋅a ⋅False - \n",
       "                                                                              \n",
       "\n",
       "                       2                                                      \n",
       "    2  †           ε⋅λ₂ ⋅False         ⅈ⋅ε⋅t  ⅈ⋅ω⋅t  †               -ⅈ⋅ε⋅t  -\n",
       "ε⋅λ₂ ⋅a ⋅a⋅False - ─────────── - ε⋅λ₂⋅ℯ     ⋅ℯ     ⋅a ⋅False - ε⋅λ₂⋅ℯ      ⋅ℯ \n",
       "                        2                                                     \n",
       "\n",
       "                                                                       2      \n",
       "ⅈ⋅ω⋅t               2  ⅈ⋅ε⋅t  ⅈ⋅ω⋅t  †             2  ⅈ⋅ε⋅t  ⅈ⋅ω⋅t ⎛ †⎞       \n",
       "     ⋅a⋅False - g⋅λ₁ ⋅ℯ     ⋅ℯ     ⋅a ⋅False - g⋅λ₁ ⋅ℯ     ⋅ℯ     ⋅⎝a ⎠ ⋅a⋅Fal\n",
       "                                                                              \n",
       "\n",
       "                                                                              \n",
       "           2  ⅈ⋅ε⋅t  -ⅈ⋅ω⋅t  †  2               2  ⅈ⋅ε⋅t  -ⅈ⋅ω⋅t              \n",
       "se - 2⋅g⋅λ₁ ⋅ℯ     ⋅ℯ      ⋅a ⋅a ⋅False - 2⋅g⋅λ₁ ⋅ℯ     ⋅ℯ      ⋅a⋅False - g⋅λ\n",
       "                                                                              \n",
       "\n",
       "                                                          3                   \n",
       " 2  ⅈ⋅ε⋅t  -3⋅ⅈ⋅ω⋅t  3             2  -ⅈ⋅ε⋅t  3⋅ⅈ⋅ω⋅t ⎛ †⎞                2  -\n",
       "₁ ⋅ℯ     ⋅ℯ        ⋅a ⋅False - g⋅λ₁ ⋅ℯ      ⋅ℯ       ⋅⎝a ⎠ ⋅False - 2⋅g⋅λ₁ ⋅ℯ \n",
       "                                                                              \n",
       "\n",
       "                                                   2                          \n",
       "ⅈ⋅ε⋅t  ⅈ⋅ω⋅t  †               2  -ⅈ⋅ε⋅t  ⅈ⋅ω⋅t ⎛ †⎞                2  -ⅈ⋅ε⋅t  \n",
       "     ⋅ℯ     ⋅a ⋅False - 2⋅g⋅λ₁ ⋅ℯ      ⋅ℯ     ⋅⎝a ⎠ ⋅a⋅False - g⋅λ₁ ⋅ℯ      ⋅ℯ\n",
       "                                                                              \n",
       "\n",
       "                                                                              \n",
       "-ⅈ⋅ω⋅t  †  2             2  -ⅈ⋅ε⋅t  -ⅈ⋅ω⋅t                    ⅈ⋅ε⋅t  3⋅ⅈ⋅ω⋅t ⎛\n",
       "      ⋅a ⋅a ⋅False - g⋅λ₁ ⋅ℯ      ⋅ℯ      ⋅a⋅False - g⋅λ₁⋅λ₂⋅ℯ     ⋅ℯ       ⋅⎝\n",
       "                                                                              \n",
       "\n",
       "   3                                                                        2 \n",
       " †⎞                     ⅈ⋅ε⋅t  ⅈ⋅ω⋅t  †                    ⅈ⋅ε⋅t  ⅈ⋅ω⋅t ⎛ †⎞  \n",
       "a ⎠ ⋅False - 3⋅g⋅λ₁⋅λ₂⋅ℯ     ⋅ℯ     ⋅a ⋅False - 3⋅g⋅λ₁⋅λ₂⋅ℯ     ⋅ℯ     ⋅⎝a ⎠ ⋅\n",
       "                                                                              \n",
       "\n",
       "                                                                              \n",
       "                     ⅈ⋅ε⋅t  -ⅈ⋅ω⋅t  †  2                    ⅈ⋅ε⋅t  -ⅈ⋅ω⋅t     \n",
       "a⋅False - 3⋅g⋅λ₁⋅λ₂⋅ℯ     ⋅ℯ      ⋅a ⋅a ⋅False - 3⋅g⋅λ₁⋅λ₂⋅ℯ     ⋅ℯ      ⋅a⋅Fa\n",
       "                                                                              \n",
       "\n",
       "                                                                       3      \n",
       "               ⅈ⋅ε⋅t  -3⋅ⅈ⋅ω⋅t  3                  -ⅈ⋅ε⋅t  3⋅ⅈ⋅ω⋅t ⎛ †⎞       \n",
       "lse - g⋅λ₁⋅λ₂⋅ℯ     ⋅ℯ        ⋅a ⋅False - g⋅λ₁⋅λ₂⋅ℯ      ⋅ℯ       ⋅⎝a ⎠ ⋅False\n",
       "                                                                              \n",
       "\n",
       "                                                                    2         \n",
       "              -ⅈ⋅ε⋅t  ⅈ⋅ω⋅t  †                    -ⅈ⋅ε⋅t  ⅈ⋅ω⋅t ⎛ †⎞          \n",
       " - 3⋅g⋅λ₁⋅λ₂⋅ℯ      ⋅ℯ     ⋅a ⋅False - 3⋅g⋅λ₁⋅λ₂⋅ℯ      ⋅ℯ     ⋅⎝a ⎠ ⋅a⋅False \n",
       "                                                                              \n",
       "\n",
       "                                                                              \n",
       "             -ⅈ⋅ε⋅t  -ⅈ⋅ω⋅t  †  2                    -ⅈ⋅ε⋅t  -ⅈ⋅ω⋅t           \n",
       "- 3⋅g⋅λ₁⋅λ₂⋅ℯ      ⋅ℯ      ⋅a ⋅a ⋅False - 3⋅g⋅λ₁⋅λ₂⋅ℯ      ⋅ℯ      ⋅a⋅False - \n",
       "                                                                              \n",
       "\n",
       "                                                       2                      \n",
       "         -ⅈ⋅ε⋅t  -3⋅ⅈ⋅ω⋅t  3               2⋅ⅈ⋅ω⋅t ⎛ †⎞                  †    \n",
       "g⋅λ₁⋅λ₂⋅ℯ      ⋅ℯ        ⋅a ⋅False + g⋅λ₁⋅ℯ       ⋅⎝a ⎠ ⋅False + 2⋅g⋅λ₁⋅a ⋅a⋅F\n",
       "                                                                              \n",
       "\n",
       "                                                                        3     \n",
       "                          -2⋅ⅈ⋅ω⋅t  2             2  ⅈ⋅ε⋅t  3⋅ⅈ⋅ω⋅t ⎛ †⎞      \n",
       "alse + g⋅λ₁⋅False + g⋅λ₁⋅ℯ        ⋅a ⋅False - g⋅λ₂ ⋅ℯ     ⋅ℯ       ⋅⎝a ⎠ ⋅Fals\n",
       "                                                                              \n",
       "\n",
       "                                                               2              \n",
       "          2  ⅈ⋅ε⋅t  ⅈ⋅ω⋅t  †               2  ⅈ⋅ε⋅t  ⅈ⋅ω⋅t ⎛ †⎞               \n",
       "e - 2⋅g⋅λ₂ ⋅ℯ     ⋅ℯ     ⋅a ⋅False - 2⋅g⋅λ₂ ⋅ℯ     ⋅ℯ     ⋅⎝a ⎠ ⋅a⋅False - g⋅λ\n",
       "                                                                              \n",
       "\n",
       "                                                                              \n",
       " 2  ⅈ⋅ε⋅t  -ⅈ⋅ω⋅t  †  2             2  ⅈ⋅ε⋅t  -ⅈ⋅ω⋅t               2  -ⅈ⋅ε⋅t  \n",
       "₂ ⋅ℯ     ⋅ℯ      ⋅a ⋅a ⋅False - g⋅λ₂ ⋅ℯ     ⋅ℯ      ⋅a⋅False - g⋅λ₂ ⋅ℯ      ⋅ℯ\n",
       "                                                                              \n",
       "\n",
       "                                          2                                   \n",
       "ⅈ⋅ω⋅t  †             2  -ⅈ⋅ε⋅t  ⅈ⋅ω⋅t ⎛ †⎞                  2  -ⅈ⋅ε⋅t  -ⅈ⋅ω⋅t \n",
       "     ⋅a ⋅False - g⋅λ₂ ⋅ℯ      ⋅ℯ     ⋅⎝a ⎠ ⋅a⋅False - 2⋅g⋅λ₂ ⋅ℯ      ⋅ℯ      ⋅\n",
       "                                                                              \n",
       "\n",
       "                                                                              \n",
       " †  2               2  -ⅈ⋅ε⋅t  -ⅈ⋅ω⋅t               2  -ⅈ⋅ε⋅t  -3⋅ⅈ⋅ω⋅t  3    \n",
       "a ⋅a ⋅False - 2⋅g⋅λ₂ ⋅ℯ      ⋅ℯ      ⋅a⋅False - g⋅λ₂ ⋅ℯ      ⋅ℯ        ⋅a ⋅Fal\n",
       "                                                                              \n",
       "\n",
       "                       2                                                      \n",
       "           2⋅ⅈ⋅ω⋅t ⎛ †⎞                  †                              -2⋅ⅈ⋅ω\n",
       "se + g⋅λ₂⋅ℯ       ⋅⎝a ⎠ ⋅False + 2⋅g⋅λ₂⋅a ⋅a⋅False + g⋅λ₂⋅False + g⋅λ₂⋅ℯ      \n",
       "                                                                              \n",
       "\n",
       "                                                                              \n",
       "⋅t  2            ⅈ⋅ε⋅t  ⅈ⋅ω⋅t  †            ⅈ⋅ε⋅t  -ⅈ⋅ω⋅t              -ⅈ⋅ε⋅t \n",
       "  ⋅a ⋅False + g⋅ℯ     ⋅ℯ     ⋅a ⋅False + g⋅ℯ     ⋅ℯ      ⋅a⋅False + g⋅ℯ      ⋅\n",
       "                                                                              \n",
       "\n",
       "                                                                   2          \n",
       " ⅈ⋅ω⋅t  †            -ⅈ⋅ε⋅t  -ⅈ⋅ω⋅t             2    †           λ₁ ⋅ω⋅False  \n",
       "ℯ     ⋅a ⋅False + g⋅ℯ      ⋅ℯ      ⋅a⋅False + λ₁ ⋅ω⋅a ⋅a⋅False + ─────────── +\n",
       "                                                                      2       \n",
       "\n",
       "                                                                              \n",
       "       ⅈ⋅ε⋅t  -ⅈ⋅ω⋅t                 -ⅈ⋅ε⋅t  ⅈ⋅ω⋅t  †           2    †        \n",
       " λ₁⋅ω⋅ℯ     ⋅ℯ      ⋅a⋅False + λ₁⋅ω⋅ℯ      ⋅ℯ     ⋅a ⋅False - λ₂ ⋅ω⋅a ⋅a⋅False\n",
       "                                                                              \n",
       "\n",
       "     2                                                                     \n",
       "   λ₂ ⋅ω⋅False         ⅈ⋅ε⋅t  ⅈ⋅ω⋅t  †               -ⅈ⋅ε⋅t  -ⅈ⋅ω⋅t        \n",
       " - ─────────── - λ₂⋅ω⋅ℯ     ⋅ℯ     ⋅a ⋅False - λ₂⋅ω⋅ℯ      ⋅ℯ      ⋅a⋅False\n",
       "        2                                                                  "
      ]
     },
     "execution_count": 47,
     "metadata": {},
     "output_type": "execute_result"
    }
   ],
   "source": [
    "H5 = hamiltonian_transformation(U1, H4)\n",
    "H6 = hamiltonian_transformation(U2, H5)\n",
    "\n",
    "H6"
   ]
  },
  {
   "cell_type": "code",
   "execution_count": 48,
   "metadata": {},
   "outputs": [
    {
     "data": {
      "image/png": "[encoded data removed]",
      "text/latex": [
       "$$- \\epsilon \\lambda_{1}^{2} {{a}^\\dagger} {a} {\\sigma_z} - \\frac{\\epsilon \\lambda_{1}^{2}}{2} {\\sigma_z} - \\epsilon \\lambda_{1} \\lambda_{2} e^{2 i \\omega t} \\left({{a}^\\dagger}\\right)^{2} {\\sigma_z} - \\epsilon \\lambda_{1} \\lambda_{2} e^{- 2 i \\omega t} \\left({a}\\right)^{2} {\\sigma_z} - \\epsilon \\lambda_{1} e^{i t \\left(- \\epsilon + \\omega\\right)} {{a}^\\dagger} {\\sigma_-} - \\epsilon \\lambda_{1} e^{i t \\left(\\epsilon - \\omega\\right)} {a} {\\sigma_+} - \\epsilon \\lambda_{2}^{2} {{a}^\\dagger} {a} {\\sigma_z} - \\frac{\\epsilon \\lambda_{2}^{2}}{2} {\\sigma_z} - \\epsilon \\lambda_{2} e^{i t \\left(\\epsilon + \\omega\\right)} {{a}^\\dagger} {\\sigma_+} - \\epsilon \\lambda_{2} e^{- i t \\left(\\epsilon + \\omega\\right)} {a} {\\sigma_-} - 2 g \\lambda_{1}^{2} e^{i t \\left(- \\epsilon + \\omega\\right)} {{a}^\\dagger} {\\sigma_-} - 2 g \\lambda_{1}^{2} e^{i t \\left(- \\epsilon + \\omega\\right)} \\left({{a}^\\dagger}\\right)^{2} {a} {\\sigma_-} - g \\lambda_{1}^{2} e^{i t \\left(- \\epsilon + 3 \\omega\\right)} \\left({{a}^\\dagger}\\right)^{3} {\\sigma_-} - g \\lambda_{1}^{2} e^{i t \\left(\\epsilon - 3 \\omega\\right)} \\left({a}\\right)^{3} {\\sigma_+} - 2 g \\lambda_{1}^{2} e^{i t \\left(\\epsilon - \\omega\\right)} {{a}^\\dagger} \\left({a}\\right)^{2} {\\sigma_+} - 2 g \\lambda_{1}^{2} e^{i t \\left(\\epsilon - \\omega\\right)} {a} {\\sigma_+} - g \\lambda_{1}^{2} e^{i t \\left(\\epsilon + \\omega\\right)} {{a}^\\dagger} {\\sigma_+} - g \\lambda_{1}^{2} e^{i t \\left(\\epsilon + \\omega\\right)} \\left({{a}^\\dagger}\\right)^{2} {a} {\\sigma_+} - g \\lambda_{1}^{2} e^{- i t \\left(\\epsilon + \\omega\\right)} {{a}^\\dagger} \\left({a}\\right)^{2} {\\sigma_-} - g \\lambda_{1}^{2} e^{- i t \\left(\\epsilon + \\omega\\right)} {a} {\\sigma_-} - 3 g \\lambda_{1} \\lambda_{2} e^{i t \\left(- \\epsilon + \\omega\\right)} {{a}^\\dagger} {\\sigma_-} - 3 g \\lambda_{1} \\lambda_{2} e^{i t \\left(- \\epsilon + \\omega\\right)} \\left({{a}^\\dagger}\\right)^{2} {a} {\\sigma_-} - g \\lambda_{1} \\lambda_{2} e^{i t \\left(- \\epsilon + 3 \\omega\\right)} \\left({{a}^\\dagger}\\right)^{3} {\\sigma_-} - g \\lambda_{1} \\lambda_{2} e^{i t \\left(\\epsilon - 3 \\omega\\right)} \\left({a}\\right)^{3} {\\sigma_+} - 3 g \\lambda_{1} \\lambda_{2} e^{i t \\left(\\epsilon - \\omega\\right)} {{a}^\\dagger} \\left({a}\\right)^{2} {\\sigma_+} - 3 g \\lambda_{1} \\lambda_{2} e^{i t \\left(\\epsilon - \\omega\\right)} {a} {\\sigma_+} - 3 g \\lambda_{1} \\lambda_{2} e^{i t \\left(\\epsilon + \\omega\\right)} {{a}^\\dagger} {\\sigma_+} - 3 g \\lambda_{1} \\lambda_{2} e^{i t \\left(\\epsilon + \\omega\\right)} \\left({{a}^\\dagger}\\right)^{2} {a} {\\sigma_+} - g \\lambda_{1} \\lambda_{2} e^{i t \\left(\\epsilon + 3 \\omega\\right)} \\left({{a}^\\dagger}\\right)^{3} {\\sigma_+} - g \\lambda_{1} \\lambda_{2} e^{- i t \\left(\\epsilon + 3 \\omega\\right)} \\left({a}\\right)^{3} {\\sigma_-} - 3 g \\lambda_{1} \\lambda_{2} e^{- i t \\left(\\epsilon + \\omega\\right)} {{a}^\\dagger} \\left({a}\\right)^{2} {\\sigma_-} - 3 g \\lambda_{1} \\lambda_{2} e^{- i t \\left(\\epsilon + \\omega\\right)} {a} {\\sigma_-} + g \\lambda_{1} e^{2 i \\omega t} \\left({{a}^\\dagger}\\right)^{2} {\\sigma_z} + 2 g \\lambda_{1} {{a}^\\dagger} {a} {\\sigma_z} + g \\lambda_{1} {\\sigma_z} + g \\lambda_{1} e^{- 2 i \\omega t} \\left({a}\\right)^{2} {\\sigma_z} - g \\lambda_{2}^{2} e^{i t \\left(- \\epsilon + \\omega\\right)} {{a}^\\dagger} {\\sigma_-} - g \\lambda_{2}^{2} e^{i t \\left(- \\epsilon + \\omega\\right)} \\left({{a}^\\dagger}\\right)^{2} {a} {\\sigma_-} - g \\lambda_{2}^{2} e^{i t \\left(\\epsilon - \\omega\\right)} {{a}^\\dagger} \\left({a}\\right)^{2} {\\sigma_+} - g \\lambda_{2}^{2} e^{i t \\left(\\epsilon - \\omega\\right)} {a} {\\sigma_+} - 2 g \\lambda_{2}^{2} e^{i t \\left(\\epsilon + \\omega\\right)} {{a}^\\dagger} {\\sigma_+} - 2 g \\lambda_{2}^{2} e^{i t \\left(\\epsilon + \\omega\\right)} \\left({{a}^\\dagger}\\right)^{2} {a} {\\sigma_+} - g \\lambda_{2}^{2} e^{i t \\left(\\epsilon + 3 \\omega\\right)} \\left({{a}^\\dagger}\\right)^{3} {\\sigma_+} - g \\lambda_{2}^{2} e^{- i t \\left(\\epsilon + 3 \\omega\\right)} \\left({a}\\right)^{3} {\\sigma_-} - 2 g \\lambda_{2}^{2} e^{- i t \\left(\\epsilon + \\omega\\right)} {{a}^\\dagger} \\left({a}\\right)^{2} {\\sigma_-} - 2 g \\lambda_{2}^{2} e^{- i t \\left(\\epsilon + \\omega\\right)} {a} {\\sigma_-} + g \\lambda_{2} e^{2 i \\omega t} \\left({{a}^\\dagger}\\right)^{2} {\\sigma_z} + 2 g \\lambda_{2} {{a}^\\dagger} {a} {\\sigma_z} + g \\lambda_{2} {\\sigma_z} + g \\lambda_{2} e^{- 2 i \\omega t} \\left({a}\\right)^{2} {\\sigma_z} + g e^{i t \\left(- \\epsilon + \\omega\\right)} {{a}^\\dagger} {\\sigma_-} + g e^{i t \\left(\\epsilon - \\omega\\right)} {a} {\\sigma_+} + g e^{i t \\left(\\epsilon + \\omega\\right)} {{a}^\\dagger} {\\sigma_+} + g e^{- i t \\left(\\epsilon + \\omega\\right)} {a} {\\sigma_-} + \\lambda_{1}^{2} \\omega {{a}^\\dagger} {a} {\\sigma_z} + \\frac{\\lambda_{1}^{2} \\omega}{2} {\\sigma_z} + \\lambda_{1} \\omega e^{i t \\left(- \\epsilon + \\omega\\right)} {{a}^\\dagger} {\\sigma_-} + \\lambda_{1} \\omega e^{i t \\left(\\epsilon - \\omega\\right)} {a} {\\sigma_+} - \\lambda_{2}^{2} \\omega {{a}^\\dagger} {a} {\\sigma_z} - \\frac{\\lambda_{2}^{2} \\omega}{2} {\\sigma_z} - \\lambda_{2} \\omega e^{i t \\left(\\epsilon + \\omega\\right)} {{a}^\\dagger} {\\sigma_+} - \\lambda_{2} \\omega e^{- i t \\left(\\epsilon + \\omega\\right)} {a} {\\sigma_-}$$"
      ],
      "text/plain": [
       "                         2                              2                     \n",
       "      2  †           ε⋅λ₁ ⋅False            2⋅ⅈ⋅ω⋅t ⎛ †⎞                   -2⋅\n",
       "- ε⋅λ₁ ⋅a ⋅a⋅False - ─────────── - ε⋅λ₁⋅λ₂⋅ℯ       ⋅⎝a ⎠ ⋅False - ε⋅λ₁⋅λ₂⋅ℯ   \n",
       "                          2                                                   \n",
       "\n",
       "                                                                              \n",
       "ⅈ⋅ω⋅t  2               ⅈ⋅t⋅(-ε + ω)  †               ⅈ⋅t⋅(ε - ω)              \n",
       "     ⋅a ⋅False - ε⋅λ₁⋅ℯ            ⋅a ⋅False - ε⋅λ₁⋅ℯ           ⋅a⋅False - ε⋅λ\n",
       "                                                                              \n",
       "\n",
       "                    2                                                         \n",
       " 2  †           ε⋅λ₂ ⋅False         ⅈ⋅t⋅(ε + ω)  †               -ⅈ⋅t⋅(ε + ω) \n",
       "₂ ⋅a ⋅a⋅False - ─────────── - ε⋅λ₂⋅ℯ           ⋅a ⋅False - ε⋅λ₂⋅ℯ            ⋅\n",
       "                     2                                                        \n",
       "\n",
       "                                                                     2        \n",
       "                2  ⅈ⋅t⋅(-ε + ω)  †               2  ⅈ⋅t⋅(-ε + ω) ⎛ †⎞         \n",
       "a⋅False - 2⋅g⋅λ₁ ⋅ℯ            ⋅a ⋅False - 2⋅g⋅λ₁ ⋅ℯ            ⋅⎝a ⎠ ⋅a⋅False\n",
       "                                                                              \n",
       "\n",
       "                             3                                                \n",
       "       2  ⅈ⋅t⋅(-ε + 3⋅ω) ⎛ †⎞              2  ⅈ⋅t⋅(ε - 3⋅ω)  3               2\n",
       " - g⋅λ₁ ⋅ℯ              ⋅⎝a ⎠ ⋅False - g⋅λ₁ ⋅ℯ             ⋅a ⋅False - 2⋅g⋅λ₁ \n",
       "                                                                              \n",
       "\n",
       "                                                                              \n",
       "  ⅈ⋅t⋅(ε - ω)  †  2               2  ⅈ⋅t⋅(ε - ω)               2  ⅈ⋅t⋅(ε + ω) \n",
       "⋅ℯ           ⋅a ⋅a ⋅False - 2⋅g⋅λ₁ ⋅ℯ           ⋅a⋅False - g⋅λ₁ ⋅ℯ           ⋅\n",
       "                                                                              \n",
       "\n",
       "                                  2                                           \n",
       " †             2  ⅈ⋅t⋅(ε + ω) ⎛ †⎞                2  -ⅈ⋅t⋅(ε + ω)  †  2       \n",
       "a ⋅False - g⋅λ₁ ⋅ℯ           ⋅⎝a ⎠ ⋅a⋅False - g⋅λ₁ ⋅ℯ            ⋅a ⋅a ⋅False \n",
       "                                                                              \n",
       "\n",
       "                                                                              \n",
       "      2  -ⅈ⋅t⋅(ε + ω)                      ⅈ⋅t⋅(-ε + ω)  †                    \n",
       "- g⋅λ₁ ⋅ℯ            ⋅a⋅False - 3⋅g⋅λ₁⋅λ₂⋅ℯ            ⋅a ⋅False - 3⋅g⋅λ₁⋅λ₂⋅ℯ\n",
       "                                                                              \n",
       "\n",
       "                 2                                       3                    \n",
       "ⅈ⋅t⋅(-ε + ω) ⎛ †⎞                     ⅈ⋅t⋅(-ε + 3⋅ω) ⎛ †⎞                   ⅈ⋅\n",
       "            ⋅⎝a ⎠ ⋅a⋅False - g⋅λ₁⋅λ₂⋅ℯ              ⋅⎝a ⎠ ⋅False - g⋅λ₁⋅λ₂⋅ℯ  \n",
       "                                                                              \n",
       "\n",
       "                                                                              \n",
       "t⋅(ε - 3⋅ω)  3                    ⅈ⋅t⋅(ε - ω)  †  2                    ⅈ⋅t⋅(ε \n",
       "           ⋅a ⋅False - 3⋅g⋅λ₁⋅λ₂⋅ℯ           ⋅a ⋅a ⋅False - 3⋅g⋅λ₁⋅λ₂⋅ℯ       \n",
       "                                                                              \n",
       "\n",
       "                                                                            2 \n",
       "- ω)                      ⅈ⋅t⋅(ε + ω)  †                    ⅈ⋅t⋅(ε + ω) ⎛ †⎞  \n",
       "    ⋅a⋅False - 3⋅g⋅λ₁⋅λ₂⋅ℯ           ⋅a ⋅False - 3⋅g⋅λ₁⋅λ₂⋅ℯ           ⋅⎝a ⎠ ⋅\n",
       "                                                                              \n",
       "\n",
       "                                     3                                        \n",
       "                   ⅈ⋅t⋅(ε + 3⋅ω) ⎛ †⎞                   -ⅈ⋅t⋅(ε + 3⋅ω)  3     \n",
       "a⋅False - g⋅λ₁⋅λ₂⋅ℯ             ⋅⎝a ⎠ ⋅False - g⋅λ₁⋅λ₂⋅ℯ              ⋅a ⋅Fals\n",
       "                                                                              \n",
       "\n",
       "                                                                              \n",
       "               -ⅈ⋅t⋅(ε + ω)  †  2                    -ⅈ⋅t⋅(ε + ω)             \n",
       "e - 3⋅g⋅λ₁⋅λ₂⋅ℯ            ⋅a ⋅a ⋅False - 3⋅g⋅λ₁⋅λ₂⋅ℯ            ⋅a⋅False + g⋅\n",
       "                                                                              \n",
       "\n",
       "                2                                                             \n",
       "    2⋅ⅈ⋅ω⋅t ⎛ †⎞                  †                              -2⋅ⅈ⋅ω⋅t  2  \n",
       "λ₁⋅ℯ       ⋅⎝a ⎠ ⋅False + 2⋅g⋅λ₁⋅a ⋅a⋅False + g⋅λ₁⋅False + g⋅λ₁⋅ℯ        ⋅a ⋅F\n",
       "                                                                              \n",
       "\n",
       "                                                              2               \n",
       "           2  ⅈ⋅t⋅(-ε + ω)  †             2  ⅈ⋅t⋅(-ε + ω) ⎛ †⎞                \n",
       "alse - g⋅λ₂ ⋅ℯ            ⋅a ⋅False - g⋅λ₂ ⋅ℯ            ⋅⎝a ⎠ ⋅a⋅False - g⋅λ₂\n",
       "                                                                              \n",
       "\n",
       "                                                                              \n",
       "2  ⅈ⋅t⋅(ε - ω)  †  2             2  ⅈ⋅t⋅(ε - ω)                 2  ⅈ⋅t⋅(ε + ω)\n",
       " ⋅ℯ           ⋅a ⋅a ⋅False - g⋅λ₂ ⋅ℯ           ⋅a⋅False - 2⋅g⋅λ₂ ⋅ℯ           \n",
       "                                                                              \n",
       "\n",
       "                                     2                                    3   \n",
       "  †               2  ⅈ⋅t⋅(ε + ω) ⎛ †⎞                2  ⅈ⋅t⋅(ε + 3⋅ω) ⎛ †⎞    \n",
       "⋅a ⋅False - 2⋅g⋅λ₂ ⋅ℯ           ⋅⎝a ⎠ ⋅a⋅False - g⋅λ₂ ⋅ℯ             ⋅⎝a ⎠ ⋅Fa\n",
       "                                                                              \n",
       "\n",
       "                                                                              \n",
       "          2  -ⅈ⋅t⋅(ε + 3⋅ω)  3               2  -ⅈ⋅t⋅(ε + ω)  †  2            \n",
       "lse - g⋅λ₂ ⋅ℯ              ⋅a ⋅False - 2⋅g⋅λ₂ ⋅ℯ            ⋅a ⋅a ⋅False - 2⋅g\n",
       "                                                                              \n",
       "\n",
       "                                               2                              \n",
       "   2  -ⅈ⋅t⋅(ε + ω)                 2⋅ⅈ⋅ω⋅t ⎛ †⎞                  †            \n",
       "⋅λ₂ ⋅ℯ            ⋅a⋅False + g⋅λ₂⋅ℯ       ⋅⎝a ⎠ ⋅False + 2⋅g⋅λ₂⋅a ⋅a⋅False + g\n",
       "                                                                              \n",
       "\n",
       "                                                                              \n",
       "                  -2⋅ⅈ⋅ω⋅t  2            ⅈ⋅t⋅(-ε + ω)  †            ⅈ⋅t⋅(ε - ω\n",
       "⋅λ₂⋅False + g⋅λ₂⋅ℯ        ⋅a ⋅False + g⋅ℯ            ⋅a ⋅False + g⋅ℯ          \n",
       "                                                                              \n",
       "\n",
       "                                                                              \n",
       ")              ⅈ⋅t⋅(ε + ω)  †            -ⅈ⋅t⋅(ε + ω)             2    †      \n",
       " ⋅a⋅False + g⋅ℯ           ⋅a ⋅False + g⋅ℯ            ⋅a⋅False + λ₁ ⋅ω⋅a ⋅a⋅Fal\n",
       "                                                                              \n",
       "\n",
       "       2                                                                      \n",
       "     λ₁ ⋅ω⋅False         ⅈ⋅t⋅(-ε + ω)  †               ⅈ⋅t⋅(ε - ω)            \n",
       "se + ─────────── + λ₁⋅ω⋅ℯ            ⋅a ⋅False + λ₁⋅ω⋅ℯ           ⋅a⋅False - λ\n",
       "          2                                                                   \n",
       "\n",
       "                    2                                                         \n",
       " 2    †           λ₂ ⋅ω⋅False         ⅈ⋅t⋅(ε + ω)  †               -ⅈ⋅t⋅(ε + ω\n",
       "₂ ⋅ω⋅a ⋅a⋅False - ─────────── - λ₂⋅ω⋅ℯ           ⋅a ⋅False - λ₂⋅ω⋅ℯ           \n",
       "                       2                                                      \n",
       "\n",
       "         \n",
       ")        \n",
       " ⋅a⋅False\n",
       "         "
      ]
     },
     "execution_count": 48,
     "metadata": {},
     "output_type": "execute_result"
    }
   ],
   "source": [
    "H6 = powsimp(H6)\n",
    "H7 = simplify_exp(H6)\n",
    "\n",
    "H7"
   ]
  },
  {
   "cell_type": "markdown",
   "metadata": {},
   "source": [
    "Since we have assumed that the detuning $\\Delta = \\epsilon-\\omega$ is much larger than the coupling frequency $g$, it is okay to ignore terms oscillating fast in the co-rotating system. i.e., $e^{\\pm i(\\epsilon-\\omega)t}, e^{\\pm i(\\epsilon+\\omega)t}, e^{\\pm i(\\epsilon+3\\omega)t}$."
   ]
  },
  {
   "cell_type": "code",
   "execution_count": 49,
   "metadata": {},
   "outputs": [
    {
     "data": {
      "image/png": "[encoded data removed]",
      "text/latex": [
       "$$- \\epsilon \\lambda_{1}^{2} {{a}^\\dagger} {a} {\\sigma_z} - \\frac{\\epsilon \\lambda_{1}^{2}}{2} {\\sigma_z} - \\epsilon \\lambda_{1} \\lambda_{2} e^{2 i \\omega t} \\left({{a}^\\dagger}\\right)^{2} {\\sigma_z} - \\epsilon \\lambda_{1} \\lambda_{2} e^{- 2 i \\omega t} \\left({a}\\right)^{2} {\\sigma_z} - \\epsilon \\lambda_{2}^{2} {{a}^\\dagger} {a} {\\sigma_z} - \\frac{\\epsilon \\lambda_{2}^{2}}{2} {\\sigma_z} - g \\lambda_{1}^{2} e^{i t \\left(- \\epsilon + 3 \\omega\\right)} \\left({{a}^\\dagger}\\right)^{3} {\\sigma_-} - g \\lambda_{1}^{2} e^{i t \\left(\\epsilon - 3 \\omega\\right)} \\left({a}\\right)^{3} {\\sigma_+} - g \\lambda_{1} \\lambda_{2} e^{i t \\left(- \\epsilon + 3 \\omega\\right)} \\left({{a}^\\dagger}\\right)^{3} {\\sigma_-} - g \\lambda_{1} \\lambda_{2} e^{i t \\left(\\epsilon - 3 \\omega\\right)} \\left({a}\\right)^{3} {\\sigma_+} + g \\lambda_{1} e^{2 i \\omega t} \\left({{a}^\\dagger}\\right)^{2} {\\sigma_z} + 2 g \\lambda_{1} {{a}^\\dagger} {a} {\\sigma_z} + g \\lambda_{1} {\\sigma_z} + g \\lambda_{1} e^{- 2 i \\omega t} \\left({a}\\right)^{2} {\\sigma_z} + g \\lambda_{2} e^{2 i \\omega t} \\left({{a}^\\dagger}\\right)^{2} {\\sigma_z} + 2 g \\lambda_{2} {{a}^\\dagger} {a} {\\sigma_z} + g \\lambda_{2} {\\sigma_z} + g \\lambda_{2} e^{- 2 i \\omega t} \\left({a}\\right)^{2} {\\sigma_z} + \\lambda_{1}^{2} \\omega {{a}^\\dagger} {a} {\\sigma_z} + \\frac{\\lambda_{1}^{2} \\omega}{2} {\\sigma_z} - \\lambda_{2}^{2} \\omega {{a}^\\dagger} {a} {\\sigma_z} - \\frac{\\lambda_{2}^{2} \\omega}{2} {\\sigma_z}$$"
      ],
      "text/plain": [
       "                         2                              2                     \n",
       "      2  †           ε⋅λ₁ ⋅False            2⋅ⅈ⋅ω⋅t ⎛ †⎞                   -2⋅\n",
       "- ε⋅λ₁ ⋅a ⋅a⋅False - ─────────── - ε⋅λ₁⋅λ₂⋅ℯ       ⋅⎝a ⎠ ⋅False - ε⋅λ₁⋅λ₂⋅ℯ   \n",
       "                          2                                                   \n",
       "\n",
       "                                        2                                   3 \n",
       "ⅈ⋅ω⋅t  2             2  †           ε⋅λ₂ ⋅False       2  ⅈ⋅t⋅(-ε + 3⋅ω) ⎛ †⎞  \n",
       "     ⋅a ⋅False - ε⋅λ₂ ⋅a ⋅a⋅False - ─────────── - g⋅λ₁ ⋅ℯ              ⋅⎝a ⎠ ⋅\n",
       "                                         2                                    \n",
       "\n",
       "                                                                    3         \n",
       "            2  ⅈ⋅t⋅(ε - 3⋅ω)  3                  ⅈ⋅t⋅(-ε + 3⋅ω) ⎛ †⎞          \n",
       "False - g⋅λ₁ ⋅ℯ             ⋅a ⋅False - g⋅λ₁⋅λ₂⋅ℯ              ⋅⎝a ⎠ ⋅False - \n",
       "                                                                              \n",
       "\n",
       "                                                    2                         \n",
       "         ⅈ⋅t⋅(ε - 3⋅ω)  3               2⋅ⅈ⋅ω⋅t ⎛ †⎞                  †       \n",
       "g⋅λ₁⋅λ₂⋅ℯ             ⋅a ⋅False + g⋅λ₁⋅ℯ       ⋅⎝a ⎠ ⋅False + 2⋅g⋅λ₁⋅a ⋅a⋅Fals\n",
       "                                                                              \n",
       "\n",
       "                                                             2                \n",
       "                       -2⋅ⅈ⋅ω⋅t  2               2⋅ⅈ⋅ω⋅t ⎛ †⎞                 \n",
       "e + g⋅λ₁⋅False + g⋅λ₁⋅ℯ        ⋅a ⋅False + g⋅λ₂⋅ℯ       ⋅⎝a ⎠ ⋅False + 2⋅g⋅λ₂⋅\n",
       "                                                                              \n",
       "\n",
       "                                                                         2    \n",
       " †                              -2⋅ⅈ⋅ω⋅t  2           2    †           λ₁ ⋅ω⋅F\n",
       "a ⋅a⋅False + g⋅λ₂⋅False + g⋅λ₂⋅ℯ        ⋅a ⋅False + λ₁ ⋅ω⋅a ⋅a⋅False + ───────\n",
       "                                                                            2 \n",
       "\n",
       "                            2        \n",
       "alse     2    †           λ₂ ⋅ω⋅False\n",
       "──── - λ₂ ⋅ω⋅a ⋅a⋅False - ───────────\n",
       "                               2     "
      ]
     },
     "execution_count": 49,
     "metadata": {},
     "output_type": "execute_result"
    }
   ],
   "source": [
    "H8 = drop_terms_containing(H7, [exp(I * (e-w)* t), exp(I * (-e+w)* t),\n",
    "                                exp(I * (e+w)* t), exp(-I * (e+w)* t),\n",
    "                                exp(I * (e+3*w)* t), exp(-I * (e+3*w)* t),\n",
    "                                ])\n",
    "H8 = drop_c_number_terms(H8)\n",
    "H8"
   ]
  },
  {
   "cell_type": "markdown",
   "metadata": {},
   "source": [
    "The terms associated with the exponents $e^{\\pm2i\\omega t}, e^{\\pm i(\\epsilon-3\\omega)}$ are not to be neglected in this case, because we are only with the large detuning condition $g\\ll |\\epsilon-\\omega|$. (For instance, if $\\omega\\ll g$, $e^{\\pm 2i\\omega t}$ term is oscillating slowly and cannot be ignored. In addition, even if $\\omega\\gg g$, this term has no significant effect whether or not we include in the sum. So, it is necessary that we include this term in the summation.)"
   ]
  },
  {
   "cell_type": "markdown",
   "metadata": {},
   "source": [
    "We move back to the lab frame:"
   ]
  },
  {
   "cell_type": "code",
   "execution_count": 50,
   "metadata": {},
   "outputs": [
    {
     "data": {
      "image/png": "[encoded data removed]",
      "text/latex": [
       "$$- \\epsilon \\lambda_{1}^{2} {{a}^\\dagger} {a} {\\sigma_z} - \\frac{\\epsilon \\lambda_{1}^{2}}{2} {\\sigma_z} - \\epsilon \\lambda_{1} \\lambda_{2} \\left({{a}^\\dagger}\\right)^{2} {\\sigma_z} - \\epsilon \\lambda_{1} \\lambda_{2} \\left({a}\\right)^{2} {\\sigma_z} - \\epsilon \\lambda_{2}^{2} {{a}^\\dagger} {a} {\\sigma_z} - \\frac{\\epsilon \\lambda_{2}^{2}}{2} {\\sigma_z} + \\frac{\\epsilon {\\sigma_z}}{2} - g \\lambda_{1}^{2} \\left({{a}^\\dagger}\\right)^{3} {\\sigma_-} - g \\lambda_{1}^{2} \\left({a}\\right)^{3} {\\sigma_+} - g \\lambda_{1} \\lambda_{2} \\left({{a}^\\dagger}\\right)^{3} {\\sigma_-} - g \\lambda_{1} \\lambda_{2} \\left({a}\\right)^{3} {\\sigma_+} + 2 g \\lambda_{1} {{a}^\\dagger} {a} {\\sigma_z} + g \\lambda_{1} \\left({{a}^\\dagger}\\right)^{2} {\\sigma_z} + g \\lambda_{1} \\left({a}\\right)^{2} {\\sigma_z} + g \\lambda_{1} {\\sigma_z} + 2 g \\lambda_{2} {{a}^\\dagger} {a} {\\sigma_z} + g \\lambda_{2} \\left({{a}^\\dagger}\\right)^{2} {\\sigma_z} + g \\lambda_{2} \\left({a}\\right)^{2} {\\sigma_z} + g \\lambda_{2} {\\sigma_z} + \\lambda_{1}^{2} \\omega {{a}^\\dagger} {a} {\\sigma_z} + \\frac{\\lambda_{1}^{2} \\omega}{2} {\\sigma_z} - \\lambda_{2}^{2} \\omega {{a}^\\dagger} {a} {\\sigma_z} - \\frac{\\lambda_{2}^{2} \\omega}{2} {\\sigma_z} + \\omega {{a}^\\dagger} {a}$$"
      ],
      "text/plain": [
       "                         2                     2                              \n",
       "      2  †           ε⋅λ₁ ⋅False           ⎛ †⎞                   2           \n",
       "- ε⋅λ₁ ⋅a ⋅a⋅False - ─────────── - ε⋅λ₁⋅λ₂⋅⎝a ⎠ ⋅False - ε⋅λ₁⋅λ₂⋅a ⋅False - ε⋅\n",
       "                          2                                                   \n",
       "\n",
       "                     2                             3                          \n",
       "  2  †           ε⋅λ₂ ⋅False   ε⋅False       2 ⎛ †⎞              2  3         \n",
       "λ₂ ⋅a ⋅a⋅False - ─────────── + ─────── - g⋅λ₁ ⋅⎝a ⎠ ⋅False - g⋅λ₁ ⋅a ⋅False - \n",
       "                      2           2                                           \n",
       "\n",
       "            3                                                         2       \n",
       "        ⎛ †⎞                   3                 †                ⎛ †⎞        \n",
       "g⋅λ₁⋅λ₂⋅⎝a ⎠ ⋅False - g⋅λ₁⋅λ₂⋅a ⋅False + 2⋅g⋅λ₁⋅a ⋅a⋅False + g⋅λ₁⋅⎝a ⎠ ⋅False \n",
       "                                                                              \n",
       "\n",
       "                                                            2                 \n",
       "        2                              †                ⎛ †⎞                2 \n",
       "+ g⋅λ₁⋅a ⋅False + g⋅λ₁⋅False + 2⋅g⋅λ₂⋅a ⋅a⋅False + g⋅λ₂⋅⎝a ⎠ ⋅False + g⋅λ₂⋅a ⋅\n",
       "                                                                              \n",
       "\n",
       "                                          2                                2  \n",
       "                       2    †           λ₁ ⋅ω⋅False     2    †           λ₂ ⋅ω\n",
       "False + g⋅λ₂⋅False + λ₁ ⋅ω⋅a ⋅a⋅False + ─────────── - λ₂ ⋅ω⋅a ⋅a⋅False - ─────\n",
       "                                             2                                \n",
       "\n",
       "               \n",
       "⋅False      †  \n",
       "────── + ω⋅a ⋅a\n",
       "2              "
      ]
     },
     "execution_count": 50,
     "metadata": {},
     "output_type": "execute_result"
    }
   ],
   "source": [
    "H9  = hamiltonian_transformation(U3, H8)\n",
    "H10 = hamiltonian_transformation(U4, H9)\n",
    "\n",
    "H10 = qsimplify(H10.expand())\n",
    "\n",
    "H10"
   ]
  },
  {
   "cell_type": "code",
   "execution_count": 51,
   "metadata": {},
   "outputs": [],
   "source": [
    "D_ = Symbol(\"\\Delta'\", real=True) # D_ = e + w = 2 * e - D"
   ]
  },
  {
   "cell_type": "code",
   "execution_count": 52,
   "metadata": {},
   "outputs": [
    {
     "data": {
      "image/png": "[encoded data removed]",
      "text/latex": [
       "$$\\frac{\\epsilon {\\sigma_z}}{2} + \\omega {{a}^\\dagger} {a} + \\frac{2 g^{2}}{\\Delta'} {{a}^\\dagger} {a} {\\sigma_z} + \\frac{g^{2} \\left({{a}^\\dagger}\\right)^{2}}{\\Delta'} {\\sigma_z} + \\frac{g^{2} \\left({a}\\right)^{2}}{\\Delta'} {\\sigma_z} + \\frac{g^{2} {\\sigma_z}}{\\Delta'} - \\frac{\\epsilon g^{2}}{\\Delta'^{2}} {{a}^\\dagger} {a} {\\sigma_z} - \\frac{\\epsilon g^{2} {\\sigma_z}}{2 \\Delta'^{2}} - \\frac{g^{2} \\omega}{\\Delta'^{2}} {{a}^\\dagger} {a} {\\sigma_z} - \\frac{g^{2} \\omega {\\sigma_z}}{2 \\Delta'^{2}} + \\frac{2 g^{2}}{\\Delta} {{a}^\\dagger} {a} {\\sigma_z} + \\frac{g^{2} \\left({{a}^\\dagger}\\right)^{2}}{\\Delta} {\\sigma_z} + \\frac{g^{2} \\left({a}\\right)^{2}}{\\Delta} {\\sigma_z} + \\frac{g^{2} {\\sigma_z}}{\\Delta} - \\frac{\\epsilon g^{2} \\left({{a}^\\dagger}\\right)^{2} {\\sigma_z}}{\\Delta \\Delta'} - \\frac{\\epsilon g^{2} \\left({a}\\right)^{2} {\\sigma_z}}{\\Delta \\Delta'} - \\frac{g^{3} \\left({{a}^\\dagger}\\right)^{3} {\\sigma_-}}{\\Delta \\Delta'} - \\frac{g^{3} \\left({a}\\right)^{3} {\\sigma_+}}{\\Delta \\Delta'} - \\frac{\\epsilon g^{2}}{\\Delta^{2}} {{a}^\\dagger} {a} {\\sigma_z} - \\frac{\\epsilon g^{2} {\\sigma_z}}{2 \\Delta^{2}} - \\frac{g^{3} \\left({{a}^\\dagger}\\right)^{3}}{\\Delta^{2}} {\\sigma_-} - \\frac{g^{3} \\left({a}\\right)^{3}}{\\Delta^{2}} {\\sigma_+} + \\frac{g^{2} \\omega}{\\Delta^{2}} {{a}^\\dagger} {a} {\\sigma_z} + \\frac{g^{2} \\omega {\\sigma_z}}{2 \\Delta^{2}}$$"
      ],
      "text/plain": [
       "                                            2                                 \n",
       "                      2  †            2 ⎛ †⎞           2  2          2        \n",
       "ε⋅False      †     2⋅g ⋅a ⋅a⋅False   g ⋅⎝a ⎠ ⋅False   g ⋅a ⋅False   g ⋅False  \n",
       "─────── + ω⋅a ⋅a + ─────────────── + ────────────── + ─────────── + ──────── -\n",
       "   2                   \\Delta'          \\Delta'         \\Delta'     \\Delta'   \n",
       "                                                                              \n",
       "\n",
       "                                                                              \n",
       "    2  †              2          2    †            2              2  †        \n",
       " ε⋅g ⋅a ⋅a⋅False   ε⋅g ⋅False   g ⋅ω⋅a ⋅a⋅False   g ⋅ω⋅False   2⋅g ⋅a ⋅a⋅False\n",
       " ─────────────── - ────────── - ─────────────── - ────────── + ───────────────\n",
       "            2               2              2               2          Δ       \n",
       "     \\Delta'       2⋅\\Delta'        \\Delta'       2⋅\\Delta'                   \n",
       "\n",
       "          2                                           2                       \n",
       "    2 ⎛ †⎞           2  2          2            2 ⎛ †⎞             2  2       \n",
       "   g ⋅⎝a ⎠ ⋅False   g ⋅a ⋅False   g ⋅False   ε⋅g ⋅⎝a ⎠ ⋅False   ε⋅g ⋅a ⋅False \n",
       " + ────────────── + ─────────── + ──────── - ──────────────── - ───────────── \n",
       "         Δ               Δ           Δ          Δ⋅\\Delta'         Δ⋅\\Delta'   \n",
       "                                                                              \n",
       "\n",
       "         3                                                             3      \n",
       "   3 ⎛ †⎞           3  3            2  †              2          3 ⎛ †⎞       \n",
       "  g ⋅⎝a ⎠ ⋅False   g ⋅a ⋅False   ε⋅g ⋅a ⋅a⋅False   ε⋅g ⋅False   g ⋅⎝a ⎠ ⋅False\n",
       "- ────────────── - ─────────── - ─────────────── - ────────── - ──────────────\n",
       "    Δ⋅\\Delta'       Δ⋅\\Delta'            2               2             2      \n",
       "                                        Δ             2⋅Δ             Δ       \n",
       "\n",
       "                                             \n",
       "    3  3          2    †            2        \n",
       "   g ⋅a ⋅False   g ⋅ω⋅a ⋅a⋅False   g ⋅ω⋅False\n",
       " - ─────────── + ─────────────── + ──────────\n",
       "         2               2               2   \n",
       "        Δ               Δ             2⋅Δ    "
      ]
     },
     "execution_count": 52,
     "metadata": {},
     "output_type": "execute_result"
    }
   ],
   "source": [
    "H10.subs({l1: g/D, l2: g/D_})"
   ]
  },
  {
   "cell_type": "code",
   "execution_count": 53,
   "metadata": {},
   "outputs": [
    {
     "data": {
      "image/png": "[encoded data removed]",
      "text/latex": [
       "$$\\frac{\\epsilon {\\sigma_z}}{2} + \\omega {{a}^\\dagger} {a} + \\frac{2 g^{2}}{\\Delta'} {{a}^\\dagger} {a} {\\sigma_z} + \\frac{g^{2} \\left({{a}^\\dagger}\\right)^{2}}{\\Delta'} {\\sigma_z} + \\frac{g^{2} \\left({a}\\right)^{2}}{\\Delta'} {\\sigma_z} + \\frac{g^{2} {\\sigma_z}}{\\Delta'} - \\frac{\\epsilon g^{2}}{\\Delta'^{2}} {{a}^\\dagger} {a} {\\sigma_z} - \\frac{\\epsilon g^{2} {\\sigma_z}}{2 \\Delta'^{2}} - \\frac{g^{2} \\omega}{\\Delta'^{2}} {{a}^\\dagger} {a} {\\sigma_z} - \\frac{g^{2} \\omega {\\sigma_z}}{2 \\Delta'^{2}} + \\frac{2 g^{2}}{\\Delta} {{a}^\\dagger} {a} {\\sigma_z} + \\frac{g^{2} \\left({{a}^\\dagger}\\right)^{2}}{\\Delta} {\\sigma_z} + \\frac{g^{2} \\left({a}\\right)^{2}}{\\Delta} {\\sigma_z} + \\frac{g^{2} {\\sigma_z}}{\\Delta} - \\frac{\\epsilon g^{2} \\left({{a}^\\dagger}\\right)^{2} {\\sigma_z}}{\\Delta \\Delta'} - \\frac{\\epsilon g^{2} \\left({a}\\right)^{2} {\\sigma_z}}{\\Delta \\Delta'} - \\frac{g^{3} \\left({{a}^\\dagger}\\right)^{3} {\\sigma_-}}{\\Delta \\Delta'} - \\frac{g^{3} \\left({a}\\right)^{3} {\\sigma_+}}{\\Delta \\Delta'} - \\frac{\\epsilon g^{2}}{\\Delta^{2}} {{a}^\\dagger} {a} {\\sigma_z} - \\frac{\\epsilon g^{2} {\\sigma_z}}{2 \\Delta^{2}} - \\frac{g^{3} \\left({{a}^\\dagger}\\right)^{3}}{\\Delta^{2}} {\\sigma_-} - \\frac{g^{3} \\left({a}\\right)^{3}}{\\Delta^{2}} {\\sigma_+} + \\frac{g^{2} \\omega}{\\Delta^{2}} {{a}^\\dagger} {a} {\\sigma_z} + \\frac{g^{2} \\omega {\\sigma_z}}{2 \\Delta^{2}}$$"
      ],
      "text/plain": [
       "                                            2                                 \n",
       "                      2  †            2 ⎛ †⎞           2  2          2        \n",
       "ε⋅False      †     2⋅g ⋅a ⋅a⋅False   g ⋅⎝a ⎠ ⋅False   g ⋅a ⋅False   g ⋅False  \n",
       "─────── + ω⋅a ⋅a + ─────────────── + ────────────── + ─────────── + ──────── -\n",
       "   2                   \\Delta'          \\Delta'         \\Delta'     \\Delta'   \n",
       "                                                                              \n",
       "\n",
       "                                                                              \n",
       "    2  †              2          2    †            2              2  †        \n",
       " ε⋅g ⋅a ⋅a⋅False   ε⋅g ⋅False   g ⋅ω⋅a ⋅a⋅False   g ⋅ω⋅False   2⋅g ⋅a ⋅a⋅False\n",
       " ─────────────── - ────────── - ─────────────── - ────────── + ───────────────\n",
       "            2               2              2               2          Δ       \n",
       "     \\Delta'       2⋅\\Delta'        \\Delta'       2⋅\\Delta'                   \n",
       "\n",
       "          2                                           2                       \n",
       "    2 ⎛ †⎞           2  2          2            2 ⎛ †⎞             2  2       \n",
       "   g ⋅⎝a ⎠ ⋅False   g ⋅a ⋅False   g ⋅False   ε⋅g ⋅⎝a ⎠ ⋅False   ε⋅g ⋅a ⋅False \n",
       " + ────────────── + ─────────── + ──────── - ──────────────── - ───────────── \n",
       "         Δ               Δ           Δ          Δ⋅\\Delta'         Δ⋅\\Delta'   \n",
       "                                                                              \n",
       "\n",
       "         3                                                             3      \n",
       "   3 ⎛ †⎞           3  3            2  †              2          3 ⎛ †⎞       \n",
       "  g ⋅⎝a ⎠ ⋅False   g ⋅a ⋅False   ε⋅g ⋅a ⋅a⋅False   ε⋅g ⋅False   g ⋅⎝a ⎠ ⋅False\n",
       "- ────────────── - ─────────── - ─────────────── - ────────── - ──────────────\n",
       "    Δ⋅\\Delta'       Δ⋅\\Delta'            2               2             2      \n",
       "                                        Δ             2⋅Δ             Δ       \n",
       "\n",
       "                                             \n",
       "    3  3          2    †            2        \n",
       "   g ⋅a ⋅False   g ⋅ω⋅a ⋅a⋅False   g ⋅ω⋅False\n",
       " - ─────────── + ─────────────── + ──────────\n",
       "         2               2               2   \n",
       "        Δ               Δ             2⋅Δ    "
      ]
     },
     "execution_count": 53,
     "metadata": {},
     "output_type": "execute_result"
    }
   ],
   "source": [
    "H11 = H10.subs({l1: g/D, l2: g/D_})\n",
    "H11"
   ]
  },
  {
   "cell_type": "code",
   "execution_count": 54,
   "metadata": {},
   "outputs": [
    {
     "data": {
      "image/png": "[encoded data removed]",
      "text/latex": [
       "$$\\frac{\\epsilon {\\sigma_z}}{2} + \\omega {{a}^\\dagger} {a} + \\frac{g^{2} {\\sigma_z}}{\\Delta'} \\left(1 + 2 {{a}^\\dagger} {a} + \\left({{a}^\\dagger}\\right)^{2} + \\left({a}\\right)^{2}\\right) + \\frac{g^{2} {\\sigma_z}}{\\Delta'^{2}} \\left(- \\frac{\\epsilon}{2} - \\epsilon {{a}^\\dagger} {a} - \\frac{\\omega}{2} - \\omega {{a}^\\dagger} {a}\\right) + \\frac{g^{2} {\\sigma_z}}{\\Delta} \\left(1 + 2 {{a}^\\dagger} {a} + \\left({{a}^\\dagger}\\right)^{2} + \\left({a}\\right)^{2}\\right) + \\frac{\\epsilon g^{2} {\\sigma_z}}{\\Delta \\Delta'} \\left(- \\left({{a}^\\dagger}\\right)^{2} - \\left({a}\\right)^{2}\\right) - \\frac{g^{3} \\left({{a}^\\dagger}\\right)^{3} {\\sigma_-}}{\\Delta \\Delta'} - \\frac{g^{3} \\left({a}\\right)^{3} {\\sigma_+}}{\\Delta \\Delta'} - \\frac{g^{3} \\left({{a}^\\dagger}\\right)^{3}}{\\Delta^{2}} {\\sigma_-} - \\frac{g^{3} \\left({a}\\right)^{3}}{\\Delta^{2}} {\\sigma_+} + \\frac{g^{2} {\\sigma_z}}{\\Delta^{2}} \\left(- \\frac{\\epsilon}{2} - \\epsilon {{a}^\\dagger} {a} + \\frac{\\omega}{2} + \\omega {{a}^\\dagger} {a}\\right)$$"
      ],
      "text/plain": [
       "                            ⎛                 2     ⎞    2       ⎛  ε      †  \n",
       "                    2       ⎜       †     ⎛ †⎞     2⎟   g ⋅False⋅⎜- ─ - ε⋅a ⋅a\n",
       "ε⋅False      †     g ⋅False⋅⎝1 + 2⋅a ⋅a + ⎝a ⎠  + a ⎠            ⎝  2         \n",
       "─────── + ω⋅a ⋅a + ────────────────────────────────── + ──────────────────────\n",
       "   2                            \\Delta'                                      2\n",
       "                                                                      \\Delta' \n",
       "\n",
       "   ω      †  ⎞            ⎛                 2     ⎞              ⎛      2     \n",
       " - ─ - ω⋅a ⋅a⎟    2       ⎜       †     ⎛ †⎞     2⎟      2       ⎜  ⎛ †⎞     2\n",
       "   2         ⎠   g ⋅False⋅⎝1 + 2⋅a ⋅a + ⎝a ⎠  + a ⎠   ε⋅g ⋅False⋅⎝- ⎝a ⎠  - a \n",
       "────────────── + ────────────────────────────────── + ────────────────────────\n",
       "                                 Δ                            Δ⋅\\Delta'       \n",
       "                                                                              \n",
       "\n",
       "⎞          3                              3                        2       ⎛  \n",
       "⎟    3 ⎛ †⎞           3  3          3 ⎛ †⎞           3  3         g ⋅False⋅⎜- \n",
       "⎠   g ⋅⎝a ⎠ ⋅False   g ⋅a ⋅False   g ⋅⎝a ⎠ ⋅False   g ⋅a ⋅False            ⎝  \n",
       "─ - ────────────── - ─────────── - ────────────── - ─────────── + ────────────\n",
       "      Δ⋅\\Delta'       Δ⋅\\Delta'           2               2                   \n",
       "                                         Δ               Δ                    \n",
       "\n",
       "ε      †     ω      †  ⎞\n",
       "─ - ε⋅a ⋅a + ─ + ω⋅a ⋅a⎟\n",
       "2            2         ⎠\n",
       "────────────────────────\n",
       "      2                 \n",
       "     Δ                  "
      ]
     },
     "execution_count": 54,
     "metadata": {},
     "output_type": "execute_result"
    }
   ],
   "source": [
    "H12 = collect(H11, [g**2*sz*e/(D*D_), \n",
    "                    g**2*sz/D_, g**2*sz/D])\n",
    "\n",
    "H12"
   ]
  },
  {
   "cell_type": "markdown",
   "metadata": {},
   "source": [
    "The terms containing $a^3, (a^\\dagger)^3$ has a higher order of $\\lambda_1 = g/\\Delta, \\lambda_2 = g/(2\\epsilon-\\Delta)$, so that these can be ignored:"
   ]
  },
  {
   "cell_type": "code",
   "execution_count": 55,
   "metadata": {},
   "outputs": [
    {
     "data": {
      "image/png": "[encoded data removed]",
      "text/latex": [
       "$$\\frac{\\epsilon {\\sigma_z}}{2} + \\omega {{a}^\\dagger} {a} + \\frac{g^{2} {\\sigma_z}}{\\Delta'} \\left(1 + 2 {{a}^\\dagger} {a} + \\left({{a}^\\dagger}\\right)^{2} + \\left({a}\\right)^{2}\\right) + \\frac{g^{2} {\\sigma_z}}{\\Delta'^{2}} \\left(- \\frac{\\epsilon}{2} - \\epsilon {{a}^\\dagger} {a} - \\frac{\\omega}{2} - \\omega {{a}^\\dagger} {a}\\right) + \\frac{g^{2} {\\sigma_z}}{\\Delta} \\left(1 + 2 {{a}^\\dagger} {a} + \\left({{a}^\\dagger}\\right)^{2} + \\left({a}\\right)^{2}\\right) + \\frac{\\epsilon g^{2} {\\sigma_z}}{\\Delta \\Delta'} \\left(- \\left({{a}^\\dagger}\\right)^{2} - \\left({a}\\right)^{2}\\right) + \\frac{g^{2} {\\sigma_z}}{\\Delta^{2}} \\left(- \\frac{\\epsilon}{2} - \\epsilon {{a}^\\dagger} {a} + \\frac{\\omega}{2} + \\omega {{a}^\\dagger} {a}\\right)$$"
      ],
      "text/plain": [
       "                            ⎛                 2     ⎞    2       ⎛  ε      †  \n",
       "                    2       ⎜       †     ⎛ †⎞     2⎟   g ⋅False⋅⎜- ─ - ε⋅a ⋅a\n",
       "ε⋅False      †     g ⋅False⋅⎝1 + 2⋅a ⋅a + ⎝a ⎠  + a ⎠            ⎝  2         \n",
       "─────── + ω⋅a ⋅a + ────────────────────────────────── + ──────────────────────\n",
       "   2                            \\Delta'                                      2\n",
       "                                                                      \\Delta' \n",
       "\n",
       "   ω      †  ⎞            ⎛                 2     ⎞              ⎛      2     \n",
       " - ─ - ω⋅a ⋅a⎟    2       ⎜       †     ⎛ †⎞     2⎟      2       ⎜  ⎛ †⎞     2\n",
       "   2         ⎠   g ⋅False⋅⎝1 + 2⋅a ⋅a + ⎝a ⎠  + a ⎠   ε⋅g ⋅False⋅⎝- ⎝a ⎠  - a \n",
       "────────────── + ────────────────────────────────── + ────────────────────────\n",
       "                                 Δ                            Δ⋅\\Delta'       \n",
       "                                                                              \n",
       "\n",
       "⎞    2       ⎛  ε      †     ω      †  ⎞\n",
       "⎟   g ⋅False⋅⎜- ─ - ε⋅a ⋅a + ─ + ω⋅a ⋅a⎟\n",
       "⎠            ⎝  2            2         ⎠\n",
       "─ + ────────────────────────────────────\n",
       "                      2                 \n",
       "                     Δ                  "
      ]
     },
     "execution_count": 55,
     "metadata": {},
     "output_type": "execute_result"
    }
   ],
   "source": [
    "H13 = drop_terms_containing(H12, [a**3, Dagger(a)**3]); H13"
   ]
  },
  {
   "cell_type": "markdown",
   "metadata": {},
   "source": [
    "We use the familiar relation of fractions:\n",
    "\\begin{align}\n",
    "\\frac{\\epsilon}{\\Delta \\Delta' }\n",
    "=\\frac{\\epsilon}{\\Delta(2\\epsilon-\\Delta)}\n",
    "=\\frac{1}{2\\Delta} + \\frac{1}{2(2\\epsilon-\\Delta)}\n",
    "=\\frac{1}{2\\Delta} + \\frac{1}{2\\Delta'}\n",
    "\\end{align}"
   ]
  },
  {
   "cell_type": "code",
   "execution_count": 56,
   "metadata": {},
   "outputs": [
    {
     "data": {
      "image/png": "[encoded data removed]",
      "text/latex": [
       "$$\\frac{\\epsilon {\\sigma_z}}{2} + g^{2} \\left(\\frac{1}{2 \\Delta'} + \\frac{1}{2 \\Delta}\\right) {\\sigma_z} \\left(- \\left({{a}^\\dagger}\\right)^{2} - \\left({a}\\right)^{2}\\right) + \\omega {{a}^\\dagger} {a} + \\frac{g^{2} {\\sigma_z}}{\\Delta'} \\left(1 + 2 {{a}^\\dagger} {a} + \\left({{a}^\\dagger}\\right)^{2} + \\left({a}\\right)^{2}\\right) + \\frac{g^{2} {\\sigma_z}}{\\Delta'^{2}} \\left(- \\frac{\\epsilon}{2} - \\epsilon {{a}^\\dagger} {a} - \\frac{\\omega}{2} - \\omega {{a}^\\dagger} {a}\\right) + \\frac{g^{2} {\\sigma_z}}{\\Delta} \\left(1 + 2 {{a}^\\dagger} {a} + \\left({{a}^\\dagger}\\right)^{2} + \\left({a}\\right)^{2}\\right) + \\frac{g^{2} {\\sigma_z}}{\\Delta^{2}} \\left(- \\frac{\\epsilon}{2} - \\epsilon {{a}^\\dagger} {a} + \\frac{\\omega}{2} + \\omega {{a}^\\dagger} {a}\\right)$$"
      ],
      "text/plain": [
       "                                                                        ⎛     \n",
       "                                     ⎛      2     ⎞             2       ⎜     \n",
       "ε⋅False    2 ⎛    1        1 ⎞       ⎜  ⎛ †⎞     2⎟      †     g ⋅False⋅⎝1 + 2\n",
       "─────── + g ⋅⎜───────── + ───⎟⋅False⋅⎝- ⎝a ⎠  - a ⎠ + ω⋅a ⋅a + ───────────────\n",
       "   2         ⎝2⋅\\Delta'   2⋅Δ⎠                                              \\D\n",
       "                                                                              \n",
       "\n",
       "            2     ⎞    2       ⎛  ε      †     ω      †  ⎞            ⎛       \n",
       "  †     ⎛ †⎞     2⎟   g ⋅False⋅⎜- ─ - ε⋅a ⋅a - ─ - ω⋅a ⋅a⎟    2       ⎜       \n",
       "⋅a ⋅a + ⎝a ⎠  + a ⎠            ⎝  2            2         ⎠   g ⋅False⋅⎝1 + 2⋅a\n",
       "─────────────────── + ──────────────────────────────────── + ─────────────────\n",
       "elta'                                      2                                 Δ\n",
       "                                    \\Delta'                                   \n",
       "\n",
       "          2     ⎞    2       ⎛  ε      †     ω      †  ⎞\n",
       "†     ⎛ †⎞     2⎟   g ⋅False⋅⎜- ─ - ε⋅a ⋅a + ─ + ω⋅a ⋅a⎟\n",
       " ⋅a + ⎝a ⎠  + a ⎠            ⎝  2            2         ⎠\n",
       "───────────────── + ────────────────────────────────────\n",
       "                                      2                 \n",
       "                                     Δ                  "
      ]
     },
     "execution_count": 56,
     "metadata": {},
     "output_type": "execute_result"
    }
   ],
   "source": [
    "H14 = H13.subs(e / (D * D_), 1/(2*D) + 1/(2*D_))\n",
    "H14"
   ]
  },
  {
   "cell_type": "code",
   "execution_count": 57,
   "metadata": {},
   "outputs": [
    {
     "data": {
      "image/png": "[encoded data removed]",
      "text/latex": [
       "$$\\frac{\\epsilon {\\sigma_z}}{2} + \\omega {{a}^\\dagger} {a} - \\frac{g^{2} {\\sigma_z}}{2 \\Delta'} \\left(1 + 2 {{a}^\\dagger} {a}\\right) + \\frac{g^{2} {\\sigma_z}}{\\Delta'} \\left(1 + 2 {{a}^\\dagger} {a} + \\left({{a}^\\dagger}\\right)^{2} + \\left({a}\\right)^{2}\\right) - \\frac{g^{2} {\\sigma_z}}{2 \\Delta} \\left(1 + 2 {{a}^\\dagger} {a}\\right) + \\frac{g^{2} {\\sigma_z}}{\\Delta} \\left(1 + 2 {{a}^\\dagger} {a} + \\left({{a}^\\dagger}\\right)^{2} + \\left({a}\\right)^{2}\\right) - \\frac{g^{2} {\\sigma_z}}{2 \\Delta \\Delta'} \\left(\\Delta + \\Delta'\\right) \\left(\\left({{a}^\\dagger}\\right)^{2} + \\left({a}\\right)^{2}\\right)$$"
      ],
      "text/plain": [
       "                                                    ⎛                 2     ⎞ \n",
       "                    2       ⎛       †  ⎞    2       ⎜       †     ⎛ †⎞     2⎟ \n",
       "ε⋅False      †     g ⋅False⋅⎝1 + 2⋅a ⋅a⎠   g ⋅False⋅⎝1 + 2⋅a ⋅a + ⎝a ⎠  + a ⎠ \n",
       "─────── + ω⋅a ⋅a - ───────────────────── + ────────────────────────────────── \n",
       "   2                     2⋅\\Delta'                      \\Delta'               \n",
       "\n",
       "                                   ⎛                 2     ⎞                  \n",
       "   2       ⎛       †  ⎞    2       ⎜       †     ⎛ †⎞     2⎟    2             \n",
       "  g ⋅False⋅⎝1 + 2⋅a ⋅a⎠   g ⋅False⋅⎝1 + 2⋅a ⋅a + ⎝a ⎠  + a ⎠   g ⋅(Δ + \\Delta'\n",
       "- ───────────────────── + ────────────────────────────────── - ───────────────\n",
       "           2⋅Δ                            Δ                                2⋅Δ\n",
       "\n",
       "        ⎛    2     ⎞\n",
       "        ⎜⎛ †⎞     2⎟\n",
       ")⋅False⋅⎝⎝a ⎠  + a ⎠\n",
       "────────────────────\n",
       "⋅\\Delta'            "
      ]
     },
     "execution_count": 57,
     "metadata": {},
     "output_type": "execute_result"
    }
   ],
   "source": [
    "H15 = Add(*[simplify(Mul(*[f.factor() for f in t.args])) for t in H14.args]).subs({e-w: D, e+w: D_})\n",
    "H15"
   ]
  },
  {
   "cell_type": "markdown",
   "metadata": {},
   "source": [
    "for simplicity, let $A = a^\\dagger + a$"
   ]
  },
  {
   "cell_type": "code",
   "execution_count": 58,
   "metadata": {},
   "outputs": [],
   "source": [
    "A = Operator('A')  # a + Dagger(a)\n",
    "Asq = qsimplify(((a + Dagger(a))**2).expand())"
   ]
  },
  {
   "cell_type": "code",
   "execution_count": 59,
   "metadata": {},
   "outputs": [
    {
     "data": {
      "image/png": "[encoded data removed]",
      "text/latex": [
       "$$\\frac{\\epsilon {\\sigma_z}}{2} + \\omega {{a}^\\dagger} {a} + \\frac{g^{2} {\\sigma_z} \\left(A\\right)^{2}}{2 \\Delta'} + \\frac{g^{2} {\\sigma_z} \\left(A\\right)^{2}}{2 \\Delta}$$"
      ],
      "text/plain": [
       "                    2        2    2        2\n",
       "ε⋅False      †     g ⋅False⋅A    g ⋅False⋅A \n",
       "─────── + ω⋅a ⋅a + ─────────── + ───────────\n",
       "   2                2⋅\\Delta'        2⋅Δ    "
      ]
     },
     "execution_count": 59,
     "metadata": {},
     "output_type": "execute_result"
    }
   ],
   "source": [
    "H16 = H15.subs({Asq: A**2,\n",
    "                1 + 2 * Dagger(a) * a: A**2 - a**2 - Dagger(a)**2}).expand()\n",
    "H16"
   ]
  },
  {
   "cell_type": "code",
   "execution_count": 60,
   "metadata": {},
   "outputs": [
    {
     "data": {
      "image/png": "[encoded data removed]",
      "text/latex": [
       "$$H_{disp} = \\frac{\\epsilon {\\sigma_z}}{2} + g^{2} \\left(\\frac{1}{- 2 \\Delta + 4 \\epsilon} + \\frac{1}{2 \\Delta}\\right) {\\sigma_z} \\left({{a}^\\dagger} + {a}\\right)^{2} + \\omega {{a}^\\dagger} {a}$$"
      ],
      "text/plain": [
       "                                                         2         \n",
       "         ε⋅False    2 ⎛     1          1 ⎞       ⎛ †    ⎞       †  \n",
       "H_disp = ─────── + g ⋅⎜──────────── + ───⎟⋅False⋅⎝a  + a⎠  + ω⋅a ⋅a\n",
       "            2         ⎝2⋅(-Δ + 2⋅ε)   2⋅Δ⎠                         "
      ]
     },
     "execution_count": 60,
     "metadata": {},
     "output_type": "execute_result"
    }
   ],
   "source": [
    "H17 = collect(H16, g**2*sz*A).subs({A: a + Dagger(a),\n",
    "                                    D_: 2 * e - D})\n",
    "\n",
    "Eq(Symbol(\"H_disp\"), H17)"
   ]
  },
  {
   "cell_type": "markdown",
   "metadata": {},
   "source": [
    "This is the dispersive Hamiltonian obtained without regard to the RWA Hamiltonian in the beginning. The prefactor of the coupling has a contribution arising not only from $\\lambda_1 = g/\\Delta$, but also from $\\lambda_2=g/(2\\epsilon-\\Delta)$. Also, the coupling is proportional to $(a^\\dagger + a)^2$. "
   ]
  },
  {
   "cell_type": "markdown",
   "metadata": {},
   "source": [
    "This Hamiltonian is not diagonal in the eigenbasis of the uncoupled Hamiltonian $H_0$. Nevertheless, it is still possible to interpret this result as a qubit-state dependent frequency shift."
   ]
  },
  {
   "cell_type": "markdown",
   "metadata": {},
   "source": [
    "Interpreting $\\hbar\\omega a^\\dagger a$ as the Hamiltonian of a particle with unit mass in the potential $\\frac{1}{2}\\omega^2 x^2$, where $x=\\sqrt{\\frac{\\hbar}{2\\omega}}(a^\\dagger+a)$. The qubit-oscillator coupling modifies the potential curvature $\\omega^2$, such that the oscillator frequency undergoes a shift according to\n",
    "\\begin{align}\n",
    "\\omega \\ \\rightarrow \\ \\overline{\\omega} = \\omega\\sqrt{1\\pm \\frac{2g^2}{\\omega} \\left( \\frac{1}{\\Delta} + \\frac{1}{2\\epsilon-\\Delta}\\right)}.\n",
    "\\end{align}\n",
    "where the $\\pm$ sign depends on the qubit state."
   ]
  },
  {
   "cell_type": "markdown",
   "metadata": {},
   "source": [
    "In the experimentally interesting parameter regime where $g<\\omega$, we can expand this expression to obtain\n",
    "\\begin{align}\n",
    "\\overline{\\omega} = \\omega \\pm g^2 \\left( \\frac{1}{\\Delta} + \\frac{1}{2\\epsilon-\\Delta}\\right).\n",
    "\\end{align}"
   ]
  }
 ],
 "metadata": {
  "kernelspec": {
   "display_name": "Python 3",
   "language": "python",
   "name": "python3"
  },
  "language_info": {
   "codemirror_mode": {
    "name": "ipython",
    "version": 3
   },
   "file_extension": ".py",
   "mimetype": "text/x-python",
   "name": "python",
   "nbconvert_exporter": "python",
   "pygments_lexer": "ipython3",
   "version": "3.6.1"
  }
 },
 "nbformat": 4,
 "nbformat_minor": 1
}
