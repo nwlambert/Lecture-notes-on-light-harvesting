{
 "cells": [
  {
   "cell_type": "code",
   "execution_count": 1,
   "metadata": {
    "collapsed": true
   },
   "outputs": [],
   "source": [
    "from sympy import *\n",
    "init_printing()"
   ]
  },
  {
   "cell_type": "code",
   "execution_count": 2,
   "metadata": {
    "collapsed": true
   },
   "outputs": [],
   "source": [
    "from sympsi import *\n",
    "from sympsi.boson import *\n",
    "from sympsi.pauli import *"
   ]
  },
  {
   "cell_type": "code",
   "execution_count": 3,
   "metadata": {
    "collapsed": true
   },
   "outputs": [],
   "source": [
    "omega_c, Omega, g, Delta, t, x, Hsym = symbols(\"omega_c, Omega, g, Delta, t, x, H\")"
   ]
  },
  {
   "cell_type": "code",
   "execution_count": 4,
   "metadata": {
    "collapsed": true
   },
   "outputs": [],
   "source": [
    "sx, sy, sz, sm, sp = SigmaX(), SigmaY(), SigmaZ(), SigmaMinus(), SigmaPlus()\n",
    "a = BosonOp(\"a\")"
   ]
  },
  {
   "cell_type": "code",
   "execution_count": 5,
   "metadata": {},
   "outputs": [
    {
     "data": {
      "image/png": "[encoded data removed]",
      "text/latex": [
       "$$H = \\frac{\\Delta {\\sigma_z}}{2} + \\frac{g {\\sigma_x}}{4} \\left(e^{i \\Delta t} + e^{- i \\Delta t}\\right) \\left(e^{i \\omega_{c} t} + e^{- i \\omega_{c} t}\\right) \\left({{a}^\\dagger} + {a}\\right) + \\omega_{c} {{a}^\\dagger} {a}$$"
      ],
      "text/plain": [
       "                ⎛ ⅈ⋅Δ⋅t    -ⅈ⋅Δ⋅t⎞ ⎛ ⅈ⋅ω_c⋅t    -ⅈ⋅ω_c⋅t⎞       ⎛ †    ⎞      \n",
       "    Δ⋅False   g⋅⎝ℯ      + ℯ      ⎠⋅⎝ℯ        + ℯ        ⎠⋅False⋅⎝a  + a⎠      \n",
       "H = ─────── + ────────────────────────────────────────────────────────── + ω_c\n",
       "       2                                  4                                   \n",
       "\n",
       "     \n",
       "  †  \n",
       "⋅a ⋅a\n",
       "     "
      ]
     },
     "execution_count": 5,
     "metadata": {},
     "output_type": "execute_result"
    }
   ],
   "source": [
    "H = omega_c * Dagger(a) * a + Delta / 2 * sz \n",
    "H = H + g / 4 *  (exp(- I * omega_c * t) + exp( I * omega_c * t)) * (exp(- I * Delta * t) + exp( I * Delta * t)) * sx * (a + Dagger(a))\n",
    "\n",
    "Eq(Hsym, H)"
   ]
  },
  {
   "cell_type": "markdown",
   "metadata": {},
   "source": [
    "CHECK HAMILTONIAN"
   ]
  },
  {
   "cell_type": "code",
   "execution_count": 6,
   "metadata": {},
   "outputs": [
    {
     "name": "stderr",
     "output_type": "stream",
     "text": [
      "C:\\Anaconda3\\lib\\site-packages\\sympsi\\qutility.py:482: UserWarning: Too high level or recursion, aborting\n",
      "  warnings.warn(\"Too high level or recursion, aborting\")\n"
     ]
    },
    {
     "data": {
      "image/png": "[encoded data removed]",
      "text/latex": [
       "$$\\frac{g {{a}^\\dagger}}{8} e^{2 i \\Delta t} e^{2 i \\omega_{c} t} {\\sigma_x} + \\frac{i g}{8} e^{2 i \\Delta t} e^{2 i \\omega_{c} t} {{a}^\\dagger} {\\sigma_y} + \\frac{g {{a}^\\dagger}}{8} e^{2 i \\Delta t} {\\sigma_x} + \\frac{i g}{8} e^{2 i \\Delta t} {{a}^\\dagger} {\\sigma_y} + \\frac{g {a}}{8} e^{2 i \\Delta t} {\\sigma_x} + \\frac{i g}{8} e^{2 i \\Delta t} {a} {\\sigma_y} + \\frac{g {a}}{8} e^{2 i \\Delta t} e^{- 2 i \\omega_{c} t} {\\sigma_x} + \\frac{i g}{8} e^{2 i \\Delta t} e^{- 2 i \\omega_{c} t} {a} {\\sigma_y} + \\frac{g {{a}^\\dagger}}{4} e^{2 i \\omega_{c} t} {\\sigma_x} + \\frac{g {{a}^\\dagger}}{4} {\\sigma_x} + \\frac{g {a}}{4} {\\sigma_x} + \\frac{g {a}}{4} e^{- 2 i \\omega_{c} t} {\\sigma_x} + \\frac{g {{a}^\\dagger}}{8} e^{- 2 i \\Delta t} e^{2 i \\omega_{c} t} {\\sigma_x} - \\frac{i g}{8} e^{- 2 i \\Delta t} e^{2 i \\omega_{c} t} {{a}^\\dagger} {\\sigma_y} + \\frac{g {{a}^\\dagger}}{8} e^{- 2 i \\Delta t} {\\sigma_x} - \\frac{i g}{8} e^{- 2 i \\Delta t} {{a}^\\dagger} {\\sigma_y} + \\frac{g {a}}{8} e^{- 2 i \\Delta t} {\\sigma_x} - \\frac{i g}{8} e^{- 2 i \\Delta t} {a} {\\sigma_y} + \\frac{g {a}}{8} e^{- 2 i \\Delta t} e^{- 2 i \\omega_{c} t} {\\sigma_x} - \\frac{i g}{8} e^{- 2 i \\Delta t} e^{- 2 i \\omega_{c} t} {a} {\\sigma_y}$$"
      ],
      "text/plain": [
       "   2⋅ⅈ⋅Δ⋅t  2⋅ⅈ⋅ω_c⋅t  †              2⋅ⅈ⋅Δ⋅t  2⋅ⅈ⋅ω_c⋅t  †            2⋅ⅈ⋅Δ⋅t\n",
       "g⋅ℯ       ⋅ℯ         ⋅a ⋅False   ⅈ⋅g⋅ℯ       ⋅ℯ         ⋅a ⋅False   g⋅ℯ       \n",
       "────────────────────────────── + ──────────────────────────────── + ──────────\n",
       "              8                                 8                            8\n",
       "\n",
       "  †              2⋅ⅈ⋅Δ⋅t  †            2⋅ⅈ⋅Δ⋅t                2⋅ⅈ⋅Δ⋅t         \n",
       "⋅a ⋅False   ⅈ⋅g⋅ℯ       ⋅a ⋅False   g⋅ℯ       ⋅a⋅False   ⅈ⋅g⋅ℯ       ⋅a⋅False \n",
       "───────── + ───────────────────── + ────────────────── + ──────────────────── \n",
       "                      8                     8                     8           \n",
       "\n",
       "     2⋅ⅈ⋅Δ⋅t  -2⋅ⅈ⋅ω_c⋅t                2⋅ⅈ⋅Δ⋅t  -2⋅ⅈ⋅ω_c⋅t              2⋅ⅈ⋅ω\n",
       "  g⋅ℯ       ⋅ℯ          ⋅a⋅False   ⅈ⋅g⋅ℯ       ⋅ℯ          ⋅a⋅False   g⋅ℯ     \n",
       "+ ────────────────────────────── + ──────────────────────────────── + ────────\n",
       "                8                                 8                           \n",
       "\n",
       "_c⋅t  †            †                        -2⋅ⅈ⋅ω_c⋅t              -2⋅ⅈ⋅Δ⋅t  \n",
       "    ⋅a ⋅False   g⋅a ⋅False   g⋅a⋅False   g⋅ℯ          ⋅a⋅False   g⋅ℯ        ⋅ℯ\n",
       "───────────── + ────────── + ───────── + ───────────────────── + ─────────────\n",
       "  4                 4            4                 4                          \n",
       "\n",
       "2⋅ⅈ⋅ω_c⋅t  †              -2⋅ⅈ⋅Δ⋅t  2⋅ⅈ⋅ω_c⋅t  †            -2⋅ⅈ⋅Δ⋅t  †       \n",
       "         ⋅a ⋅False   ⅈ⋅g⋅ℯ        ⋅ℯ         ⋅a ⋅False   g⋅ℯ        ⋅a ⋅False \n",
       "────────────────── - ───────────────────────────────── + ──────────────────── \n",
       "  8                                  8                            8           \n",
       "\n",
       "       -2⋅ⅈ⋅Δ⋅t  †            -2⋅ⅈ⋅Δ⋅t                -2⋅ⅈ⋅Δ⋅t              -2\n",
       "  ⅈ⋅g⋅ℯ        ⋅a ⋅False   g⋅ℯ        ⋅a⋅False   ⅈ⋅g⋅ℯ        ⋅a⋅False   g⋅ℯ  \n",
       "- ────────────────────── + ─────────────────── - ───────────────────── + ─────\n",
       "            8                       8                      8                  \n",
       "\n",
       "⋅ⅈ⋅Δ⋅t  -2⋅ⅈ⋅ω_c⋅t                -2⋅ⅈ⋅Δ⋅t  -2⋅ⅈ⋅ω_c⋅t        \n",
       "      ⋅ℯ          ⋅a⋅False   ⅈ⋅g⋅ℯ        ⋅ℯ          ⋅a⋅False\n",
       "────────────────────────── - ─────────────────────────────────\n",
       "          8                                  8                "
      ]
     },
     "execution_count": 6,
     "metadata": {},
     "output_type": "execute_result"
    }
   ],
   "source": [
    "U = exp( I * omega_c * t * Dagger(a) * a + I * Delta / 2 * t * sz)\n",
    "\n",
    "H_temp = hamiltonian_transformation(U, H.expand())\n",
    "H_temp_2 = H_temp.subs(cos(Delta * t),(exp(I * Delta * t) + exp(-I * Delta * t))/2).expand()\n",
    "H_temp_3 = H_temp_2.subs(sin(Delta * t),(exp(I * Delta * t) - exp(-I * Delta * t))/(2*I)).expand()\n",
    "H_U = qsimplify(H_temp_3.expand())\n",
    "H_U"
   ]
  },
  {
   "cell_type": "code",
   "execution_count": 7,
   "metadata": {},
   "outputs": [
    {
     "data": {
      "image/png": "[encoded data removed]",
      "text/latex": [
       "$$g {\\sigma_x} \\left(\\frac{{{a}^\\dagger}}{4} + \\frac{{a}}{4}\\right)$$"
      ],
      "text/plain": [
       "        ⎛ †    ⎞\n",
       "        ⎜a    a⎟\n",
       "g⋅False⋅⎜── + ─⎟\n",
       "        ⎝4    4⎠"
      ]
     },
     "execution_count": 7,
     "metadata": {},
     "output_type": "execute_result"
    }
   ],
   "source": [
    "H_0 = drop_terms_containing(H_U, [exp(2 * I * (Delta) * t),\n",
    "                               exp(- 2 * I * (Delta) * t),\n",
    "                               exp(2 * I * (omega_c) * t),\n",
    "                               exp(- 2 * I * (omega_c) * t)])\n",
    "H_0 = qsimplify(H_0.expand())\n",
    "H_0 = collect(H_0, [sx])\n",
    "H_0 = collect(H_0, [g / 4])\n",
    "H_0"
   ]
  },
  {
   "cell_type": "code",
   "execution_count": 9,
   "metadata": {
    "collapsed": true
   },
   "outputs": [],
   "source": [
    "# redefine H above\n",
    "H_0 = g / 4 * sx * (a + Dagger(a))"
   ]
  },
  {
   "cell_type": "code",
   "execution_count": 10,
   "metadata": {},
   "outputs": [
    {
     "data": {
      "image/png": "[encoded data removed]",
      "text/latex": [
       "$$g {\\sigma_x} \\left(\\frac{{{a}^\\dagger}}{4} e^{2 i \\omega_{c} t} + \\frac{{a}}{4} e^{- 2 i \\omega_{c} t}\\right)$$"
      ],
      "text/plain": [
       "        ⎛ 2⋅ⅈ⋅ω_c⋅t  †    -2⋅ⅈ⋅ω_c⋅t  ⎞\n",
       "        ⎜ℯ         ⋅a    ℯ          ⋅a⎟\n",
       "g⋅False⋅⎜───────────── + ─────────────⎟\n",
       "        ⎝      4               4      ⎠"
      ]
     },
     "execution_count": 10,
     "metadata": {},
     "output_type": "execute_result"
    }
   ],
   "source": [
    "H_01 = H_U - H_0\n",
    "H_01 = drop_terms_containing(H_01, [exp(2 * I * (Delta) * t),\n",
    "                               exp(- 2 * I * (Delta) * t)])\n",
    "H_01 = qsimplify(H_01.expand())\n",
    "H_01 = collect(H_01, [sx])\n",
    "H_01 = collect(H_01, [g / 4])\n",
    "H_01"
   ]
  },
  {
   "cell_type": "code",
   "execution_count": 11,
   "metadata": {
    "collapsed": true
   },
   "outputs": [],
   "source": [
    "# redefine H above\n",
    "H_0_1 = g / 4 * sx * Dagger(a)\n",
    "H_0_m1 = g / 4 * sx * a"
   ]
  },
  {
   "cell_type": "code",
   "execution_count": 12,
   "metadata": {},
   "outputs": [
    {
     "data": {
      "image/png": "[encoded data removed]",
      "text/latex": [
       "$$g \\left(\\frac{{{a}^\\dagger} {\\sigma_+}}{4} e^{2 i \\Delta t} + \\frac{{a} {\\sigma_+}}{4} e^{2 i \\Delta t} + \\frac{{{a}^\\dagger} {\\sigma_-}}{4} e^{- 2 i \\Delta t} + \\frac{{a} {\\sigma_-}}{4} e^{- 2 i \\Delta t}\\right)$$"
      ],
      "text/plain": [
       "  ⎛ 2⋅ⅈ⋅Δ⋅t  †          2⋅ⅈ⋅Δ⋅t            -2⋅ⅈ⋅Δ⋅t  †          -2⋅ⅈ⋅Δ⋅t      \n",
       "  ⎜ℯ       ⋅a ⋅False   ℯ       ⋅a⋅False   ℯ        ⋅a ⋅False   ℯ        ⋅a⋅Fal\n",
       "g⋅⎜───────────────── + ──────────────── + ────────────────── + ───────────────\n",
       "  ⎝        4                  4                   4                    4      \n",
       "\n",
       "  ⎞\n",
       "se⎟\n",
       "──⎟\n",
       "  ⎠"
      ]
     },
     "execution_count": 12,
     "metadata": {},
     "output_type": "execute_result"
    }
   ],
   "source": [
    "H_10 = H_U - H_0\n",
    "H_10 = drop_terms_containing(H_10, [exp(2 * I * (omega_c) * t),\n",
    "                               exp(- 2 * I * (omega_c) * t)])\n",
    "H_temp = H_10.subs(sx,sp+sm).expand()\n",
    "H_temp = H_temp.subs(sy,I * (sm - sp)).expand()\n",
    "H_10 = qsimplify(H_temp.expand())\n",
    "H_10 = collect(H_10, [sx])\n",
    "H_10 = collect(H_10, [g / 4])\n",
    "H_10"
   ]
  },
  {
   "cell_type": "code",
   "execution_count": 13,
   "metadata": {
    "collapsed": true
   },
   "outputs": [],
   "source": [
    "# redefine H above\n",
    "H_1_0 = g / 4 * ((Dagger(a) + a) * sp)\n",
    "H_m1_0 = g / 4 * ((Dagger(a) + a) * sm)"
   ]
  },
  {
   "cell_type": "code",
   "execution_count": 14,
   "metadata": {},
   "outputs": [
    {
     "name": "stderr",
     "output_type": "stream",
     "text": [
      "C:\\Anaconda3\\lib\\site-packages\\sympsi\\qutility.py:482: UserWarning: Too high level or recursion, aborting\n",
      "  warnings.warn(\"Too high level or recursion, aborting\")\n"
     ]
    },
    {
     "data": {
      "image/png": "[encoded data removed]",
      "text/latex": [
       "$$\\frac{g {{a}^\\dagger}}{4} e^{2 i \\Delta t} e^{2 i \\omega_{c} t} {\\sigma_+} + \\frac{g {a}}{4} e^{- 2 i \\Delta t} e^{- 2 i \\omega_{c} t} {\\sigma_-}$$"
      ],
      "text/plain": [
       "   2⋅ⅈ⋅Δ⋅t  2⋅ⅈ⋅ω_c⋅t  †            -2⋅ⅈ⋅Δ⋅t  -2⋅ⅈ⋅ω_c⋅t        \n",
       "g⋅ℯ       ⋅ℯ         ⋅a ⋅False   g⋅ℯ        ⋅ℯ          ⋅a⋅False\n",
       "────────────────────────────── + ───────────────────────────────\n",
       "              4                                 4               "
      ]
     },
     "execution_count": 14,
     "metadata": {},
     "output_type": "execute_result"
    }
   ],
   "source": [
    "H_temp = H_U - H_0 - H_10 - H_01\n",
    "H_temp = H_temp.subs(sx,sp+sm).expand()\n",
    "H_temp = H_temp.subs(sy,I * (sm - sp)).expand()\n",
    "H_temp = drop_terms_containing(H_temp, [exp(2 * I * (omega_c) * t) *  exp(- 2 * I * (Delta) * t),\n",
    "                                       exp(-2 * I * (omega_c) * t) *  exp(2 * I * (Delta) * t)])\n",
    "H_1_1 = qsimplify(H_temp.expand())\n",
    "H_1_1"
   ]
  },
  {
   "cell_type": "code",
   "execution_count": 15,
   "metadata": {
    "collapsed": true
   },
   "outputs": [],
   "source": [
    "# redefine H above\n",
    "H_1_1 = g / 4 * sp  * Dagger(a)\n",
    "H_m1_m1 = g / 4 * sm * a"
   ]
  },
  {
   "cell_type": "code",
   "execution_count": 16,
   "metadata": {},
   "outputs": [
    {
     "name": "stderr",
     "output_type": "stream",
     "text": [
      "C:\\Anaconda3\\lib\\site-packages\\sympsi\\qutility.py:482: UserWarning: Too high level or recursion, aborting\n",
      "  warnings.warn(\"Too high level or recursion, aborting\")\n"
     ]
    },
    {
     "data": {
      "image/png": "[encoded data removed]",
      "text/latex": [
       "$$\\frac{g {a}}{4} e^{2 i \\Delta t} e^{- 2 i \\omega_{c} t} {\\sigma_+} + \\frac{g {{a}^\\dagger}}{4} e^{- 2 i \\Delta t} e^{2 i \\omega_{c} t} {\\sigma_-}$$"
      ],
      "text/plain": [
       "   2⋅ⅈ⋅Δ⋅t  -2⋅ⅈ⋅ω_c⋅t              -2⋅ⅈ⋅Δ⋅t  2⋅ⅈ⋅ω_c⋅t  †      \n",
       "g⋅ℯ       ⋅ℯ          ⋅a⋅False   g⋅ℯ        ⋅ℯ         ⋅a ⋅False\n",
       "────────────────────────────── + ───────────────────────────────\n",
       "              4                                 4               "
      ]
     },
     "execution_count": 16,
     "metadata": {},
     "output_type": "execute_result"
    }
   ],
   "source": [
    "H_temp = H_U - H_0 - H_10 - H_01\n",
    "H_temp = H_temp.subs(sx,sp+sm).expand()\n",
    "H_temp = H_temp.subs(sy,I * (sm - sp)).expand()\n",
    "H_temp = drop_terms_containing(H_temp, [exp(2 * I * (omega_c) * t) *  exp(2 * I * (Delta) * t),\n",
    "                                       exp(-2 * I * (omega_c) * t) *  exp(-2 * I * (Delta) * t)])\n",
    "H_1_m1 = qsimplify(H_temp.expand())\n",
    "H_1_m1"
   ]
  },
  {
   "cell_type": "code",
   "execution_count": 17,
   "metadata": {
    "collapsed": true
   },
   "outputs": [],
   "source": [
    "# redefine H above\n",
    "H_1_m1 = g / 4 * sp * a\n",
    "H_m1_1 = g / 4 * sm * Dagger(a)"
   ]
  },
  {
   "cell_type": "markdown",
   "metadata": {},
   "source": [
    "CHECK VAN VLECK"
   ]
  },
  {
   "cell_type": "code",
   "execution_count": 28,
   "metadata": {},
   "outputs": [
    {
     "data": {
      "image/png": "[encoded data removed]",
      "text/latex": [
       "$$- \\frac{g^{2}}{16}$$"
      ],
      "text/plain": [
       "  2 \n",
       "-g  \n",
       "────\n",
       " 16 "
      ]
     },
     "execution_count": 28,
     "metadata": {},
     "output_type": "execute_result"
    }
   ],
   "source": [
    "comm_a = Commutator(H_0_1, H_0_m1).expand(commutator=True).expand(commutator=True).doit()\n",
    "\n",
    "comm_a"
   ]
  },
  {
   "cell_type": "code",
   "execution_count": 29,
   "metadata": {
    "collapsed": true
   },
   "outputs": [],
   "source": [
    "comm_a = Commutator(H_0_1, H_0_m1).expand(commutator=True).expand(commutator=True).expand(commutator=True).doit()\n",
    "comm_b = Commutator(H_1_0, H_m1_0).expand(commutator=True).expand(commutator=True).expand(commutator=True).doit()\n",
    "comm_c = Commutator(H_1_1, H_m1_m1).expand(commutator=True).expand(commutator=True).expand(commutator=True).doit()\n",
    "comm_d = Commutator(H_1_m1, H_m1_1).expand(commutator=True).expand(commutator=True).expand(commutator=True).doit()"
   ]
  },
  {
   "cell_type": "code",
   "execution_count": 30,
   "metadata": {
    "collapsed": true
   },
   "outputs": [],
   "source": [
    "res = comm_a / (2 * omega_c) + comm_b / (2 * Delta) + comm_c / (2 * Delta + 2 * omega_c) + comm_d / (2 * Delta - 2 * omega_c)"
   ]
  },
  {
   "cell_type": "code",
   "execution_count": 31,
   "metadata": {
    "collapsed": true
   },
   "outputs": [],
   "source": [
    "res_temp = res.subs(sm * sp,1/2* (1-sz)).expand()\n",
    "res_temp =res_temp.subs(sm * sp,1/2* (1-sz)).expand()"
   ]
  },
  {
   "cell_type": "code",
   "execution_count": 32,
   "metadata": {
    "collapsed": true
   },
   "outputs": [],
   "source": [
    "qsimplify(res_temp)\n",
    "res_temp = drop_c_number_terms(res_temp)"
   ]
  },
  {
   "cell_type": "code",
   "execution_count": 33,
   "metadata": {},
   "outputs": [
    {
     "data": {
      "image/png": "[encoded data removed]",
      "text/latex": [
       "$$- \\frac{g^{2} {\\sigma_-} {\\sigma_+}}{32 \\Delta + 32 \\omega_{c}} + \\frac{g^{2} {\\sigma_z} {{a}^\\dagger} {a}}{32 \\Delta + 32 \\omega_{c}} + \\frac{g^{2} {\\sigma_-} {\\sigma_+}}{32 \\Delta - 32 \\omega_{c}} + \\frac{g^{2} {\\sigma_z} {a} {{a}^\\dagger}}{32 \\Delta - 32 \\omega_{c}} + \\frac{g^{2} {{a}^\\dagger} {a} {\\sigma_z}}{32 \\Delta} + \\frac{g^{2} {{a}^\\dagger}^{2} {\\sigma_z}}{32 \\Delta} + \\frac{g^{2} {a} {{a}^\\dagger} {\\sigma_z}}{32 \\Delta} + \\frac{g^{2} {a}^{2} {\\sigma_z}}{32 \\Delta}$$"
      ],
      "text/plain": [
       "                                                                              \n",
       "    2                  2        †         2                  2          †     \n",
       "   g ⋅False⋅False     g ⋅False⋅a ⋅a      g ⋅False⋅False     g ⋅False⋅a⋅a      \n",
       "- ──────────────── + ──────────────── + ──────────────── + ──────────────── + \n",
       "  16⋅(2⋅Δ + 2⋅ω_c)   16⋅(2⋅Δ + 2⋅ω_c)   16⋅(2⋅Δ - 2⋅ω_c)   16⋅(2⋅Δ - 2⋅ω_c)   \n",
       "\n",
       "                       2                                    \n",
       " 2  †            2 ⎛ †⎞           2    †          2  2      \n",
       "g ⋅a ⋅a⋅False   g ⋅⎝a ⎠ ⋅False   g ⋅a⋅a ⋅False   g ⋅a ⋅False\n",
       "───────────── + ────────────── + ───────────── + ───────────\n",
       "     32⋅Δ            32⋅Δ             32⋅Δ           32⋅Δ   "
      ]
     },
     "execution_count": 33,
     "metadata": {},
     "output_type": "execute_result"
    }
   ],
   "source": [
    "collect(res_temp,[sz])\n",
    "collect(res_temp,[sm * sp])"
   ]
  },
  {
   "cell_type": "code",
   "execution_count": 34,
   "metadata": {
    "collapsed": true
   },
   "outputs": [],
   "source": [
    "res_temp = res.subs(sp,1/2 * (sx + I * sy)).expand()\n",
    "res_temp = res.subs(sm,1/2 * (sx - I * sy)).expand()\n",
    "res_temp = drop_c_number_terms(res_temp)"
   ]
  },
  {
   "cell_type": "code",
   "execution_count": 35,
   "metadata": {},
   "outputs": [
    {
     "data": {
      "image/png": "[encoded data removed]",
      "text/latex": [
       "$$g^{2} {\\sigma_z} \\left(\\frac{{{a}^\\dagger} {a}}{32 \\Delta + 32 \\omega_{c}} + \\frac{1}{32 \\Delta - 32 \\omega_{c}} + \\frac{{{a}^\\dagger} {a}}{32 \\Delta - 32 \\omega_{c}} + \\frac{1}{32 \\Delta} + \\frac{{{a}^\\dagger} {a}}{16 \\Delta} + \\frac{{{a}^\\dagger}^{2}}{32 \\Delta} + \\frac{{a}^{2}}{32 \\Delta}\\right) - \\frac{g^{2} {\\sigma_-} {\\sigma_+}}{32 \\Delta + 32 \\omega_{c}} + \\frac{g^{2} {\\sigma_-} {\\sigma_+}}{32 \\Delta - 32 \\omega_{c}}$$"
      ],
      "text/plain": [
       "         ⎛                                                                    \n",
       "         ⎜       †                                     †                   †  \n",
       " 2       ⎜      a ⋅a                1                 a ⋅a          1     a ⋅a\n",
       "g ⋅False⋅⎜──────────────── + ──────────────── + ──────────────── + ──── + ────\n",
       "         ⎝16⋅(2⋅Δ + 2⋅ω_c)   16⋅(2⋅Δ - 2⋅ω_c)   16⋅(2⋅Δ - 2⋅ω_c)   32⋅Δ   16⋅Δ\n",
       "\n",
       "       2       ⎞                                      \n",
       "   ⎛ †⎞      2 ⎟     2                  2             \n",
       "   ⎝a ⎠     a  ⎟    g ⋅False⋅False     g ⋅False⋅False \n",
       " + ───── + ────⎟ - ──────────────── + ────────────────\n",
       "    32⋅Δ   32⋅Δ⎠   16⋅(2⋅Δ + 2⋅ω_c)   16⋅(2⋅Δ - 2⋅ω_c)"
      ]
     },
     "execution_count": 35,
     "metadata": {},
     "output_type": "execute_result"
    }
   ],
   "source": [
    "res_temp = res.subs(a*Dagger(a),1 +Dagger(a)*a ).expand()\n",
    "res_temp = drop_c_number_terms(res_temp)\n",
    "collect(res_temp,[g*sz])"
   ]
  },
  {
   "cell_type": "code",
   "execution_count": 36,
   "metadata": {},
   "outputs": [
    {
     "data": {
      "image/png": "[encoded data removed]",
      "text/latex": [
       "$$g^{2} {\\sigma_z} \\left(\\frac{{{a}^\\dagger} {a}}{32 \\Delta + 32 \\omega_{c}} + \\frac{1}{32 \\Delta - 32 \\omega_{c}} + \\frac{{{a}^\\dagger} {a}}{32 \\Delta - 32 \\omega_{c}} + \\frac{1}{32 \\Delta} + \\frac{{{a}^\\dagger} {a}}{16 \\Delta} + \\frac{{{a}^\\dagger}^{2}}{32 \\Delta} + \\frac{{a}^{2}}{32 \\Delta}\\right) - \\frac{0.015625 i g^{2} {\\sigma_x} {\\sigma_y}}{2 \\Delta + 2 \\omega_{c}} + \\frac{0.015625 i g^{2} {\\sigma_y} {\\sigma_x}}{2 \\Delta + 2 \\omega_{c}} + \\frac{0.015625 i g^{2} {\\sigma_x} {\\sigma_y}}{2 \\Delta - 2 \\omega_{c}} - \\frac{0.015625 i g^{2} {\\sigma_y} {\\sigma_x}}{2 \\Delta - 2 \\omega_{c}}$$"
      ],
      "text/plain": [
       "         ⎛                                                                    \n",
       "         ⎜       †                                     †                   †  \n",
       " 2       ⎜      a ⋅a                1                 a ⋅a          1     a ⋅a\n",
       "g ⋅False⋅⎜──────────────── + ──────────────── + ──────────────── + ──── + ────\n",
       "         ⎝16⋅(2⋅Δ + 2⋅ω_c)   16⋅(2⋅Δ - 2⋅ω_c)   16⋅(2⋅Δ - 2⋅ω_c)   32⋅Δ   16⋅Δ\n",
       "\n",
       "       2       ⎞                                                              \n",
       "   ⎛ †⎞      2 ⎟               2                           2                  \n",
       "   ⎝a ⎠     a  ⎟   0.015625⋅ⅈ⋅g ⋅False⋅False   0.015625⋅ⅈ⋅g ⋅False⋅False   0.0\n",
       " + ───── + ────⎟ - ───────────────────────── + ───────────────────────── + ───\n",
       "    32⋅Δ   32⋅Δ⎠          2⋅Δ + 2⋅ω_c                 2⋅Δ + 2⋅ω_c             \n",
       "\n",
       "                                                  \n",
       "         2                           2            \n",
       "15625⋅ⅈ⋅g ⋅False⋅False   0.015625⋅ⅈ⋅g ⋅False⋅False\n",
       "────────────────────── - ─────────────────────────\n",
       "    2⋅Δ - 2⋅ω_c                 2⋅Δ - 2⋅ω_c       "
      ]
     },
     "execution_count": 36,
     "metadata": {},
     "output_type": "execute_result"
    }
   ],
   "source": [
    "res_temp = res.subs(a*Dagger(a),1+Dagger(a)*a ).expand()\n",
    "res_temp = res_temp.subs(sp,1/2 * (sx + I * sy)).expand()\n",
    "res_temp = res_temp.subs(sm,1/2 * (sx - I * sy)).expand()\n",
    "res_temp = drop_c_number_terms(res_temp)\n",
    "res = collect(res_temp,[g*sz])\n",
    "res"
   ]
  },
  {
   "cell_type": "markdown",
   "metadata": {},
   "source": [
    "CHECK TILTED FRAME"
   ]
  },
  {
   "cell_type": "code",
   "execution_count": 37,
   "metadata": {
    "collapsed": true
   },
   "outputs": [],
   "source": [
    "comm_1 = Commutator(H_0, H_0_1).expand(commutator=True).expand(commutator=True).expand(commutator=True).doit()\n",
    "comm_2 = Commutator(H_0, H_1_0).expand(commutator=True).expand(commutator=True).expand(commutator=True).doit()\n",
    "comm_3 = Commutator(H_0, H_1_1).expand(commutator=True).expand(commutator=True).expand(commutator=True).doit()\n",
    "comm_4 = Commutator(H_0, H_1_m1).expand(commutator=True).expand(commutator=True).expand(commutator=True).doit()\n",
    "\n",
    "comm_5 = Commutator(H_0, H_0_m1).expand(commutator=True).expand(commutator=True).expand(commutator=True).doit()\n",
    "comm_6 = Commutator(H_0, H_m1_0).expand(commutator=True).expand(commutator=True).expand(commutator=True).doit()\n",
    "comm_7 = Commutator(H_0, H_m1_m1).expand(commutator=True).expand(commutator=True).expand(commutator=True).doit()\n",
    "comm_8 = Commutator(H_0, H_m1_1).expand(commutator=True).expand(commutator=True).expand(commutator=True).doit()"
   ]
  },
  {
   "cell_type": "code",
   "execution_count": 38,
   "metadata": {
    "collapsed": true
   },
   "outputs": [],
   "source": [
    "res_2 = comm_1 / (2 * omega_c) + comm_2 / (2 * Delta) + comm_3 / (2 * Delta + 2 * omega_c) + comm_4 / (2 * Delta - 2 * omega_c)\n",
    "res_2 = res_2 - comm_5 / (2 * omega_c) - comm_6 / (2 * Delta) - comm_7 / (2 * Delta + 2 * omega_c) - comm_8 / (2 * Delta - 2 * omega_c)"
   ]
  },
  {
   "cell_type": "code",
   "execution_count": 39,
   "metadata": {},
   "outputs": [
    {
     "data": {
      "image/png": "[encoded data removed]",
      "text/latex": [
       "$$g^{2} {\\sigma_z} \\left(- \\frac{1}{32 \\Delta + 32 \\omega_{c}} - \\frac{{{a}^\\dagger} {a}}{16 \\Delta + 16 \\omega_{c}} - \\frac{{{a}^\\dagger}^{2}}{32 \\Delta + 32 \\omega_{c}} - \\frac{{a}^{2}}{32 \\Delta + 32 \\omega_{c}} - \\frac{1}{32 \\Delta - 32 \\omega_{c}} - \\frac{{{a}^\\dagger} {a}}{16 \\Delta - 16 \\omega_{c}} - \\frac{{{a}^\\dagger}^{2}}{32 \\Delta - 32 \\omega_{c}} - \\frac{{a}^{2}}{32 \\Delta - 32 \\omega_{c}} - \\frac{{{a}^\\dagger} {a}}{16 \\Delta} - \\frac{{{a}^\\dagger}^{2}}{16 \\Delta} - \\frac{{a} {{a}^\\dagger}}{16 \\Delta} - \\frac{{a}^{2}}{16 \\Delta}\\right)$$"
      ],
      "text/plain": [
       "         ⎛                                                2                   \n",
       "         ⎜                            †               ⎛ †⎞                  2 \n",
       " 2       ⎜         1                 a ⋅a             ⎝a ⎠                 a  \n",
       "g ⋅False⋅⎜- ──────────────── - ─────────────── - ──────────────── - ──────────\n",
       "         ⎝  16⋅(2⋅Δ + 2⋅ω_c)   8⋅(2⋅Δ + 2⋅ω_c)   16⋅(2⋅Δ + 2⋅ω_c)   16⋅(2⋅Δ + \n",
       "\n",
       "                                                       2                      \n",
       "                                   †               ⎛ †⎞                  2    \n",
       "                1                 a ⋅a             ⎝a ⎠                 a     \n",
       "────── - ──────────────── - ─────────────── - ──────────────── - ─────────────\n",
       "2⋅ω_c)   16⋅(2⋅Δ - 2⋅ω_c)   8⋅(2⋅Δ - 2⋅ω_c)   16⋅(2⋅Δ - 2⋅ω_c)   16⋅(2⋅Δ - 2⋅ω\n",
       "\n",
       "                 2              ⎞\n",
       "       †     ⎛ †⎞       †     2 ⎟\n",
       "      a ⋅a   ⎝a ⎠    a⋅a     a  ⎟\n",
       "─── - ──── - ───── - ──── - ────⎟\n",
       "_c)   16⋅Δ    16⋅Δ   16⋅Δ   16⋅Δ⎠"
      ]
     },
     "execution_count": 39,
     "metadata": {},
     "output_type": "execute_result"
    }
   ],
   "source": [
    "res_temp_2 = res_2.subs(a*Dagger(a),1+Dagger(a)*a ).expand()\n",
    "res_temp_2 = res_temp_2.subs(sp,1/2 * (sx + I * sy)).expand()\n",
    "res_temp_2 = res_temp_2.subs(sm,1/2 * (sx - I * sy)).expand()\n",
    "res_temp_2 = drop_c_number_terms(res_temp_2)\n",
    "res_2 = collect(res_temp_2,[g*sz])\n",
    "res_2"
   ]
  },
  {
   "cell_type": "markdown",
   "metadata": {},
   "source": [
    "CHECK FULL FINAL HAMILTONIAN"
   ]
  },
  {
   "cell_type": "code",
   "execution_count": 29,
   "metadata": {
    "collapsed": true
   },
   "outputs": [],
   "source": [
    "final = collect(res + res_2,[g * sz])"
   ]
  },
  {
   "cell_type": "code",
   "execution_count": 30,
   "metadata": {},
   "outputs": [
    {
     "data": {
      "image/png": "[encoded data removed]",
      "text/latex": [
       "$$g^{2} {\\sigma_z} \\left(- \\frac{1}{32 \\Delta + 32 \\omega_{c}} + \\frac{{{a}^\\dagger} {a}}{32 \\Delta + 32 \\omega_{c}} - \\frac{\\left({{a}^\\dagger}\\right)^{2}}{32 \\Delta + 32 \\omega_{c}} - \\frac{\\left({a}\\right)^{2}}{32 \\Delta + 32 \\omega_{c}} + \\frac{{{a}^\\dagger} {a}}{32 \\Delta - 32 \\omega_{c}} - \\frac{\\left({{a}^\\dagger}\\right)^{2}}{32 \\Delta - 32 \\omega_{c}} - \\frac{\\left({a}\\right)^{2}}{32 \\Delta - 32 \\omega_{c}} - \\frac{{{a}^\\dagger} {a}}{16 \\Delta + 16 \\omega_{c}} - \\frac{{{a}^\\dagger} {a}}{16 \\Delta - 16 \\omega_{c}} - \\frac{1}{32 \\Delta} - \\frac{{{a}^\\dagger} {a}}{16 \\Delta} - \\frac{\\left({{a}^\\dagger}\\right)^{2}}{32 \\Delta} - \\frac{\\left({a}\\right)^{2}}{32 \\Delta}\\right)$$"
      ],
      "text/plain": [
       "         ⎛                                          2                         \n",
       "         ⎜                        †             ⎛ †⎞               2          \n",
       " 2       ⎜        1              a ⋅a           ⎝a ⎠              a           \n",
       "g ⋅False⋅⎜- ───────────── + ───────────── - ───────────── - ───────────── + ──\n",
       "         ⎝  32⋅Δ + 32⋅ω_c   32⋅Δ + 32⋅ω_c   32⋅Δ + 32⋅ω_c   32⋅Δ + 32⋅ω_c   32\n",
       "\n",
       "                      2                                                       \n",
       "    †             ⎛ †⎞               2              †               †         \n",
       "   a ⋅a           ⎝a ⎠              a              a ⋅a            a ⋅a       \n",
       "─────────── - ───────────── - ───────────── - ───────────── - ───────────── - \n",
       "⋅Δ - 32⋅ω_c   32⋅Δ - 32⋅ω_c   32⋅Δ - 32⋅ω_c   16⋅Δ + 16⋅ω_c   16⋅Δ - 16⋅ω_c   \n",
       "\n",
       "                  2       ⎞\n",
       "        †     ⎛ †⎞      2 ⎟\n",
       " 1     a ⋅a   ⎝a ⎠     a  ⎟\n",
       "──── - ──── - ───── - ────⎟\n",
       "32⋅Δ   16⋅Δ    32⋅Δ   32⋅Δ⎠"
      ]
     },
     "execution_count": 30,
     "metadata": {},
     "output_type": "execute_result"
    }
   ],
   "source": [
    "collect(final.subs(a * Dagger(a),1 + Dagger(a) * a).expand(),[g*sz])"
   ]
  },
  {
   "cell_type": "code",
   "execution_count": 31,
   "metadata": {},
   "outputs": [
    {
     "data": {
      "image/png": "[encoded data removed]",
      "text/latex": [
       "$$- \\frac{3 \\Delta g^{2} \\left({{a}^\\dagger}\\right)^{2} {\\sigma_z}}{32 \\Delta^{2} - 32 \\omega_{c}^{2}} - \\frac{3 \\Delta g^{2} \\left({a}\\right)^{2} {\\sigma_z}}{32 \\Delta^{2} - 32 \\omega_{c}^{2}} - \\frac{\\Delta g^{2} {\\sigma_z}}{16 \\Delta^{2} - 16 \\omega_{c}^{2}} - \\frac{\\Delta g^{2} {{a}^\\dagger} {a} {\\sigma_z}}{8 \\Delta^{2} - 8 \\omega_{c}^{2}} + \\frac{g^{2} \\omega_{c}^{2} \\left({{a}^\\dagger}\\right)^{2} {\\sigma_z}}{32 \\Delta^{3} - 32 \\Delta \\omega_{c}^{2}} + \\frac{g^{2} \\omega_{c}^{2} \\left({a}\\right)^{2} {\\sigma_z}}{32 \\Delta^{3} - 32 \\Delta \\omega_{c}^{2}} + \\frac{g^{2} \\omega_{c}^{2} {\\sigma_z}}{32 \\Delta^{3} - 32 \\Delta \\omega_{c}^{2}} + \\frac{g^{2} \\omega_{c}^{2} {{a}^\\dagger} {a} {\\sigma_z}}{16 \\Delta^{3} - 16 \\Delta \\omega_{c}^{2}} + \\frac{g^{2} \\omega_{c} {\\sigma_z}}{32 \\Delta^{2} - 32 \\omega_{c}^{2}}$$"
      ],
      "text/plain": [
       "             2                                                                \n",
       "       2 ⎛ †⎞               2  2               2              2  †            \n",
       "  3⋅Δ⋅g ⋅⎝a ⎠ ⋅False   3⋅Δ⋅g ⋅a ⋅False      Δ⋅g ⋅False     Δ⋅g ⋅a ⋅a⋅False   g\n",
       "- ────────────────── - ─────────────── - ─────────────── - ─────────────── + ─\n",
       "       2         2         2         2       2         2       2        2     \n",
       "   32⋅Δ  - 32⋅ω_c      32⋅Δ  - 32⋅ω_c    16⋅Δ  - 16⋅ω_c     8⋅Δ  - 8⋅ω_c      \n",
       "\n",
       "           2                                                                  \n",
       "2    2 ⎛ †⎞            2    2  2            2    2            2    2  †       \n",
       " ⋅ω_c ⋅⎝a ⎠ ⋅False    g ⋅ω_c ⋅a ⋅False     g ⋅ω_c ⋅False     g ⋅ω_c ⋅a ⋅a⋅Fals\n",
       "────────────────── + ───────────────── + ───────────────── + ─────────────────\n",
       "    3           2        3           2       3           2       3           2\n",
       "32⋅Δ  - 32⋅Δ⋅ω_c     32⋅Δ  - 32⋅Δ⋅ω_c    32⋅Δ  - 32⋅Δ⋅ω_c    16⋅Δ  - 16⋅Δ⋅ω_c \n",
       "\n",
       "                  \n",
       "      2           \n",
       "e    g ⋅ω_c⋅False \n",
       "─ + ──────────────\n",
       "       ⎛ 2      2⎞\n",
       "    32⋅⎝Δ  - ω_c ⎠"
      ]
     },
     "execution_count": 31,
     "metadata": {},
     "output_type": "execute_result"
    }
   ],
   "source": [
    "qsimplify(simplify(collect(final.subs(a * Dagger(a),1 + Dagger(a) * a).expand(),[g*sz])))"
   ]
  },
  {
   "cell_type": "code",
   "execution_count": 32,
   "metadata": {},
   "outputs": [
    {
     "data": {
      "image/png": "[encoded data removed]",
      "text/latex": [
       "$$- \\frac{g^{2} {\\sigma_z}}{32 \\Delta + 32 \\omega_{c}} + \\left(- \\frac{g^{2}}{32 \\Delta + 32 \\omega_{c}} - \\frac{g^{2}}{32 \\Delta - 32 \\omega_{c}} - \\frac{g^{2}}{32 \\Delta}\\right) \\left({{a}^\\dagger}\\right)^{2} {\\sigma_z} + \\left(- \\frac{g^{2}}{32 \\Delta + 32 \\omega_{c}} - \\frac{g^{2}}{32 \\Delta - 32 \\omega_{c}} - \\frac{g^{2}}{32 \\Delta}\\right) \\left({a}\\right)^{2} {\\sigma_z} + \\left(\\frac{g^{2}}{32 \\Delta + 32 \\omega_{c}} + \\frac{g^{2}}{32 \\Delta - 32 \\omega_{c}} - \\frac{g^{2}}{16 \\Delta + 16 \\omega_{c}} - \\frac{g^{2}}{16 \\Delta - 16 \\omega_{c}} - \\frac{g^{2}}{16 \\Delta}\\right) {{a}^\\dagger} {a} {\\sigma_z} - \\frac{g^{2} {\\sigma_z}}{32 \\Delta}$$"
      ],
      "text/plain": [
       "      2           ⎛         2               2          2 ⎞     2         ⎛    \n",
       "     g ⋅False     ⎜        g               g          g  ⎟ ⎛ †⎞          ⎜    \n",
       "- ───────────── + ⎜- ───────────── - ───────────── - ────⎟⋅⎝a ⎠ ⋅False + ⎜- ──\n",
       "  32⋅Δ + 32⋅ω_c   ⎝  32⋅Δ + 32⋅ω_c   32⋅Δ - 32⋅ω_c   32⋅Δ⎠               ⎝  32\n",
       "\n",
       "     2               2          2 ⎞            ⎛       2               2      \n",
       "    g               g          g  ⎟  2         ⎜      g               g       \n",
       "─────────── - ───────────── - ────⎟⋅a ⋅False + ⎜───────────── + ───────────── \n",
       "⋅Δ + 32⋅ω_c   32⋅Δ - 32⋅ω_c   32⋅Δ⎠            ⎝32⋅Δ + 32⋅ω_c   32⋅Δ - 32⋅ω_c \n",
       "\n",
       "         2               2          2 ⎞               2      \n",
       "        g               g          g  ⎟  †           g ⋅False\n",
       "- ───────────── - ───────────── - ────⎟⋅a ⋅a⋅False - ────────\n",
       "  16⋅Δ + 16⋅ω_c   16⋅Δ - 16⋅ω_c   16⋅Δ⎠                32⋅Δ  "
      ]
     },
     "execution_count": 32,
     "metadata": {},
     "output_type": "execute_result"
    }
   ],
   "source": [
    "collect(final.subs(a * Dagger(a),1 + Dagger(a) * a).expand(),[Dagger(a) * a * sz,a**2 * sz,Dagger(a)**2*sz])"
   ]
  },
  {
   "cell_type": "code",
   "execution_count": null,
   "metadata": {
    "collapsed": true
   },
   "outputs": [],
   "source": []
  }
 ],
 "metadata": {
  "kernelspec": {
   "display_name": "Python [default]",
   "language": "python",
   "name": "python3"
  },
  "language_info": {
   "codemirror_mode": {
    "name": "ipython",
    "version": 3
   },
   "file_extension": ".py",
   "mimetype": "text/x-python",
   "name": "python",
   "nbconvert_exporter": "python",
   "pygments_lexer": "ipython3",
   "version": "3.6.1"
  }
 },
 "nbformat": 4,
 "nbformat_minor": 1
}
